{
 "cells": [
  {
   "cell_type": "markdown",
   "metadata": {},
   "source": [
    "# Constant Demand \n"
   ]
  },
  {
   "cell_type": "code",
   "execution_count": 1,
   "metadata": {},
   "outputs": [],
   "source": [
    "import pandas as pd\n",
    "import plotly.graph_objects as go\n",
    "from datetime import datetime, timedelta"
   ]
  },
  {
   "cell_type": "code",
   "execution_count": 2,
   "metadata": {},
   "outputs": [],
   "source": [
    "df1 = pd.read_csv('../Output-Files/constant-Demand.csv')\n",
    "df2 = pd.read_csv('../Output-Files/linear-Demand.csv')"
   ]
  },
  {
   "cell_type": "code",
   "execution_count": 3,
   "metadata": {},
   "outputs": [],
   "source": [
    "first_batch_ready = 10 # October 2024\n",
    "\n",
    "Red_Wine_1_production_time = 18\n",
    "White_Wine_1_production_time = 3\n",
    "Red_Wine_2_production_time = 27\n",
    "White_Wine_2_production_time = 15\n",
    "\n",
    "start_date = datetime(2024, 1, 1)"
   ]
  },
  {
   "cell_type": "markdown",
   "metadata": {},
   "source": [
    "## Simulation 1"
   ]
  },
  {
   "cell_type": "code",
   "execution_count": 4,
   "metadata": {},
   "outputs": [],
   "source": [
    "# Initialize a new DataFrame to hold the adjusted demands\n",
    "df1_sim1 = df1.copy()\n",
    "\n",
    "# Convert \"Month\" column to datetime for easier comparison\n",
    "df1_sim1[\"Month\"] = pd.to_datetime(df1_sim1[\"Month\"], format=\"%b-%Y\")\n",
    "\n",
    "# Define the readiness date for White and Red wine\n",
    "white_wine_ready_date = datetime(2025, 1, 1)  # Jan 2025\n",
    "red_wine_ready_date = datetime(2026, 4, 1)    # April 2026\n",
    "\n",
    "# Initialize columns for adjusted demands\n",
    "for wine_type in ['Red', 'White']:\n",
    "    for country in [\"Singapore\", \"Thailand\", \"Japan\", \"Korea\", \"Indonesia\"]:\n",
    "        df1_sim1[f\"{wine_type}_{country}\"] = 0.0\n",
    "\n",
    "# Split the demand for Red and White wine\n",
    "for i, row in df1_sim1.iterrows():\n",
    "    current_month = row[\"Month\"]\n",
    "    for country in [\"Singapore\", \"Thailand\", \"Japan\", \"Korea\", \"Indonesia\"]:\n",
    "        # Halve the original demand since 50% demand for each wine type\n",
    "        half_demand = row[country] / 2\n",
    "        \n",
    "        # Adjust demand for White wine if current month is after white wine readiness date\n",
    "        if current_month >= white_wine_ready_date:\n",
    "            df1_sim1.at[i, f\"White_{country}\"] = half_demand\n",
    "            \n",
    "        # Adjust demand for Red wine if current month is after red wine readiness date\n",
    "        if current_month >= red_wine_ready_date:\n",
    "            df1_sim1.at[i, f\"Red_{country}\"] = half_demand\n",
    "\n",
    "# Drop original country columns as they're now split into Red and White demands\n",
    "df1_sim1.drop([\"Singapore\", \"Thailand\", \"Japan\", \"Korea\", \"Indonesia\"], axis=1, inplace=True)\n",
    "\n",
    "# Display a sample of the adjusted DataFrame to verify correctness\n",
    "# df1_sim1\n"
   ]
  },
  {
   "cell_type": "code",
   "execution_count": null,
   "metadata": {},
   "outputs": [],
   "source": []
  },
  {
   "cell_type": "code",
   "execution_count": 5,
   "metadata": {},
   "outputs": [
    {
     "data": {
      "application/vnd.plotly.v1+json": {
       "config": {
        "plotlyServerURL": "https://plot.ly"
       },
       "data": [
        {
         "marker": {
          "color": "red"
         },
         "name": "Red Wine Demand",
         "type": "bar",
         "x": [
          "2024-01",
          "2024-02",
          "2024-03",
          "2024-04",
          "2024-05",
          "2024-06",
          "2024-07",
          "2024-08",
          "2024-09",
          "2024-10",
          "2024-11",
          "2024-12",
          "2025-01",
          "2025-02",
          "2025-03",
          "2025-04",
          "2025-05",
          "2025-06",
          "2025-07",
          "2025-08",
          "2025-09",
          "2025-10",
          "2025-11",
          "2025-12",
          "2026-01",
          "2026-02",
          "2026-03",
          "2026-04",
          "2026-05",
          "2026-06",
          "2026-07",
          "2026-08",
          "2026-09",
          "2026-10",
          "2026-11",
          "2026-12",
          "2027-01",
          "2027-02",
          "2027-03",
          "2027-04",
          "2027-05",
          "2027-06",
          "2027-07",
          "2027-08",
          "2027-09",
          "2027-10",
          "2027-11",
          "2027-12",
          "2028-01",
          "2028-02",
          "2028-03",
          "2028-04",
          "2028-05",
          "2028-06",
          "2028-07",
          "2028-08",
          "2028-09",
          "2028-10",
          "2028-11",
          "2028-12",
          "2029-01",
          "2029-02",
          "2029-03",
          "2029-04",
          "2029-05",
          "2029-06",
          "2029-07",
          "2029-08",
          "2029-09",
          "2029-10",
          "2029-11",
          "2029-12",
          "2030-01",
          "2030-02",
          "2030-03",
          "2030-04",
          "2030-05",
          "2030-06",
          "2030-07",
          "2030-08",
          "2030-09",
          "2030-10",
          "2030-11",
          "2030-12",
          "2031-01",
          "2031-02",
          "2031-03",
          "2031-04",
          "2031-05",
          "2031-06",
          "2031-07",
          "2031-08",
          "2031-09",
          "2031-10",
          "2031-11",
          "2031-12",
          "2032-01",
          "2032-02",
          "2032-03",
          "2032-04",
          "2032-05",
          "2032-06",
          "2032-07",
          "2032-08",
          "2032-09",
          "2032-10",
          "2032-11",
          "2032-12",
          "2033-01",
          "2033-02",
          "2033-03",
          "2033-04",
          "2033-05",
          "2033-06",
          "2033-07",
          "2033-08",
          "2033-09",
          "2033-10",
          "2033-11",
          "2033-12"
         ],
         "y": [
          0,
          0,
          0,
          0,
          0,
          0,
          0,
          0,
          0,
          0,
          0,
          0,
          0,
          0,
          0,
          0,
          0,
          0,
          0,
          0,
          0,
          0,
          0,
          0,
          0,
          0,
          0,
          20.339375,
          20.209615021290247,
          19.85510416666655,
          19.37083333333325,
          18.8865625,
          18.532051645376196,
          18.402291666666546,
          18.532051645376196,
          18.8865625,
          19.37083333333325,
          19.85510416666655,
          20.209615021290247,
          20.339375,
          20.209615021290247,
          19.85510416666655,
          19.37083333333325,
          18.8865625,
          18.532051645376196,
          18.402291666666546,
          18.532051645376196,
          18.8865625,
          19.37083333333325,
          19.85510416666655,
          20.209615021290247,
          20.339375,
          20.209615021290247,
          19.85510416666655,
          19.37083333333325,
          18.8865625,
          18.532051645376196,
          18.402291666666546,
          18.532051645376196,
          18.8865625,
          19.37083333333325,
          19.85510416666655,
          20.209615021290247,
          20.339375,
          20.209615021290247,
          19.85510416666655,
          19.37083333333325,
          18.8865625,
          18.532051645376196,
          18.402291666666546,
          18.532051645376196,
          18.8865625,
          19.37083333333325,
          19.85510416666655,
          20.209615021290247,
          20.339375,
          20.209615021290247,
          19.85510416666655,
          19.37083333333325,
          18.8865625,
          18.532051645376196,
          18.402291666666546,
          18.532051645376196,
          18.8865625,
          19.37083333333325,
          19.85510416666655,
          20.209615021290247,
          20.339375,
          20.209615021290247,
          19.85510416666655,
          19.37083333333325,
          18.8865625,
          18.532051645376196,
          18.402291666666546,
          18.532051645376196,
          18.8865625,
          19.37083333333325,
          19.85510416666655,
          20.209615021290247,
          20.339375,
          20.209615021290247,
          19.85510416666655,
          19.37083333333325,
          18.8865625,
          18.532051645376196,
          18.402291666666546,
          18.532051645376196,
          18.8865625,
          19.37083333333325,
          19.85510416666655,
          20.209615021290247,
          20.339375,
          20.209615021290247,
          19.85510416666655,
          19.37083333333325,
          18.8865625,
          18.532051645376196,
          18.402291666666546,
          18.532051645376196,
          18.8865625
         ]
        },
        {
         "marker": {
          "color": "lightgreen"
         },
         "name": "White Wine Demand",
         "type": "bar",
         "x": [
          "2024-01",
          "2024-02",
          "2024-03",
          "2024-04",
          "2024-05",
          "2024-06",
          "2024-07",
          "2024-08",
          "2024-09",
          "2024-10",
          "2024-11",
          "2024-12",
          "2025-01",
          "2025-02",
          "2025-03",
          "2025-04",
          "2025-05",
          "2025-06",
          "2025-07",
          "2025-08",
          "2025-09",
          "2025-10",
          "2025-11",
          "2025-12",
          "2026-01",
          "2026-02",
          "2026-03",
          "2026-04",
          "2026-05",
          "2026-06",
          "2026-07",
          "2026-08",
          "2026-09",
          "2026-10",
          "2026-11",
          "2026-12",
          "2027-01",
          "2027-02",
          "2027-03",
          "2027-04",
          "2027-05",
          "2027-06",
          "2027-07",
          "2027-08",
          "2027-09",
          "2027-10",
          "2027-11",
          "2027-12",
          "2028-01",
          "2028-02",
          "2028-03",
          "2028-04",
          "2028-05",
          "2028-06",
          "2028-07",
          "2028-08",
          "2028-09",
          "2028-10",
          "2028-11",
          "2028-12",
          "2029-01",
          "2029-02",
          "2029-03",
          "2029-04",
          "2029-05",
          "2029-06",
          "2029-07",
          "2029-08",
          "2029-09",
          "2029-10",
          "2029-11",
          "2029-12",
          "2030-01",
          "2030-02",
          "2030-03",
          "2030-04",
          "2030-05",
          "2030-06",
          "2030-07",
          "2030-08",
          "2030-09",
          "2030-10",
          "2030-11",
          "2030-12",
          "2031-01",
          "2031-02",
          "2031-03",
          "2031-04",
          "2031-05",
          "2031-06",
          "2031-07",
          "2031-08",
          "2031-09",
          "2031-10",
          "2031-11",
          "2031-12",
          "2032-01",
          "2032-02",
          "2032-03",
          "2032-04",
          "2032-05",
          "2032-06",
          "2032-07",
          "2032-08",
          "2032-09",
          "2032-10",
          "2032-11",
          "2032-12",
          "2033-01",
          "2033-02",
          "2033-03",
          "2033-04",
          "2033-05",
          "2033-06",
          "2033-07",
          "2033-08",
          "2033-09",
          "2033-10",
          "2033-11",
          "2033-12"
         ],
         "y": [
          0,
          0,
          0,
          0,
          0,
          0,
          0,
          0,
          0,
          0,
          0,
          0,
          19.37083333333325,
          19.85510416666655,
          20.209615021290247,
          20.339375,
          20.209615021290247,
          19.85510416666655,
          19.37083333333325,
          18.8865625,
          18.532051645376196,
          18.402291666666546,
          18.532051645376196,
          18.8865625,
          19.37083333333325,
          19.85510416666655,
          20.209615021290247,
          20.339375,
          20.209615021290247,
          19.85510416666655,
          19.37083333333325,
          18.8865625,
          18.532051645376196,
          18.402291666666546,
          18.532051645376196,
          18.8865625,
          19.37083333333325,
          19.85510416666655,
          20.209615021290247,
          20.339375,
          20.209615021290247,
          19.85510416666655,
          19.37083333333325,
          18.8865625,
          18.532051645376196,
          18.402291666666546,
          18.532051645376196,
          18.8865625,
          19.37083333333325,
          19.85510416666655,
          20.209615021290247,
          20.339375,
          20.209615021290247,
          19.85510416666655,
          19.37083333333325,
          18.8865625,
          18.532051645376196,
          18.402291666666546,
          18.532051645376196,
          18.8865625,
          19.37083333333325,
          19.85510416666655,
          20.209615021290247,
          20.339375,
          20.209615021290247,
          19.85510416666655,
          19.37083333333325,
          18.8865625,
          18.532051645376196,
          18.402291666666546,
          18.532051645376196,
          18.8865625,
          19.37083333333325,
          19.85510416666655,
          20.209615021290247,
          20.339375,
          20.209615021290247,
          19.85510416666655,
          19.37083333333325,
          18.8865625,
          18.532051645376196,
          18.402291666666546,
          18.532051645376196,
          18.8865625,
          19.37083333333325,
          19.85510416666655,
          20.209615021290247,
          20.339375,
          20.209615021290247,
          19.85510416666655,
          19.37083333333325,
          18.8865625,
          18.532051645376196,
          18.402291666666546,
          18.532051645376196,
          18.8865625,
          19.37083333333325,
          19.85510416666655,
          20.209615021290247,
          20.339375,
          20.209615021290247,
          19.85510416666655,
          19.37083333333325,
          18.8865625,
          18.532051645376196,
          18.402291666666546,
          18.532051645376196,
          18.8865625,
          19.37083333333325,
          19.85510416666655,
          20.209615021290247,
          20.339375,
          20.209615021290247,
          19.85510416666655,
          19.37083333333325,
          18.8865625,
          18.532051645376196,
          18.402291666666546,
          18.532051645376196,
          18.8865625
         ]
        }
       ],
       "layout": {
        "barmode": "stack",
        "template": {
         "data": {
          "bar": [
           {
            "error_x": {
             "color": "#f2f5fa"
            },
            "error_y": {
             "color": "#f2f5fa"
            },
            "marker": {
             "line": {
              "color": "rgb(17,17,17)",
              "width": 0.5
             },
             "pattern": {
              "fillmode": "overlay",
              "size": 10,
              "solidity": 0.2
             }
            },
            "type": "bar"
           }
          ],
          "barpolar": [
           {
            "marker": {
             "line": {
              "color": "rgb(17,17,17)",
              "width": 0.5
             },
             "pattern": {
              "fillmode": "overlay",
              "size": 10,
              "solidity": 0.2
             }
            },
            "type": "barpolar"
           }
          ],
          "carpet": [
           {
            "aaxis": {
             "endlinecolor": "#A2B1C6",
             "gridcolor": "#506784",
             "linecolor": "#506784",
             "minorgridcolor": "#506784",
             "startlinecolor": "#A2B1C6"
            },
            "baxis": {
             "endlinecolor": "#A2B1C6",
             "gridcolor": "#506784",
             "linecolor": "#506784",
             "minorgridcolor": "#506784",
             "startlinecolor": "#A2B1C6"
            },
            "type": "carpet"
           }
          ],
          "choropleth": [
           {
            "colorbar": {
             "outlinewidth": 0,
             "ticks": ""
            },
            "type": "choropleth"
           }
          ],
          "contour": [
           {
            "colorbar": {
             "outlinewidth": 0,
             "ticks": ""
            },
            "colorscale": [
             [
              0,
              "#0d0887"
             ],
             [
              0.1111111111111111,
              "#46039f"
             ],
             [
              0.2222222222222222,
              "#7201a8"
             ],
             [
              0.3333333333333333,
              "#9c179e"
             ],
             [
              0.4444444444444444,
              "#bd3786"
             ],
             [
              0.5555555555555556,
              "#d8576b"
             ],
             [
              0.6666666666666666,
              "#ed7953"
             ],
             [
              0.7777777777777778,
              "#fb9f3a"
             ],
             [
              0.8888888888888888,
              "#fdca26"
             ],
             [
              1,
              "#f0f921"
             ]
            ],
            "type": "contour"
           }
          ],
          "contourcarpet": [
           {
            "colorbar": {
             "outlinewidth": 0,
             "ticks": ""
            },
            "type": "contourcarpet"
           }
          ],
          "heatmap": [
           {
            "colorbar": {
             "outlinewidth": 0,
             "ticks": ""
            },
            "colorscale": [
             [
              0,
              "#0d0887"
             ],
             [
              0.1111111111111111,
              "#46039f"
             ],
             [
              0.2222222222222222,
              "#7201a8"
             ],
             [
              0.3333333333333333,
              "#9c179e"
             ],
             [
              0.4444444444444444,
              "#bd3786"
             ],
             [
              0.5555555555555556,
              "#d8576b"
             ],
             [
              0.6666666666666666,
              "#ed7953"
             ],
             [
              0.7777777777777778,
              "#fb9f3a"
             ],
             [
              0.8888888888888888,
              "#fdca26"
             ],
             [
              1,
              "#f0f921"
             ]
            ],
            "type": "heatmap"
           }
          ],
          "heatmapgl": [
           {
            "colorbar": {
             "outlinewidth": 0,
             "ticks": ""
            },
            "colorscale": [
             [
              0,
              "#0d0887"
             ],
             [
              0.1111111111111111,
              "#46039f"
             ],
             [
              0.2222222222222222,
              "#7201a8"
             ],
             [
              0.3333333333333333,
              "#9c179e"
             ],
             [
              0.4444444444444444,
              "#bd3786"
             ],
             [
              0.5555555555555556,
              "#d8576b"
             ],
             [
              0.6666666666666666,
              "#ed7953"
             ],
             [
              0.7777777777777778,
              "#fb9f3a"
             ],
             [
              0.8888888888888888,
              "#fdca26"
             ],
             [
              1,
              "#f0f921"
             ]
            ],
            "type": "heatmapgl"
           }
          ],
          "histogram": [
           {
            "marker": {
             "pattern": {
              "fillmode": "overlay",
              "size": 10,
              "solidity": 0.2
             }
            },
            "type": "histogram"
           }
          ],
          "histogram2d": [
           {
            "colorbar": {
             "outlinewidth": 0,
             "ticks": ""
            },
            "colorscale": [
             [
              0,
              "#0d0887"
             ],
             [
              0.1111111111111111,
              "#46039f"
             ],
             [
              0.2222222222222222,
              "#7201a8"
             ],
             [
              0.3333333333333333,
              "#9c179e"
             ],
             [
              0.4444444444444444,
              "#bd3786"
             ],
             [
              0.5555555555555556,
              "#d8576b"
             ],
             [
              0.6666666666666666,
              "#ed7953"
             ],
             [
              0.7777777777777778,
              "#fb9f3a"
             ],
             [
              0.8888888888888888,
              "#fdca26"
             ],
             [
              1,
              "#f0f921"
             ]
            ],
            "type": "histogram2d"
           }
          ],
          "histogram2dcontour": [
           {
            "colorbar": {
             "outlinewidth": 0,
             "ticks": ""
            },
            "colorscale": [
             [
              0,
              "#0d0887"
             ],
             [
              0.1111111111111111,
              "#46039f"
             ],
             [
              0.2222222222222222,
              "#7201a8"
             ],
             [
              0.3333333333333333,
              "#9c179e"
             ],
             [
              0.4444444444444444,
              "#bd3786"
             ],
             [
              0.5555555555555556,
              "#d8576b"
             ],
             [
              0.6666666666666666,
              "#ed7953"
             ],
             [
              0.7777777777777778,
              "#fb9f3a"
             ],
             [
              0.8888888888888888,
              "#fdca26"
             ],
             [
              1,
              "#f0f921"
             ]
            ],
            "type": "histogram2dcontour"
           }
          ],
          "mesh3d": [
           {
            "colorbar": {
             "outlinewidth": 0,
             "ticks": ""
            },
            "type": "mesh3d"
           }
          ],
          "parcoords": [
           {
            "line": {
             "colorbar": {
              "outlinewidth": 0,
              "ticks": ""
             }
            },
            "type": "parcoords"
           }
          ],
          "pie": [
           {
            "automargin": true,
            "type": "pie"
           }
          ],
          "scatter": [
           {
            "marker": {
             "line": {
              "color": "#283442"
             }
            },
            "type": "scatter"
           }
          ],
          "scatter3d": [
           {
            "line": {
             "colorbar": {
              "outlinewidth": 0,
              "ticks": ""
             }
            },
            "marker": {
             "colorbar": {
              "outlinewidth": 0,
              "ticks": ""
             }
            },
            "type": "scatter3d"
           }
          ],
          "scattercarpet": [
           {
            "marker": {
             "colorbar": {
              "outlinewidth": 0,
              "ticks": ""
             }
            },
            "type": "scattercarpet"
           }
          ],
          "scattergeo": [
           {
            "marker": {
             "colorbar": {
              "outlinewidth": 0,
              "ticks": ""
             }
            },
            "type": "scattergeo"
           }
          ],
          "scattergl": [
           {
            "marker": {
             "line": {
              "color": "#283442"
             }
            },
            "type": "scattergl"
           }
          ],
          "scattermapbox": [
           {
            "marker": {
             "colorbar": {
              "outlinewidth": 0,
              "ticks": ""
             }
            },
            "type": "scattermapbox"
           }
          ],
          "scatterpolar": [
           {
            "marker": {
             "colorbar": {
              "outlinewidth": 0,
              "ticks": ""
             }
            },
            "type": "scatterpolar"
           }
          ],
          "scatterpolargl": [
           {
            "marker": {
             "colorbar": {
              "outlinewidth": 0,
              "ticks": ""
             }
            },
            "type": "scatterpolargl"
           }
          ],
          "scatterternary": [
           {
            "marker": {
             "colorbar": {
              "outlinewidth": 0,
              "ticks": ""
             }
            },
            "type": "scatterternary"
           }
          ],
          "surface": [
           {
            "colorbar": {
             "outlinewidth": 0,
             "ticks": ""
            },
            "colorscale": [
             [
              0,
              "#0d0887"
             ],
             [
              0.1111111111111111,
              "#46039f"
             ],
             [
              0.2222222222222222,
              "#7201a8"
             ],
             [
              0.3333333333333333,
              "#9c179e"
             ],
             [
              0.4444444444444444,
              "#bd3786"
             ],
             [
              0.5555555555555556,
              "#d8576b"
             ],
             [
              0.6666666666666666,
              "#ed7953"
             ],
             [
              0.7777777777777778,
              "#fb9f3a"
             ],
             [
              0.8888888888888888,
              "#fdca26"
             ],
             [
              1,
              "#f0f921"
             ]
            ],
            "type": "surface"
           }
          ],
          "table": [
           {
            "cells": {
             "fill": {
              "color": "#506784"
             },
             "line": {
              "color": "rgb(17,17,17)"
             }
            },
            "header": {
             "fill": {
              "color": "#2a3f5f"
             },
             "line": {
              "color": "rgb(17,17,17)"
             }
            },
            "type": "table"
           }
          ]
         },
         "layout": {
          "annotationdefaults": {
           "arrowcolor": "#f2f5fa",
           "arrowhead": 0,
           "arrowwidth": 1
          },
          "autotypenumbers": "strict",
          "coloraxis": {
           "colorbar": {
            "outlinewidth": 0,
            "ticks": ""
           }
          },
          "colorscale": {
           "diverging": [
            [
             0,
             "#8e0152"
            ],
            [
             0.1,
             "#c51b7d"
            ],
            [
             0.2,
             "#de77ae"
            ],
            [
             0.3,
             "#f1b6da"
            ],
            [
             0.4,
             "#fde0ef"
            ],
            [
             0.5,
             "#f7f7f7"
            ],
            [
             0.6,
             "#e6f5d0"
            ],
            [
             0.7,
             "#b8e186"
            ],
            [
             0.8,
             "#7fbc41"
            ],
            [
             0.9,
             "#4d9221"
            ],
            [
             1,
             "#276419"
            ]
           ],
           "sequential": [
            [
             0,
             "#0d0887"
            ],
            [
             0.1111111111111111,
             "#46039f"
            ],
            [
             0.2222222222222222,
             "#7201a8"
            ],
            [
             0.3333333333333333,
             "#9c179e"
            ],
            [
             0.4444444444444444,
             "#bd3786"
            ],
            [
             0.5555555555555556,
             "#d8576b"
            ],
            [
             0.6666666666666666,
             "#ed7953"
            ],
            [
             0.7777777777777778,
             "#fb9f3a"
            ],
            [
             0.8888888888888888,
             "#fdca26"
            ],
            [
             1,
             "#f0f921"
            ]
           ],
           "sequentialminus": [
            [
             0,
             "#0d0887"
            ],
            [
             0.1111111111111111,
             "#46039f"
            ],
            [
             0.2222222222222222,
             "#7201a8"
            ],
            [
             0.3333333333333333,
             "#9c179e"
            ],
            [
             0.4444444444444444,
             "#bd3786"
            ],
            [
             0.5555555555555556,
             "#d8576b"
            ],
            [
             0.6666666666666666,
             "#ed7953"
            ],
            [
             0.7777777777777778,
             "#fb9f3a"
            ],
            [
             0.8888888888888888,
             "#fdca26"
            ],
            [
             1,
             "#f0f921"
            ]
           ]
          },
          "colorway": [
           "#636efa",
           "#EF553B",
           "#00cc96",
           "#ab63fa",
           "#FFA15A",
           "#19d3f3",
           "#FF6692",
           "#B6E880",
           "#FF97FF",
           "#FECB52"
          ],
          "font": {
           "color": "#f2f5fa"
          },
          "geo": {
           "bgcolor": "rgb(17,17,17)",
           "lakecolor": "rgb(17,17,17)",
           "landcolor": "rgb(17,17,17)",
           "showlakes": true,
           "showland": true,
           "subunitcolor": "#506784"
          },
          "hoverlabel": {
           "align": "left"
          },
          "hovermode": "closest",
          "mapbox": {
           "style": "dark"
          },
          "paper_bgcolor": "rgb(17,17,17)",
          "plot_bgcolor": "rgb(17,17,17)",
          "polar": {
           "angularaxis": {
            "gridcolor": "#506784",
            "linecolor": "#506784",
            "ticks": ""
           },
           "bgcolor": "rgb(17,17,17)",
           "radialaxis": {
            "gridcolor": "#506784",
            "linecolor": "#506784",
            "ticks": ""
           }
          },
          "scene": {
           "xaxis": {
            "backgroundcolor": "rgb(17,17,17)",
            "gridcolor": "#506784",
            "gridwidth": 2,
            "linecolor": "#506784",
            "showbackground": true,
            "ticks": "",
            "zerolinecolor": "#C8D4E3"
           },
           "yaxis": {
            "backgroundcolor": "rgb(17,17,17)",
            "gridcolor": "#506784",
            "gridwidth": 2,
            "linecolor": "#506784",
            "showbackground": true,
            "ticks": "",
            "zerolinecolor": "#C8D4E3"
           },
           "zaxis": {
            "backgroundcolor": "rgb(17,17,17)",
            "gridcolor": "#506784",
            "gridwidth": 2,
            "linecolor": "#506784",
            "showbackground": true,
            "ticks": "",
            "zerolinecolor": "#C8D4E3"
           }
          },
          "shapedefaults": {
           "line": {
            "color": "#f2f5fa"
           }
          },
          "sliderdefaults": {
           "bgcolor": "#C8D4E3",
           "bordercolor": "rgb(17,17,17)",
           "borderwidth": 1,
           "tickwidth": 0
          },
          "ternary": {
           "aaxis": {
            "gridcolor": "#506784",
            "linecolor": "#506784",
            "ticks": ""
           },
           "baxis": {
            "gridcolor": "#506784",
            "linecolor": "#506784",
            "ticks": ""
           },
           "bgcolor": "rgb(17,17,17)",
           "caxis": {
            "gridcolor": "#506784",
            "linecolor": "#506784",
            "ticks": ""
           }
          },
          "title": {
           "x": 0.05
          },
          "updatemenudefaults": {
           "bgcolor": "#506784",
           "borderwidth": 0
          },
          "xaxis": {
           "automargin": true,
           "gridcolor": "#283442",
           "linecolor": "#506784",
           "ticks": "",
           "title": {
            "standoff": 15
           },
           "zerolinecolor": "#283442",
           "zerolinewidth": 2
          },
          "yaxis": {
           "automargin": true,
           "gridcolor": "#283442",
           "linecolor": "#506784",
           "ticks": "",
           "title": {
            "standoff": 15
           },
           "zerolinecolor": "#283442",
           "zerolinewidth": 2
          }
         }
        },
        "title": {
         "text": "Constant Demand: Monthly Wine Demand Satisfied in Simulation 1"
        },
        "xaxis": {
         "title": {
          "text": "Month-Year"
         },
         "type": "category"
        },
        "yaxis": {
         "title": {
          "text": "Wine Demand Satisfied (in Thousands)"
         }
        }
       }
      }
     },
     "metadata": {},
     "output_type": "display_data"
    }
   ],
   "source": [
    "df = df1_sim1.copy()\n",
    "\n",
    "# Aggregating the total demand for Red and White wine across all months for each country\n",
    "red_columns = [col for col in df.columns if 'Red' in col]\n",
    "white_columns = [col for col in df.columns if 'White' in col]\n",
    "\n",
    "# Summing up the demand for Red and White wine for each country\n",
    "total_red_demand = df[red_columns].sum().sum()\n",
    "total_white_demand = df[white_columns].sum().sum()\n",
    "\n",
    "# Convert 'Month' to datetime for proper sorting and display\n",
    "df['Month'] = pd.to_datetime(df['Month'])\n",
    "\n",
    "# Aggregate monthly total demand for Red and White wine across all countries\n",
    "df['Total_Red_Demand'] = df[red_columns].sum(axis=1)\n",
    "df['Total_White_Demand'] = df[white_columns].sum(axis=1)\n",
    "df['Total_Wine_Demand'] = df['Total_Red_Demand'] + df['Total_White_Demand']\n",
    "\n",
    "# Extracting year-month for the x-axis\n",
    "df['Year_Month'] = df['Month'].dt.strftime('%Y-%m')\n",
    "\n",
    "# Creating separate traces for Red and White wine demand over time\n",
    "fig = go.Figure()\n",
    "\n",
    "# Red wine demand trace\n",
    "fig.add_trace(go.Bar(\n",
    "    x=df['Year_Month'],\n",
    "    y=df['Total_Red_Demand']*1000,\n",
    "    name=\"Red Wine Demand\",\n",
    "    marker_color=\"red\"\n",
    "))\n",
    "\n",
    "# White wine demand trace\n",
    "fig.add_trace(go.Bar(\n",
    "    x=df['Year_Month'],\n",
    "    y=df['Total_White_Demand']*1000,\n",
    "    name=\"White Wine Demand\",\n",
    "    marker_color=\"lightgreen\"\n",
    "))\n",
    "\n",
    "fig.update_layout(\n",
    "    title=\"Constant Demand: Monthly Wine Demand Satisfied in Simulation 1\",\n",
    "    xaxis_title=\"Month-Year\",\n",
    "    yaxis_title=\"Wine Demand Satisfied (in Thousands)\",\n",
    "    xaxis={'type': 'category'},  # Ensures that months are treated as distinct categories\n",
    "    barmode='stack'  # Groups the bars for red and white wine side by side for each month\n",
    ")\n",
    "fig.update_layout(template='plotly_dark')\n",
    "# This setup would allow for filtering by wine type by clicking on the legend items.\n",
    "fig.show()\n"
   ]
  },
  {
   "cell_type": "code",
   "execution_count": 6,
   "metadata": {},
   "outputs": [
    {
     "data": {
      "application/vnd.plotly.v1+json": {
       "config": {
        "plotlyServerURL": "https://plot.ly"
       },
       "data": [
        {
         "marker": {
          "color": "red"
         },
         "mode": "lines",
         "name": "Cumulative Profit: Red Wine",
         "stackgroup": "one",
         "type": "scatter",
         "x": [
          "2024-01",
          "2024-02",
          "2024-03",
          "2024-04",
          "2024-05",
          "2024-06",
          "2024-07",
          "2024-08",
          "2024-09",
          "2024-10",
          "2024-11",
          "2024-12",
          "2025-01",
          "2025-02",
          "2025-03",
          "2025-04",
          "2025-05",
          "2025-06",
          "2025-07",
          "2025-08",
          "2025-09",
          "2025-10",
          "2025-11",
          "2025-12",
          "2026-01",
          "2026-02",
          "2026-03",
          "2026-04",
          "2026-05",
          "2026-06",
          "2026-07",
          "2026-08",
          "2026-09",
          "2026-10",
          "2026-11",
          "2026-12",
          "2027-01",
          "2027-02",
          "2027-03",
          "2027-04",
          "2027-05",
          "2027-06",
          "2027-07",
          "2027-08",
          "2027-09",
          "2027-10",
          "2027-11",
          "2027-12",
          "2028-01",
          "2028-02",
          "2028-03",
          "2028-04",
          "2028-05",
          "2028-06",
          "2028-07",
          "2028-08",
          "2028-09",
          "2028-10",
          "2028-11",
          "2028-12",
          "2029-01",
          "2029-02",
          "2029-03",
          "2029-04",
          "2029-05",
          "2029-06",
          "2029-07",
          "2029-08",
          "2029-09",
          "2029-10",
          "2029-11",
          "2029-12",
          "2030-01",
          "2030-02",
          "2030-03",
          "2030-04",
          "2030-05",
          "2030-06",
          "2030-07",
          "2030-08",
          "2030-09",
          "2030-10",
          "2030-11",
          "2030-12",
          "2031-01",
          "2031-02",
          "2031-03",
          "2031-04",
          "2031-05",
          "2031-06",
          "2031-07",
          "2031-08",
          "2031-09",
          "2031-10",
          "2031-11",
          "2031-12",
          "2032-01",
          "2032-02",
          "2032-03",
          "2032-04",
          "2032-05",
          "2032-06",
          "2032-07",
          "2032-08",
          "2032-09",
          "2032-10",
          "2032-11",
          "2032-12",
          "2033-01",
          "2033-02",
          "2033-03",
          "2033-04",
          "2033-05",
          "2033-06",
          "2033-07",
          "2033-08",
          "2033-09",
          "2033-10",
          "2033-11",
          "2033-12"
         ],
         "y": [
          0,
          0,
          0,
          0,
          0,
          0,
          0,
          0,
          0,
          0,
          0,
          0,
          0,
          0,
          0,
          0,
          0,
          0,
          0,
          0,
          0,
          0,
          0,
          0,
          0,
          0,
          0,
          2.542421875,
          5.0686237526612805,
          7.550511773494599,
          9.971865940161255,
          12.332686252661254,
          14.64919270833328,
          16.949479166666595,
          19.265985622338622,
          21.62680593483862,
          24.048160101505278,
          26.5300481223386,
          29.05624999999988,
          31.59867187499988,
          34.12487375266116,
          36.606761773494476,
          39.02811594016113,
          41.38893625266113,
          43.70544270833315,
          46.00572916666648,
          48.322235622338496,
          50.6830559348385,
          53.10441010150515,
          55.58629812233846,
          58.11249999999975,
          60.654921874999744,
          63.18112375266102,
          65.66301177349435,
          68.08436594016099,
          70.445186252661,
          72.76169270833302,
          75.06197916666633,
          77.37848562233836,
          79.73930593483836,
          82.16066010150502,
          84.64254812233833,
          87.16874999999962,
          89.71117187499962,
          92.2373737526609,
          94.71926177349422,
          97.14061594016088,
          99.50143625266088,
          101.81794270833291,
          104.11822916666621,
          106.43473562233824,
          108.79555593483823,
          111.2169101015049,
          113.69879812233822,
          116.2249999999995,
          118.7674218749995,
          121.29362375266078,
          123.7755117734941,
          126.19686594016078,
          128.55768625266077,
          130.8741927083328,
          133.17447916666615,
          135.49098562233817,
          137.85180593483818,
          140.27316010150483,
          142.75504812233817,
          145.28124999999943,
          147.82367187499946,
          150.34987375266073,
          152.83176177349407,
          155.2531159401607,
          157.61393625266072,
          159.93044270833275,
          162.2307291666661,
          164.54723562233812,
          166.90805593483813,
          169.32941010150478,
          171.81129812233812,
          174.3374999999994,
          176.8799218749994,
          179.40612375266068,
          181.88801177349401,
          184.30936594016066,
          186.6701862526607,
          188.9866927083327,
          191.28697916666604,
          193.60348562233807,
          195.96430593483808,
          198.38566010150475,
          200.86754812233806,
          203.39374999999936,
          205.93617187499936,
          208.46237375266062,
          210.94426177349396,
          213.36561594016064,
          215.72643625266065,
          218.04294270833265,
          220.343229166666,
          222.65973562233802,
          225.02055593483803
         ]
        },
        {
         "marker": {
          "color": "lightgreen"
         },
         "mode": "lines",
         "name": "Cumulative Profit: White Wine",
         "stackgroup": "one",
         "type": "scatter",
         "x": [
          "2024-01",
          "2024-02",
          "2024-03",
          "2024-04",
          "2024-05",
          "2024-06",
          "2024-07",
          "2024-08",
          "2024-09",
          "2024-10",
          "2024-11",
          "2024-12",
          "2025-01",
          "2025-02",
          "2025-03",
          "2025-04",
          "2025-05",
          "2025-06",
          "2025-07",
          "2025-08",
          "2025-09",
          "2025-10",
          "2025-11",
          "2025-12",
          "2026-01",
          "2026-02",
          "2026-03",
          "2026-04",
          "2026-05",
          "2026-06",
          "2026-07",
          "2026-08",
          "2026-09",
          "2026-10",
          "2026-11",
          "2026-12",
          "2027-01",
          "2027-02",
          "2027-03",
          "2027-04",
          "2027-05",
          "2027-06",
          "2027-07",
          "2027-08",
          "2027-09",
          "2027-10",
          "2027-11",
          "2027-12",
          "2028-01",
          "2028-02",
          "2028-03",
          "2028-04",
          "2028-05",
          "2028-06",
          "2028-07",
          "2028-08",
          "2028-09",
          "2028-10",
          "2028-11",
          "2028-12",
          "2029-01",
          "2029-02",
          "2029-03",
          "2029-04",
          "2029-05",
          "2029-06",
          "2029-07",
          "2029-08",
          "2029-09",
          "2029-10",
          "2029-11",
          "2029-12",
          "2030-01",
          "2030-02",
          "2030-03",
          "2030-04",
          "2030-05",
          "2030-06",
          "2030-07",
          "2030-08",
          "2030-09",
          "2030-10",
          "2030-11",
          "2030-12",
          "2031-01",
          "2031-02",
          "2031-03",
          "2031-04",
          "2031-05",
          "2031-06",
          "2031-07",
          "2031-08",
          "2031-09",
          "2031-10",
          "2031-11",
          "2031-12",
          "2032-01",
          "2032-02",
          "2032-03",
          "2032-04",
          "2032-05",
          "2032-06",
          "2032-07",
          "2032-08",
          "2032-09",
          "2032-10",
          "2032-11",
          "2032-12",
          "2033-01",
          "2033-02",
          "2033-03",
          "2033-04",
          "2033-05",
          "2033-06",
          "2033-07",
          "2033-08",
          "2033-09",
          "2033-10",
          "2033-11",
          "2033-12"
         ],
         "y": [
          0,
          0,
          0,
          0,
          0,
          0,
          0,
          0,
          0,
          0,
          0,
          0,
          1.7433749999999921,
          3.5303343749999816,
          5.349199726916104,
          7.179743476916103,
          8.998608828832225,
          10.785568203832215,
          12.528943203832206,
          14.228733828832208,
          15.896618476916064,
          17.552824726916054,
          19.22070937499991,
          20.92049999999991,
          22.663874999999905,
          24.450834374999893,
          26.269699726916016,
          28.100243476916013,
          29.919108828832137,
          31.706068203832125,
          33.44944320383212,
          35.149233828832116,
          36.81711847691597,
          38.47332472691596,
          40.14120937499982,
          41.840999999999816,
          43.58437499999981,
          45.371334374999805,
          47.19019972691592,
          49.02074347691593,
          50.839608828832056,
          52.62656820383204,
          54.36994320383204,
          56.069733828832035,
          57.73761847691589,
          59.393824726915874,
          61.06170937499974,
          62.761499999999735,
          64.50487499999973,
          66.29183437499971,
          68.11069972691584,
          69.94124347691584,
          71.76010882883196,
          73.54706820383196,
          75.29044320383196,
          76.99023382883195,
          78.6581184769158,
          80.31432472691579,
          81.98220937499966,
          83.68199999999965,
          85.42537499999963,
          87.21233437499963,
          89.03119972691576,
          90.86174347691576,
          92.68060882883188,
          94.46756820383187,
          96.21094320383187,
          97.91073382883188,
          99.57861847691574,
          101.23482472691573,
          102.90270937499959,
          104.6024999999996,
          106.3458749999996,
          108.13283437499959,
          109.95169972691572,
          111.78224347691572,
          113.60110882883184,
          115.38806820383184,
          117.13144320383184,
          118.83123382883184,
          120.4991184769157,
          122.1553247269157,
          123.82320937499955,
          125.52299999999957,
          127.26637499999957,
          129.05333437499957,
          130.87219972691568,
          132.70274347691569,
          134.5216088288318,
          136.3085682038318,
          138.0519432038318,
          139.75173382883182,
          141.41961847691567,
          143.07582472691567,
          144.74370937499953,
          146.44349999999952,
          148.18687499999953,
          149.9738343749995,
          151.79269972691566,
          153.62324347691566,
          155.44210882883178,
          157.22906820383176,
          158.97244320383177,
          160.67223382883176,
          162.34011847691562,
          163.99632472691562,
          165.66420937499947,
          167.3639999999995,
          169.1073749999995,
          170.8943343749995,
          172.7131997269156,
          174.5437434769156,
          176.36260882883172,
          178.14956820383173,
          179.89294320383172,
          181.59273382883174,
          183.26061847691562,
          184.9168247269156,
          186.58470937499948,
          188.28449999999947
         ]
        }
       ],
       "layout": {
        "hovermode": "x unified",
        "legend": {
         "orientation": "h",
         "x": 0.9,
         "xanchor": "right",
         "y": 0.1,
         "yanchor": "bottom"
        },
        "template": {
         "data": {
          "bar": [
           {
            "error_x": {
             "color": "#f2f5fa"
            },
            "error_y": {
             "color": "#f2f5fa"
            },
            "marker": {
             "line": {
              "color": "rgb(17,17,17)",
              "width": 0.5
             },
             "pattern": {
              "fillmode": "overlay",
              "size": 10,
              "solidity": 0.2
             }
            },
            "type": "bar"
           }
          ],
          "barpolar": [
           {
            "marker": {
             "line": {
              "color": "rgb(17,17,17)",
              "width": 0.5
             },
             "pattern": {
              "fillmode": "overlay",
              "size": 10,
              "solidity": 0.2
             }
            },
            "type": "barpolar"
           }
          ],
          "carpet": [
           {
            "aaxis": {
             "endlinecolor": "#A2B1C6",
             "gridcolor": "#506784",
             "linecolor": "#506784",
             "minorgridcolor": "#506784",
             "startlinecolor": "#A2B1C6"
            },
            "baxis": {
             "endlinecolor": "#A2B1C6",
             "gridcolor": "#506784",
             "linecolor": "#506784",
             "minorgridcolor": "#506784",
             "startlinecolor": "#A2B1C6"
            },
            "type": "carpet"
           }
          ],
          "choropleth": [
           {
            "colorbar": {
             "outlinewidth": 0,
             "ticks": ""
            },
            "type": "choropleth"
           }
          ],
          "contour": [
           {
            "colorbar": {
             "outlinewidth": 0,
             "ticks": ""
            },
            "colorscale": [
             [
              0,
              "#0d0887"
             ],
             [
              0.1111111111111111,
              "#46039f"
             ],
             [
              0.2222222222222222,
              "#7201a8"
             ],
             [
              0.3333333333333333,
              "#9c179e"
             ],
             [
              0.4444444444444444,
              "#bd3786"
             ],
             [
              0.5555555555555556,
              "#d8576b"
             ],
             [
              0.6666666666666666,
              "#ed7953"
             ],
             [
              0.7777777777777778,
              "#fb9f3a"
             ],
             [
              0.8888888888888888,
              "#fdca26"
             ],
             [
              1,
              "#f0f921"
             ]
            ],
            "type": "contour"
           }
          ],
          "contourcarpet": [
           {
            "colorbar": {
             "outlinewidth": 0,
             "ticks": ""
            },
            "type": "contourcarpet"
           }
          ],
          "heatmap": [
           {
            "colorbar": {
             "outlinewidth": 0,
             "ticks": ""
            },
            "colorscale": [
             [
              0,
              "#0d0887"
             ],
             [
              0.1111111111111111,
              "#46039f"
             ],
             [
              0.2222222222222222,
              "#7201a8"
             ],
             [
              0.3333333333333333,
              "#9c179e"
             ],
             [
              0.4444444444444444,
              "#bd3786"
             ],
             [
              0.5555555555555556,
              "#d8576b"
             ],
             [
              0.6666666666666666,
              "#ed7953"
             ],
             [
              0.7777777777777778,
              "#fb9f3a"
             ],
             [
              0.8888888888888888,
              "#fdca26"
             ],
             [
              1,
              "#f0f921"
             ]
            ],
            "type": "heatmap"
           }
          ],
          "heatmapgl": [
           {
            "colorbar": {
             "outlinewidth": 0,
             "ticks": ""
            },
            "colorscale": [
             [
              0,
              "#0d0887"
             ],
             [
              0.1111111111111111,
              "#46039f"
             ],
             [
              0.2222222222222222,
              "#7201a8"
             ],
             [
              0.3333333333333333,
              "#9c179e"
             ],
             [
              0.4444444444444444,
              "#bd3786"
             ],
             [
              0.5555555555555556,
              "#d8576b"
             ],
             [
              0.6666666666666666,
              "#ed7953"
             ],
             [
              0.7777777777777778,
              "#fb9f3a"
             ],
             [
              0.8888888888888888,
              "#fdca26"
             ],
             [
              1,
              "#f0f921"
             ]
            ],
            "type": "heatmapgl"
           }
          ],
          "histogram": [
           {
            "marker": {
             "pattern": {
              "fillmode": "overlay",
              "size": 10,
              "solidity": 0.2
             }
            },
            "type": "histogram"
           }
          ],
          "histogram2d": [
           {
            "colorbar": {
             "outlinewidth": 0,
             "ticks": ""
            },
            "colorscale": [
             [
              0,
              "#0d0887"
             ],
             [
              0.1111111111111111,
              "#46039f"
             ],
             [
              0.2222222222222222,
              "#7201a8"
             ],
             [
              0.3333333333333333,
              "#9c179e"
             ],
             [
              0.4444444444444444,
              "#bd3786"
             ],
             [
              0.5555555555555556,
              "#d8576b"
             ],
             [
              0.6666666666666666,
              "#ed7953"
             ],
             [
              0.7777777777777778,
              "#fb9f3a"
             ],
             [
              0.8888888888888888,
              "#fdca26"
             ],
             [
              1,
              "#f0f921"
             ]
            ],
            "type": "histogram2d"
           }
          ],
          "histogram2dcontour": [
           {
            "colorbar": {
             "outlinewidth": 0,
             "ticks": ""
            },
            "colorscale": [
             [
              0,
              "#0d0887"
             ],
             [
              0.1111111111111111,
              "#46039f"
             ],
             [
              0.2222222222222222,
              "#7201a8"
             ],
             [
              0.3333333333333333,
              "#9c179e"
             ],
             [
              0.4444444444444444,
              "#bd3786"
             ],
             [
              0.5555555555555556,
              "#d8576b"
             ],
             [
              0.6666666666666666,
              "#ed7953"
             ],
             [
              0.7777777777777778,
              "#fb9f3a"
             ],
             [
              0.8888888888888888,
              "#fdca26"
             ],
             [
              1,
              "#f0f921"
             ]
            ],
            "type": "histogram2dcontour"
           }
          ],
          "mesh3d": [
           {
            "colorbar": {
             "outlinewidth": 0,
             "ticks": ""
            },
            "type": "mesh3d"
           }
          ],
          "parcoords": [
           {
            "line": {
             "colorbar": {
              "outlinewidth": 0,
              "ticks": ""
             }
            },
            "type": "parcoords"
           }
          ],
          "pie": [
           {
            "automargin": true,
            "type": "pie"
           }
          ],
          "scatter": [
           {
            "marker": {
             "line": {
              "color": "#283442"
             }
            },
            "type": "scatter"
           }
          ],
          "scatter3d": [
           {
            "line": {
             "colorbar": {
              "outlinewidth": 0,
              "ticks": ""
             }
            },
            "marker": {
             "colorbar": {
              "outlinewidth": 0,
              "ticks": ""
             }
            },
            "type": "scatter3d"
           }
          ],
          "scattercarpet": [
           {
            "marker": {
             "colorbar": {
              "outlinewidth": 0,
              "ticks": ""
             }
            },
            "type": "scattercarpet"
           }
          ],
          "scattergeo": [
           {
            "marker": {
             "colorbar": {
              "outlinewidth": 0,
              "ticks": ""
             }
            },
            "type": "scattergeo"
           }
          ],
          "scattergl": [
           {
            "marker": {
             "line": {
              "color": "#283442"
             }
            },
            "type": "scattergl"
           }
          ],
          "scattermapbox": [
           {
            "marker": {
             "colorbar": {
              "outlinewidth": 0,
              "ticks": ""
             }
            },
            "type": "scattermapbox"
           }
          ],
          "scatterpolar": [
           {
            "marker": {
             "colorbar": {
              "outlinewidth": 0,
              "ticks": ""
             }
            },
            "type": "scatterpolar"
           }
          ],
          "scatterpolargl": [
           {
            "marker": {
             "colorbar": {
              "outlinewidth": 0,
              "ticks": ""
             }
            },
            "type": "scatterpolargl"
           }
          ],
          "scatterternary": [
           {
            "marker": {
             "colorbar": {
              "outlinewidth": 0,
              "ticks": ""
             }
            },
            "type": "scatterternary"
           }
          ],
          "surface": [
           {
            "colorbar": {
             "outlinewidth": 0,
             "ticks": ""
            },
            "colorscale": [
             [
              0,
              "#0d0887"
             ],
             [
              0.1111111111111111,
              "#46039f"
             ],
             [
              0.2222222222222222,
              "#7201a8"
             ],
             [
              0.3333333333333333,
              "#9c179e"
             ],
             [
              0.4444444444444444,
              "#bd3786"
             ],
             [
              0.5555555555555556,
              "#d8576b"
             ],
             [
              0.6666666666666666,
              "#ed7953"
             ],
             [
              0.7777777777777778,
              "#fb9f3a"
             ],
             [
              0.8888888888888888,
              "#fdca26"
             ],
             [
              1,
              "#f0f921"
             ]
            ],
            "type": "surface"
           }
          ],
          "table": [
           {
            "cells": {
             "fill": {
              "color": "#506784"
             },
             "line": {
              "color": "rgb(17,17,17)"
             }
            },
            "header": {
             "fill": {
              "color": "#2a3f5f"
             },
             "line": {
              "color": "rgb(17,17,17)"
             }
            },
            "type": "table"
           }
          ]
         },
         "layout": {
          "annotationdefaults": {
           "arrowcolor": "#f2f5fa",
           "arrowhead": 0,
           "arrowwidth": 1
          },
          "autotypenumbers": "strict",
          "coloraxis": {
           "colorbar": {
            "outlinewidth": 0,
            "ticks": ""
           }
          },
          "colorscale": {
           "diverging": [
            [
             0,
             "#8e0152"
            ],
            [
             0.1,
             "#c51b7d"
            ],
            [
             0.2,
             "#de77ae"
            ],
            [
             0.3,
             "#f1b6da"
            ],
            [
             0.4,
             "#fde0ef"
            ],
            [
             0.5,
             "#f7f7f7"
            ],
            [
             0.6,
             "#e6f5d0"
            ],
            [
             0.7,
             "#b8e186"
            ],
            [
             0.8,
             "#7fbc41"
            ],
            [
             0.9,
             "#4d9221"
            ],
            [
             1,
             "#276419"
            ]
           ],
           "sequential": [
            [
             0,
             "#0d0887"
            ],
            [
             0.1111111111111111,
             "#46039f"
            ],
            [
             0.2222222222222222,
             "#7201a8"
            ],
            [
             0.3333333333333333,
             "#9c179e"
            ],
            [
             0.4444444444444444,
             "#bd3786"
            ],
            [
             0.5555555555555556,
             "#d8576b"
            ],
            [
             0.6666666666666666,
             "#ed7953"
            ],
            [
             0.7777777777777778,
             "#fb9f3a"
            ],
            [
             0.8888888888888888,
             "#fdca26"
            ],
            [
             1,
             "#f0f921"
            ]
           ],
           "sequentialminus": [
            [
             0,
             "#0d0887"
            ],
            [
             0.1111111111111111,
             "#46039f"
            ],
            [
             0.2222222222222222,
             "#7201a8"
            ],
            [
             0.3333333333333333,
             "#9c179e"
            ],
            [
             0.4444444444444444,
             "#bd3786"
            ],
            [
             0.5555555555555556,
             "#d8576b"
            ],
            [
             0.6666666666666666,
             "#ed7953"
            ],
            [
             0.7777777777777778,
             "#fb9f3a"
            ],
            [
             0.8888888888888888,
             "#fdca26"
            ],
            [
             1,
             "#f0f921"
            ]
           ]
          },
          "colorway": [
           "#636efa",
           "#EF553B",
           "#00cc96",
           "#ab63fa",
           "#FFA15A",
           "#19d3f3",
           "#FF6692",
           "#B6E880",
           "#FF97FF",
           "#FECB52"
          ],
          "font": {
           "color": "#f2f5fa"
          },
          "geo": {
           "bgcolor": "rgb(17,17,17)",
           "lakecolor": "rgb(17,17,17)",
           "landcolor": "rgb(17,17,17)",
           "showlakes": true,
           "showland": true,
           "subunitcolor": "#506784"
          },
          "hoverlabel": {
           "align": "left"
          },
          "hovermode": "closest",
          "mapbox": {
           "style": "dark"
          },
          "paper_bgcolor": "rgb(17,17,17)",
          "plot_bgcolor": "rgb(17,17,17)",
          "polar": {
           "angularaxis": {
            "gridcolor": "#506784",
            "linecolor": "#506784",
            "ticks": ""
           },
           "bgcolor": "rgb(17,17,17)",
           "radialaxis": {
            "gridcolor": "#506784",
            "linecolor": "#506784",
            "ticks": ""
           }
          },
          "scene": {
           "xaxis": {
            "backgroundcolor": "rgb(17,17,17)",
            "gridcolor": "#506784",
            "gridwidth": 2,
            "linecolor": "#506784",
            "showbackground": true,
            "ticks": "",
            "zerolinecolor": "#C8D4E3"
           },
           "yaxis": {
            "backgroundcolor": "rgb(17,17,17)",
            "gridcolor": "#506784",
            "gridwidth": 2,
            "linecolor": "#506784",
            "showbackground": true,
            "ticks": "",
            "zerolinecolor": "#C8D4E3"
           },
           "zaxis": {
            "backgroundcolor": "rgb(17,17,17)",
            "gridcolor": "#506784",
            "gridwidth": 2,
            "linecolor": "#506784",
            "showbackground": true,
            "ticks": "",
            "zerolinecolor": "#C8D4E3"
           }
          },
          "shapedefaults": {
           "line": {
            "color": "#f2f5fa"
           }
          },
          "sliderdefaults": {
           "bgcolor": "#C8D4E3",
           "bordercolor": "rgb(17,17,17)",
           "borderwidth": 1,
           "tickwidth": 0
          },
          "ternary": {
           "aaxis": {
            "gridcolor": "#506784",
            "linecolor": "#506784",
            "ticks": ""
           },
           "baxis": {
            "gridcolor": "#506784",
            "linecolor": "#506784",
            "ticks": ""
           },
           "bgcolor": "rgb(17,17,17)",
           "caxis": {
            "gridcolor": "#506784",
            "linecolor": "#506784",
            "ticks": ""
           }
          },
          "title": {
           "x": 0.05
          },
          "updatemenudefaults": {
           "bgcolor": "#506784",
           "borderwidth": 0
          },
          "xaxis": {
           "automargin": true,
           "gridcolor": "#283442",
           "linecolor": "#506784",
           "ticks": "",
           "title": {
            "standoff": 15
           },
           "zerolinecolor": "#283442",
           "zerolinewidth": 2
          },
          "yaxis": {
           "automargin": true,
           "gridcolor": "#283442",
           "linecolor": "#506784",
           "ticks": "",
           "title": {
            "standoff": 15
           },
           "zerolinecolor": "#283442",
           "zerolinewidth": 2
          }
         }
        },
        "title": {
         "text": "Constant Demand: Expected Profit in Simulation 1"
        },
        "xaxis": {
         "title": {
          "text": "Month"
         },
         "type": "category"
        },
        "yaxis": {
         "title": {
          "text": "Expected Profit in Euros (in Millions)"
         }
        }
       }
      }
     },
     "metadata": {},
     "output_type": "display_data"
    }
   ],
   "source": [
    "# Assuming df is your DataFrame containing the data\n",
    "df = df1_sim1.copy()\n",
    "\n",
    "# Convert 'Month' to datetime for proper sorting and display\n",
    "df['Month'] = pd.to_datetime(df['Month'])\n",
    "\n",
    "# Aggregate monthly total demand for Red and White wine across all countries\n",
    "df['Total_Red_Demand'] = df[red_columns].sum(axis=1)\n",
    "df['Total_White_Demand'] = df[white_columns].sum(axis=1)\n",
    "\n",
    "# Calculate cumulative sum for each type of wine\n",
    "df['Cumulative_Red_Demand'] = df['Total_Red_Demand'].cumsum() * 125 # 'Red_Wine_1': 125,\n",
    "df['Cumulative_White_Demand'] = df['Total_White_Demand'].cumsum() * 90 # 'White_Wine_1': 90,\n",
    "\n",
    "# Extracting year-month for the x-axis\n",
    "df['Year_Month'] = df['Month'].dt.strftime('%Y-%m')\n",
    "\n",
    "# Create a list of months\n",
    "months = list(range(1, len(df) + 1))\n",
    "\n",
    "# Create stacked line plot\n",
    "fig = go.Figure()\n",
    "\n",
    "# Stacked red wine demand\n",
    "fig.add_trace(go.Scatter(\n",
    "    x=df['Year_Month'],\n",
    "    y=df['Cumulative_Red_Demand'],\n",
    "    mode='lines',\n",
    "    name='Cumulative Profit: Red Wine',\n",
    "    stackgroup='one',\n",
    "    marker_color='red'\n",
    "))\n",
    "\n",
    "# Stacked white wine demand\n",
    "fig.add_trace(go.Scatter(\n",
    "    x=df['Year_Month'],\n",
    "    y=df['Cumulative_White_Demand'],\n",
    "    mode='lines',\n",
    "    name='Cumulative Profit: White Wine',\n",
    "    stackgroup='one',\n",
    "    marker_color='lightgreen'\n",
    "    \n",
    "))\n",
    "\n",
    "fig.update_layout(\n",
    "    title=\"Constant Demand: Expected Profit in Simulation 1\",\n",
    "    xaxis_title=\"Month\",\n",
    "    yaxis_title=\"Expected Profit in Euros (in Millions)\",\n",
    "    hovermode=\"x unified\",\n",
    "    xaxis={'type': 'category'},  #\n",
    "    \n",
    ")\n",
    "fig.update_layout(template='plotly_dark')\n",
    "fig.update_layout(\n",
    "    legend=dict(\n",
    "        x=0.9, # Adjusts the x position to be towards the right\n",
    "        y=0.1, # Adjusts the y position to be towards the bottom\n",
    "        orientation=\"h\", # Makes the legend items align horizontally\n",
    "        xanchor='right', # Anchors the legend's right side to the x position\n",
    "        yanchor='bottom' # Anchors the legend's bottom to the y position\n",
    "    )\n",
    ")\n",
    "\n",
    "fig.show()\n"
   ]
  },
  {
   "cell_type": "code",
   "execution_count": null,
   "metadata": {},
   "outputs": [],
   "source": []
  },
  {
   "cell_type": "code",
   "execution_count": null,
   "metadata": {},
   "outputs": [],
   "source": []
  },
  {
   "cell_type": "code",
   "execution_count": null,
   "metadata": {},
   "outputs": [],
   "source": []
  },
  {
   "cell_type": "markdown",
   "metadata": {},
   "source": [
    "## Simulation 2"
   ]
  },
  {
   "cell_type": "code",
   "execution_count": 7,
   "metadata": {},
   "outputs": [],
   "source": [
    "# Initialize a new DataFrame to hold the adjusted demands\n",
    "df1_sim2 = df1.copy()\n",
    "\n",
    "# Convert \"Month\" column to datetime for easier comparison\n",
    "df1_sim2[\"Month\"] = pd.to_datetime(df1_sim2[\"Month\"], format=\"%b-%Y\")\n",
    "\n",
    "# Calculate the readiness dates based on production times\n",
    "white_wine_1_ready_date = start_date + timedelta(days=(first_batch_ready + White_Wine_1_production_time) * 30)\n",
    "red_wine_1_ready_date = start_date + timedelta(days=(first_batch_ready + Red_Wine_1_production_time) * 30)\n",
    "white_wine_2_ready_date = start_date + timedelta(days=(first_batch_ready + White_Wine_2_production_time) * 30)\n",
    "red_wine_2_ready_date = start_date + timedelta(days=(first_batch_ready + Red_Wine_2_production_time) * 30)\n",
    "\n",
    "# Initialize columns for adjusted demands\n",
    "for wine_type in ['Red_1', 'White_1', 'Red_2', 'White_2']:\n",
    "    for country in [\"Singapore\", \"Thailand\", \"Japan\", \"Korea\", \"Indonesia\"]:\n",
    "        df1_sim2[f\"{wine_type}_{country}\"] = 0.0\n",
    "\n",
    "# Split the demand for each wine type\n",
    "for i, row in df1_sim2.iterrows():\n",
    "    current_month = row[\"Month\"]\n",
    "    for country in [\"Singapore\", \"Thailand\", \"Japan\", \"Korea\", \"Indonesia\"]:\n",
    "        original_demand = row[country]\n",
    "        \n",
    "        # Calculate demands for each wine type based on their contributions\n",
    "        demand_red_1 = original_demand * 0.35\n",
    "        demand_white_1 = original_demand * 0.35\n",
    "        demand_red_2 = original_demand * 0.15\n",
    "        demand_white_2 = original_demand * 0.15\n",
    "        \n",
    "        # Adjust demand based on the readiness date of each wine type\n",
    "        if current_month >= white_wine_1_ready_date:\n",
    "            df1_sim2.at[i, f\"White_1_{country}\"] = demand_white_1\n",
    "            \n",
    "        if current_month >= red_wine_1_ready_date:\n",
    "            df1_sim2.at[i, f\"Red_1_{country}\"] = demand_red_1\n",
    "            \n",
    "        if current_month >= white_wine_2_ready_date:\n",
    "            df1_sim2.at[i, f\"White_2_{country}\"] = demand_white_2\n",
    "            \n",
    "        if current_month >= red_wine_2_ready_date:\n",
    "            df1_sim2.at[i, f\"Red_2_{country}\"] = demand_red_2\n",
    "\n",
    "# Drop original country columns as they're now split into specific wine demands\n",
    "df1_sim2.drop([\"Singapore\", \"Thailand\", \"Japan\", \"Korea\", \"Indonesia\"], axis=1, inplace=True)\n",
    "\n",
    "# Display a sample of the adjusted DataFrame to verify correctness\n",
    "# df1_sim2\n"
   ]
  },
  {
   "cell_type": "code",
   "execution_count": 8,
   "metadata": {},
   "outputs": [
    {
     "data": {
      "application/vnd.plotly.v1+json": {
       "config": {
        "plotlyServerURL": "https://plot.ly"
       },
       "data": [
        {
         "marker": {
          "color": "red"
         },
         "name": "Red Wine Demand",
         "type": "bar",
         "x": [
          "2024-01",
          "2024-02",
          "2024-03",
          "2024-04",
          "2024-05",
          "2024-06",
          "2024-07",
          "2024-08",
          "2024-09",
          "2024-10",
          "2024-11",
          "2024-12",
          "2025-01",
          "2025-02",
          "2025-03",
          "2025-04",
          "2025-05",
          "2025-06",
          "2025-07",
          "2025-08",
          "2025-09",
          "2025-10",
          "2025-11",
          "2025-12",
          "2026-01",
          "2026-02",
          "2026-03",
          "2026-04",
          "2026-05",
          "2026-06",
          "2026-07",
          "2026-08",
          "2026-09",
          "2026-10",
          "2026-11",
          "2026-12",
          "2027-01",
          "2027-02",
          "2027-03",
          "2027-04",
          "2027-05",
          "2027-06",
          "2027-07",
          "2027-08",
          "2027-09",
          "2027-10",
          "2027-11",
          "2027-12",
          "2028-01",
          "2028-02",
          "2028-03",
          "2028-04",
          "2028-05",
          "2028-06",
          "2028-07",
          "2028-08",
          "2028-09",
          "2028-10",
          "2028-11",
          "2028-12",
          "2029-01",
          "2029-02",
          "2029-03",
          "2029-04",
          "2029-05",
          "2029-06",
          "2029-07",
          "2029-08",
          "2029-09",
          "2029-10",
          "2029-11",
          "2029-12",
          "2030-01",
          "2030-02",
          "2030-03",
          "2030-04",
          "2030-05",
          "2030-06",
          "2030-07",
          "2030-08",
          "2030-09",
          "2030-10",
          "2030-11",
          "2030-12",
          "2031-01",
          "2031-02",
          "2031-03",
          "2031-04",
          "2031-05",
          "2031-06",
          "2031-07",
          "2031-08",
          "2031-09",
          "2031-10",
          "2031-11",
          "2031-12",
          "2032-01",
          "2032-02",
          "2032-03",
          "2032-04",
          "2032-05",
          "2032-06",
          "2032-07",
          "2032-08",
          "2032-09",
          "2032-10",
          "2032-11",
          "2032-12",
          "2033-01",
          "2033-02",
          "2033-03",
          "2033-04",
          "2033-05",
          "2033-06",
          "2033-07",
          "2033-08",
          "2033-09",
          "2033-10",
          "2033-11",
          "2033-12"
         ],
         "y": [
          0,
          0,
          0,
          0,
          0,
          0,
          0,
          0,
          0,
          0,
          0,
          0,
          0,
          0,
          0,
          0,
          0,
          0,
          0,
          0,
          0,
          0,
          0,
          0,
          0,
          0,
          0,
          0,
          14.146730514903174,
          13.898572916666584,
          13.559583333333274,
          13.220593749999999,
          12.972436151763338,
          12.881604166666584,
          12.972436151763338,
          13.220593749999999,
          13.559583333333274,
          13.898572916666584,
          14.146730514903174,
          14.2375625,
          14.146730514903174,
          13.898572916666584,
          13.559583333333274,
          13.220593749999999,
          12.972436151763338,
          12.881604166666584,
          12.972436151763338,
          13.220593749999999,
          13.559583333333274,
          13.898572916666584,
          14.146730514903174,
          14.2375625,
          14.146730514903174,
          13.898572916666584,
          13.559583333333274,
          13.220593749999999,
          12.972436151763338,
          12.881604166666584,
          12.972436151763338,
          13.220593749999999,
          13.559583333333274,
          13.898572916666584,
          14.146730514903174,
          14.2375625,
          14.146730514903174,
          13.898572916666584,
          13.559583333333274,
          13.220593749999999,
          12.972436151763338,
          12.881604166666584,
          12.972436151763338,
          13.220593749999999,
          13.559583333333274,
          13.898572916666584,
          14.146730514903174,
          14.2375625,
          14.146730514903174,
          13.898572916666584,
          13.559583333333274,
          13.220593749999999,
          12.972436151763338,
          12.881604166666584,
          12.972436151763338,
          13.220593749999999,
          13.559583333333274,
          13.898572916666584,
          14.146730514903174,
          14.2375625,
          14.146730514903174,
          13.898572916666584,
          13.559583333333274,
          13.220593749999999,
          12.972436151763338,
          12.881604166666584,
          12.972436151763338,
          13.220593749999999,
          13.559583333333274,
          13.898572916666584,
          14.146730514903174,
          14.2375625,
          14.146730514903174,
          13.898572916666584,
          13.559583333333274,
          13.220593749999999,
          12.972436151763338,
          12.881604166666584,
          12.972436151763338,
          13.220593749999999,
          13.559583333333274,
          13.898572916666584,
          14.146730514903174,
          14.2375625,
          14.146730514903174,
          13.898572916666584,
          13.559583333333274,
          13.220593749999999,
          12.972436151763338,
          12.881604166666584,
          12.972436151763338,
          13.220593749999999
         ]
        },
        {
         "marker": {
          "color": "lightgreen"
         },
         "name": "White Wine Demand",
         "type": "bar",
         "x": [
          "2024-01",
          "2024-02",
          "2024-03",
          "2024-04",
          "2024-05",
          "2024-06",
          "2024-07",
          "2024-08",
          "2024-09",
          "2024-10",
          "2024-11",
          "2024-12",
          "2025-01",
          "2025-02",
          "2025-03",
          "2025-04",
          "2025-05",
          "2025-06",
          "2025-07",
          "2025-08",
          "2025-09",
          "2025-10",
          "2025-11",
          "2025-12",
          "2026-01",
          "2026-02",
          "2026-03",
          "2026-04",
          "2026-05",
          "2026-06",
          "2026-07",
          "2026-08",
          "2026-09",
          "2026-10",
          "2026-11",
          "2026-12",
          "2027-01",
          "2027-02",
          "2027-03",
          "2027-04",
          "2027-05",
          "2027-06",
          "2027-07",
          "2027-08",
          "2027-09",
          "2027-10",
          "2027-11",
          "2027-12",
          "2028-01",
          "2028-02",
          "2028-03",
          "2028-04",
          "2028-05",
          "2028-06",
          "2028-07",
          "2028-08",
          "2028-09",
          "2028-10",
          "2028-11",
          "2028-12",
          "2029-01",
          "2029-02",
          "2029-03",
          "2029-04",
          "2029-05",
          "2029-06",
          "2029-07",
          "2029-08",
          "2029-09",
          "2029-10",
          "2029-11",
          "2029-12",
          "2030-01",
          "2030-02",
          "2030-03",
          "2030-04",
          "2030-05",
          "2030-06",
          "2030-07",
          "2030-08",
          "2030-09",
          "2030-10",
          "2030-11",
          "2030-12",
          "2031-01",
          "2031-02",
          "2031-03",
          "2031-04",
          "2031-05",
          "2031-06",
          "2031-07",
          "2031-08",
          "2031-09",
          "2031-10",
          "2031-11",
          "2031-12",
          "2032-01",
          "2032-02",
          "2032-03",
          "2032-04",
          "2032-05",
          "2032-06",
          "2032-07",
          "2032-08",
          "2032-09",
          "2032-10",
          "2032-11",
          "2032-12",
          "2033-01",
          "2033-02",
          "2033-03",
          "2033-04",
          "2033-05",
          "2033-06",
          "2033-07",
          "2033-08",
          "2033-09",
          "2033-10",
          "2033-11",
          "2033-12"
         ],
         "y": [
          0,
          0,
          0,
          0,
          0,
          0,
          0,
          0,
          0,
          0,
          0,
          0,
          0,
          13.898572916666584,
          14.146730514903174,
          14.2375625,
          14.146730514903174,
          13.898572916666584,
          13.559583333333274,
          13.220593749999999,
          12.972436151763338,
          12.881604166666584,
          12.972436151763338,
          13.220593749999999,
          13.559583333333274,
          13.898572916666584,
          14.146730514903174,
          14.2375625,
          14.146730514903174,
          13.898572916666584,
          13.559583333333274,
          13.220593749999999,
          12.972436151763338,
          12.881604166666584,
          12.972436151763338,
          13.220593749999999,
          13.559583333333274,
          13.898572916666584,
          14.146730514903174,
          14.2375625,
          14.146730514903174,
          13.898572916666584,
          13.559583333333274,
          13.220593749999999,
          12.972436151763338,
          12.881604166666584,
          12.972436151763338,
          13.220593749999999,
          13.559583333333274,
          13.898572916666584,
          14.146730514903174,
          14.2375625,
          14.146730514903174,
          13.898572916666584,
          13.559583333333274,
          13.220593749999999,
          12.972436151763338,
          12.881604166666584,
          12.972436151763338,
          13.220593749999999,
          13.559583333333274,
          13.898572916666584,
          14.146730514903174,
          14.2375625,
          14.146730514903174,
          13.898572916666584,
          13.559583333333274,
          13.220593749999999,
          12.972436151763338,
          12.881604166666584,
          12.972436151763338,
          13.220593749999999,
          13.559583333333274,
          13.898572916666584,
          14.146730514903174,
          14.2375625,
          14.146730514903174,
          13.898572916666584,
          13.559583333333274,
          13.220593749999999,
          12.972436151763338,
          12.881604166666584,
          12.972436151763338,
          13.220593749999999,
          13.559583333333274,
          13.898572916666584,
          14.146730514903174,
          14.2375625,
          14.146730514903174,
          13.898572916666584,
          13.559583333333274,
          13.220593749999999,
          12.972436151763338,
          12.881604166666584,
          12.972436151763338,
          13.220593749999999,
          13.559583333333274,
          13.898572916666584,
          14.146730514903174,
          14.2375625,
          14.146730514903174,
          13.898572916666584,
          13.559583333333274,
          13.220593749999999,
          12.972436151763338,
          12.881604166666584,
          12.972436151763338,
          13.220593749999999,
          13.559583333333274,
          13.898572916666584,
          14.146730514903174,
          14.2375625,
          14.146730514903174,
          13.898572916666584,
          13.559583333333274,
          13.220593749999999,
          12.972436151763338,
          12.881604166666584,
          12.972436151763338,
          13.220593749999999
         ]
        },
        {
         "marker": {
          "color": "darkred"
         },
         "name": "Red Wine Demand",
         "type": "bar",
         "x": [
          "2024-01",
          "2024-02",
          "2024-03",
          "2024-04",
          "2024-05",
          "2024-06",
          "2024-07",
          "2024-08",
          "2024-09",
          "2024-10",
          "2024-11",
          "2024-12",
          "2025-01",
          "2025-02",
          "2025-03",
          "2025-04",
          "2025-05",
          "2025-06",
          "2025-07",
          "2025-08",
          "2025-09",
          "2025-10",
          "2025-11",
          "2025-12",
          "2026-01",
          "2026-02",
          "2026-03",
          "2026-04",
          "2026-05",
          "2026-06",
          "2026-07",
          "2026-08",
          "2026-09",
          "2026-10",
          "2026-11",
          "2026-12",
          "2027-01",
          "2027-02",
          "2027-03",
          "2027-04",
          "2027-05",
          "2027-06",
          "2027-07",
          "2027-08",
          "2027-09",
          "2027-10",
          "2027-11",
          "2027-12",
          "2028-01",
          "2028-02",
          "2028-03",
          "2028-04",
          "2028-05",
          "2028-06",
          "2028-07",
          "2028-08",
          "2028-09",
          "2028-10",
          "2028-11",
          "2028-12",
          "2029-01",
          "2029-02",
          "2029-03",
          "2029-04",
          "2029-05",
          "2029-06",
          "2029-07",
          "2029-08",
          "2029-09",
          "2029-10",
          "2029-11",
          "2029-12",
          "2030-01",
          "2030-02",
          "2030-03",
          "2030-04",
          "2030-05",
          "2030-06",
          "2030-07",
          "2030-08",
          "2030-09",
          "2030-10",
          "2030-11",
          "2030-12",
          "2031-01",
          "2031-02",
          "2031-03",
          "2031-04",
          "2031-05",
          "2031-06",
          "2031-07",
          "2031-08",
          "2031-09",
          "2031-10",
          "2031-11",
          "2031-12",
          "2032-01",
          "2032-02",
          "2032-03",
          "2032-04",
          "2032-05",
          "2032-06",
          "2032-07",
          "2032-08",
          "2032-09",
          "2032-10",
          "2032-11",
          "2032-12",
          "2033-01",
          "2033-02",
          "2033-03",
          "2033-04",
          "2033-05",
          "2033-06",
          "2033-07",
          "2033-08",
          "2033-09",
          "2033-10",
          "2033-11",
          "2033-12"
         ],
         "y": [
          0,
          0,
          0,
          0,
          0,
          0,
          0,
          0,
          0,
          0,
          0,
          0,
          0,
          0,
          0,
          0,
          0,
          0,
          0,
          0,
          0,
          0,
          0,
          0,
          0,
          0,
          0,
          0,
          0,
          0,
          0,
          0,
          0,
          0,
          0,
          0,
          0,
          5.956531249999965,
          6.062884506387075,
          6.101812499999999,
          6.062884506387075,
          5.956531249999965,
          5.811249999999975,
          5.66596875,
          5.559615493612859,
          5.520687499999965,
          5.559615493612859,
          5.66596875,
          5.811249999999975,
          5.956531249999965,
          6.062884506387075,
          6.101812499999999,
          6.062884506387075,
          5.956531249999965,
          5.811249999999975,
          5.66596875,
          5.559615493612859,
          5.520687499999965,
          5.559615493612859,
          5.66596875,
          5.811249999999975,
          5.956531249999965,
          6.062884506387075,
          6.101812499999999,
          6.062884506387075,
          5.956531249999965,
          5.811249999999975,
          5.66596875,
          5.559615493612859,
          5.520687499999965,
          5.559615493612859,
          5.66596875,
          5.811249999999975,
          5.956531249999965,
          6.062884506387075,
          6.101812499999999,
          6.062884506387075,
          5.956531249999965,
          5.811249999999975,
          5.66596875,
          5.559615493612859,
          5.520687499999965,
          5.559615493612859,
          5.66596875,
          5.811249999999975,
          5.956531249999965,
          6.062884506387075,
          6.101812499999999,
          6.062884506387075,
          5.956531249999965,
          5.811249999999975,
          5.66596875,
          5.559615493612859,
          5.520687499999965,
          5.559615493612859,
          5.66596875,
          5.811249999999975,
          5.956531249999965,
          6.062884506387075,
          6.101812499999999,
          6.062884506387075,
          5.956531249999965,
          5.811249999999975,
          5.66596875,
          5.559615493612859,
          5.520687499999965,
          5.559615493612859,
          5.66596875,
          5.811249999999975,
          5.956531249999965,
          6.062884506387075,
          6.101812499999999,
          6.062884506387075,
          5.956531249999965,
          5.811249999999975,
          5.66596875,
          5.559615493612859,
          5.520687499999965,
          5.559615493612859,
          5.66596875
         ]
        },
        {
         "marker": {
          "color": "green"
         },
         "name": "White Wine Demand",
         "type": "bar",
         "x": [
          "2024-01",
          "2024-02",
          "2024-03",
          "2024-04",
          "2024-05",
          "2024-06",
          "2024-07",
          "2024-08",
          "2024-09",
          "2024-10",
          "2024-11",
          "2024-12",
          "2025-01",
          "2025-02",
          "2025-03",
          "2025-04",
          "2025-05",
          "2025-06",
          "2025-07",
          "2025-08",
          "2025-09",
          "2025-10",
          "2025-11",
          "2025-12",
          "2026-01",
          "2026-02",
          "2026-03",
          "2026-04",
          "2026-05",
          "2026-06",
          "2026-07",
          "2026-08",
          "2026-09",
          "2026-10",
          "2026-11",
          "2026-12",
          "2027-01",
          "2027-02",
          "2027-03",
          "2027-04",
          "2027-05",
          "2027-06",
          "2027-07",
          "2027-08",
          "2027-09",
          "2027-10",
          "2027-11",
          "2027-12",
          "2028-01",
          "2028-02",
          "2028-03",
          "2028-04",
          "2028-05",
          "2028-06",
          "2028-07",
          "2028-08",
          "2028-09",
          "2028-10",
          "2028-11",
          "2028-12",
          "2029-01",
          "2029-02",
          "2029-03",
          "2029-04",
          "2029-05",
          "2029-06",
          "2029-07",
          "2029-08",
          "2029-09",
          "2029-10",
          "2029-11",
          "2029-12",
          "2030-01",
          "2030-02",
          "2030-03",
          "2030-04",
          "2030-05",
          "2030-06",
          "2030-07",
          "2030-08",
          "2030-09",
          "2030-10",
          "2030-11",
          "2030-12",
          "2031-01",
          "2031-02",
          "2031-03",
          "2031-04",
          "2031-05",
          "2031-06",
          "2031-07",
          "2031-08",
          "2031-09",
          "2031-10",
          "2031-11",
          "2031-12",
          "2032-01",
          "2032-02",
          "2032-03",
          "2032-04",
          "2032-05",
          "2032-06",
          "2032-07",
          "2032-08",
          "2032-09",
          "2032-10",
          "2032-11",
          "2032-12",
          "2033-01",
          "2033-02",
          "2033-03",
          "2033-04",
          "2033-05",
          "2033-06",
          "2033-07",
          "2033-08",
          "2033-09",
          "2033-10",
          "2033-11",
          "2033-12"
         ],
         "y": [
          0,
          0,
          0,
          0,
          0,
          0,
          0,
          0,
          0,
          0,
          0,
          0,
          0,
          0,
          0,
          0,
          0,
          0,
          0,
          0,
          0,
          0,
          0,
          0,
          0,
          5.956531249999965,
          6.062884506387075,
          6.101812499999999,
          6.062884506387075,
          5.956531249999965,
          5.811249999999975,
          5.66596875,
          5.559615493612859,
          5.520687499999965,
          5.559615493612859,
          5.66596875,
          5.811249999999975,
          5.956531249999965,
          6.062884506387075,
          6.101812499999999,
          6.062884506387075,
          5.956531249999965,
          5.811249999999975,
          5.66596875,
          5.559615493612859,
          5.520687499999965,
          5.559615493612859,
          5.66596875,
          5.811249999999975,
          5.956531249999965,
          6.062884506387075,
          6.101812499999999,
          6.062884506387075,
          5.956531249999965,
          5.811249999999975,
          5.66596875,
          5.559615493612859,
          5.520687499999965,
          5.559615493612859,
          5.66596875,
          5.811249999999975,
          5.956531249999965,
          6.062884506387075,
          6.101812499999999,
          6.062884506387075,
          5.956531249999965,
          5.811249999999975,
          5.66596875,
          5.559615493612859,
          5.520687499999965,
          5.559615493612859,
          5.66596875,
          5.811249999999975,
          5.956531249999965,
          6.062884506387075,
          6.101812499999999,
          6.062884506387075,
          5.956531249999965,
          5.811249999999975,
          5.66596875,
          5.559615493612859,
          5.520687499999965,
          5.559615493612859,
          5.66596875,
          5.811249999999975,
          5.956531249999965,
          6.062884506387075,
          6.101812499999999,
          6.062884506387075,
          5.956531249999965,
          5.811249999999975,
          5.66596875,
          5.559615493612859,
          5.520687499999965,
          5.559615493612859,
          5.66596875,
          5.811249999999975,
          5.956531249999965,
          6.062884506387075,
          6.101812499999999,
          6.062884506387075,
          5.956531249999965,
          5.811249999999975,
          5.66596875,
          5.559615493612859,
          5.520687499999965,
          5.559615493612859,
          5.66596875,
          5.811249999999975,
          5.956531249999965,
          6.062884506387075,
          6.101812499999999,
          6.062884506387075,
          5.956531249999965,
          5.811249999999975,
          5.66596875,
          5.559615493612859,
          5.520687499999965,
          5.559615493612859,
          5.66596875
         ]
        }
       ],
       "layout": {
        "barmode": "stack",
        "template": {
         "data": {
          "bar": [
           {
            "error_x": {
             "color": "#f2f5fa"
            },
            "error_y": {
             "color": "#f2f5fa"
            },
            "marker": {
             "line": {
              "color": "rgb(17,17,17)",
              "width": 0.5
             },
             "pattern": {
              "fillmode": "overlay",
              "size": 10,
              "solidity": 0.2
             }
            },
            "type": "bar"
           }
          ],
          "barpolar": [
           {
            "marker": {
             "line": {
              "color": "rgb(17,17,17)",
              "width": 0.5
             },
             "pattern": {
              "fillmode": "overlay",
              "size": 10,
              "solidity": 0.2
             }
            },
            "type": "barpolar"
           }
          ],
          "carpet": [
           {
            "aaxis": {
             "endlinecolor": "#A2B1C6",
             "gridcolor": "#506784",
             "linecolor": "#506784",
             "minorgridcolor": "#506784",
             "startlinecolor": "#A2B1C6"
            },
            "baxis": {
             "endlinecolor": "#A2B1C6",
             "gridcolor": "#506784",
             "linecolor": "#506784",
             "minorgridcolor": "#506784",
             "startlinecolor": "#A2B1C6"
            },
            "type": "carpet"
           }
          ],
          "choropleth": [
           {
            "colorbar": {
             "outlinewidth": 0,
             "ticks": ""
            },
            "type": "choropleth"
           }
          ],
          "contour": [
           {
            "colorbar": {
             "outlinewidth": 0,
             "ticks": ""
            },
            "colorscale": [
             [
              0,
              "#0d0887"
             ],
             [
              0.1111111111111111,
              "#46039f"
             ],
             [
              0.2222222222222222,
              "#7201a8"
             ],
             [
              0.3333333333333333,
              "#9c179e"
             ],
             [
              0.4444444444444444,
              "#bd3786"
             ],
             [
              0.5555555555555556,
              "#d8576b"
             ],
             [
              0.6666666666666666,
              "#ed7953"
             ],
             [
              0.7777777777777778,
              "#fb9f3a"
             ],
             [
              0.8888888888888888,
              "#fdca26"
             ],
             [
              1,
              "#f0f921"
             ]
            ],
            "type": "contour"
           }
          ],
          "contourcarpet": [
           {
            "colorbar": {
             "outlinewidth": 0,
             "ticks": ""
            },
            "type": "contourcarpet"
           }
          ],
          "heatmap": [
           {
            "colorbar": {
             "outlinewidth": 0,
             "ticks": ""
            },
            "colorscale": [
             [
              0,
              "#0d0887"
             ],
             [
              0.1111111111111111,
              "#46039f"
             ],
             [
              0.2222222222222222,
              "#7201a8"
             ],
             [
              0.3333333333333333,
              "#9c179e"
             ],
             [
              0.4444444444444444,
              "#bd3786"
             ],
             [
              0.5555555555555556,
              "#d8576b"
             ],
             [
              0.6666666666666666,
              "#ed7953"
             ],
             [
              0.7777777777777778,
              "#fb9f3a"
             ],
             [
              0.8888888888888888,
              "#fdca26"
             ],
             [
              1,
              "#f0f921"
             ]
            ],
            "type": "heatmap"
           }
          ],
          "heatmapgl": [
           {
            "colorbar": {
             "outlinewidth": 0,
             "ticks": ""
            },
            "colorscale": [
             [
              0,
              "#0d0887"
             ],
             [
              0.1111111111111111,
              "#46039f"
             ],
             [
              0.2222222222222222,
              "#7201a8"
             ],
             [
              0.3333333333333333,
              "#9c179e"
             ],
             [
              0.4444444444444444,
              "#bd3786"
             ],
             [
              0.5555555555555556,
              "#d8576b"
             ],
             [
              0.6666666666666666,
              "#ed7953"
             ],
             [
              0.7777777777777778,
              "#fb9f3a"
             ],
             [
              0.8888888888888888,
              "#fdca26"
             ],
             [
              1,
              "#f0f921"
             ]
            ],
            "type": "heatmapgl"
           }
          ],
          "histogram": [
           {
            "marker": {
             "pattern": {
              "fillmode": "overlay",
              "size": 10,
              "solidity": 0.2
             }
            },
            "type": "histogram"
           }
          ],
          "histogram2d": [
           {
            "colorbar": {
             "outlinewidth": 0,
             "ticks": ""
            },
            "colorscale": [
             [
              0,
              "#0d0887"
             ],
             [
              0.1111111111111111,
              "#46039f"
             ],
             [
              0.2222222222222222,
              "#7201a8"
             ],
             [
              0.3333333333333333,
              "#9c179e"
             ],
             [
              0.4444444444444444,
              "#bd3786"
             ],
             [
              0.5555555555555556,
              "#d8576b"
             ],
             [
              0.6666666666666666,
              "#ed7953"
             ],
             [
              0.7777777777777778,
              "#fb9f3a"
             ],
             [
              0.8888888888888888,
              "#fdca26"
             ],
             [
              1,
              "#f0f921"
             ]
            ],
            "type": "histogram2d"
           }
          ],
          "histogram2dcontour": [
           {
            "colorbar": {
             "outlinewidth": 0,
             "ticks": ""
            },
            "colorscale": [
             [
              0,
              "#0d0887"
             ],
             [
              0.1111111111111111,
              "#46039f"
             ],
             [
              0.2222222222222222,
              "#7201a8"
             ],
             [
              0.3333333333333333,
              "#9c179e"
             ],
             [
              0.4444444444444444,
              "#bd3786"
             ],
             [
              0.5555555555555556,
              "#d8576b"
             ],
             [
              0.6666666666666666,
              "#ed7953"
             ],
             [
              0.7777777777777778,
              "#fb9f3a"
             ],
             [
              0.8888888888888888,
              "#fdca26"
             ],
             [
              1,
              "#f0f921"
             ]
            ],
            "type": "histogram2dcontour"
           }
          ],
          "mesh3d": [
           {
            "colorbar": {
             "outlinewidth": 0,
             "ticks": ""
            },
            "type": "mesh3d"
           }
          ],
          "parcoords": [
           {
            "line": {
             "colorbar": {
              "outlinewidth": 0,
              "ticks": ""
             }
            },
            "type": "parcoords"
           }
          ],
          "pie": [
           {
            "automargin": true,
            "type": "pie"
           }
          ],
          "scatter": [
           {
            "marker": {
             "line": {
              "color": "#283442"
             }
            },
            "type": "scatter"
           }
          ],
          "scatter3d": [
           {
            "line": {
             "colorbar": {
              "outlinewidth": 0,
              "ticks": ""
             }
            },
            "marker": {
             "colorbar": {
              "outlinewidth": 0,
              "ticks": ""
             }
            },
            "type": "scatter3d"
           }
          ],
          "scattercarpet": [
           {
            "marker": {
             "colorbar": {
              "outlinewidth": 0,
              "ticks": ""
             }
            },
            "type": "scattercarpet"
           }
          ],
          "scattergeo": [
           {
            "marker": {
             "colorbar": {
              "outlinewidth": 0,
              "ticks": ""
             }
            },
            "type": "scattergeo"
           }
          ],
          "scattergl": [
           {
            "marker": {
             "line": {
              "color": "#283442"
             }
            },
            "type": "scattergl"
           }
          ],
          "scattermapbox": [
           {
            "marker": {
             "colorbar": {
              "outlinewidth": 0,
              "ticks": ""
             }
            },
            "type": "scattermapbox"
           }
          ],
          "scatterpolar": [
           {
            "marker": {
             "colorbar": {
              "outlinewidth": 0,
              "ticks": ""
             }
            },
            "type": "scatterpolar"
           }
          ],
          "scatterpolargl": [
           {
            "marker": {
             "colorbar": {
              "outlinewidth": 0,
              "ticks": ""
             }
            },
            "type": "scatterpolargl"
           }
          ],
          "scatterternary": [
           {
            "marker": {
             "colorbar": {
              "outlinewidth": 0,
              "ticks": ""
             }
            },
            "type": "scatterternary"
           }
          ],
          "surface": [
           {
            "colorbar": {
             "outlinewidth": 0,
             "ticks": ""
            },
            "colorscale": [
             [
              0,
              "#0d0887"
             ],
             [
              0.1111111111111111,
              "#46039f"
             ],
             [
              0.2222222222222222,
              "#7201a8"
             ],
             [
              0.3333333333333333,
              "#9c179e"
             ],
             [
              0.4444444444444444,
              "#bd3786"
             ],
             [
              0.5555555555555556,
              "#d8576b"
             ],
             [
              0.6666666666666666,
              "#ed7953"
             ],
             [
              0.7777777777777778,
              "#fb9f3a"
             ],
             [
              0.8888888888888888,
              "#fdca26"
             ],
             [
              1,
              "#f0f921"
             ]
            ],
            "type": "surface"
           }
          ],
          "table": [
           {
            "cells": {
             "fill": {
              "color": "#506784"
             },
             "line": {
              "color": "rgb(17,17,17)"
             }
            },
            "header": {
             "fill": {
              "color": "#2a3f5f"
             },
             "line": {
              "color": "rgb(17,17,17)"
             }
            },
            "type": "table"
           }
          ]
         },
         "layout": {
          "annotationdefaults": {
           "arrowcolor": "#f2f5fa",
           "arrowhead": 0,
           "arrowwidth": 1
          },
          "autotypenumbers": "strict",
          "coloraxis": {
           "colorbar": {
            "outlinewidth": 0,
            "ticks": ""
           }
          },
          "colorscale": {
           "diverging": [
            [
             0,
             "#8e0152"
            ],
            [
             0.1,
             "#c51b7d"
            ],
            [
             0.2,
             "#de77ae"
            ],
            [
             0.3,
             "#f1b6da"
            ],
            [
             0.4,
             "#fde0ef"
            ],
            [
             0.5,
             "#f7f7f7"
            ],
            [
             0.6,
             "#e6f5d0"
            ],
            [
             0.7,
             "#b8e186"
            ],
            [
             0.8,
             "#7fbc41"
            ],
            [
             0.9,
             "#4d9221"
            ],
            [
             1,
             "#276419"
            ]
           ],
           "sequential": [
            [
             0,
             "#0d0887"
            ],
            [
             0.1111111111111111,
             "#46039f"
            ],
            [
             0.2222222222222222,
             "#7201a8"
            ],
            [
             0.3333333333333333,
             "#9c179e"
            ],
            [
             0.4444444444444444,
             "#bd3786"
            ],
            [
             0.5555555555555556,
             "#d8576b"
            ],
            [
             0.6666666666666666,
             "#ed7953"
            ],
            [
             0.7777777777777778,
             "#fb9f3a"
            ],
            [
             0.8888888888888888,
             "#fdca26"
            ],
            [
             1,
             "#f0f921"
            ]
           ],
           "sequentialminus": [
            [
             0,
             "#0d0887"
            ],
            [
             0.1111111111111111,
             "#46039f"
            ],
            [
             0.2222222222222222,
             "#7201a8"
            ],
            [
             0.3333333333333333,
             "#9c179e"
            ],
            [
             0.4444444444444444,
             "#bd3786"
            ],
            [
             0.5555555555555556,
             "#d8576b"
            ],
            [
             0.6666666666666666,
             "#ed7953"
            ],
            [
             0.7777777777777778,
             "#fb9f3a"
            ],
            [
             0.8888888888888888,
             "#fdca26"
            ],
            [
             1,
             "#f0f921"
            ]
           ]
          },
          "colorway": [
           "#636efa",
           "#EF553B",
           "#00cc96",
           "#ab63fa",
           "#FFA15A",
           "#19d3f3",
           "#FF6692",
           "#B6E880",
           "#FF97FF",
           "#FECB52"
          ],
          "font": {
           "color": "#f2f5fa"
          },
          "geo": {
           "bgcolor": "rgb(17,17,17)",
           "lakecolor": "rgb(17,17,17)",
           "landcolor": "rgb(17,17,17)",
           "showlakes": true,
           "showland": true,
           "subunitcolor": "#506784"
          },
          "hoverlabel": {
           "align": "left"
          },
          "hovermode": "closest",
          "mapbox": {
           "style": "dark"
          },
          "paper_bgcolor": "rgb(17,17,17)",
          "plot_bgcolor": "rgb(17,17,17)",
          "polar": {
           "angularaxis": {
            "gridcolor": "#506784",
            "linecolor": "#506784",
            "ticks": ""
           },
           "bgcolor": "rgb(17,17,17)",
           "radialaxis": {
            "gridcolor": "#506784",
            "linecolor": "#506784",
            "ticks": ""
           }
          },
          "scene": {
           "xaxis": {
            "backgroundcolor": "rgb(17,17,17)",
            "gridcolor": "#506784",
            "gridwidth": 2,
            "linecolor": "#506784",
            "showbackground": true,
            "ticks": "",
            "zerolinecolor": "#C8D4E3"
           },
           "yaxis": {
            "backgroundcolor": "rgb(17,17,17)",
            "gridcolor": "#506784",
            "gridwidth": 2,
            "linecolor": "#506784",
            "showbackground": true,
            "ticks": "",
            "zerolinecolor": "#C8D4E3"
           },
           "zaxis": {
            "backgroundcolor": "rgb(17,17,17)",
            "gridcolor": "#506784",
            "gridwidth": 2,
            "linecolor": "#506784",
            "showbackground": true,
            "ticks": "",
            "zerolinecolor": "#C8D4E3"
           }
          },
          "shapedefaults": {
           "line": {
            "color": "#f2f5fa"
           }
          },
          "sliderdefaults": {
           "bgcolor": "#C8D4E3",
           "bordercolor": "rgb(17,17,17)",
           "borderwidth": 1,
           "tickwidth": 0
          },
          "ternary": {
           "aaxis": {
            "gridcolor": "#506784",
            "linecolor": "#506784",
            "ticks": ""
           },
           "baxis": {
            "gridcolor": "#506784",
            "linecolor": "#506784",
            "ticks": ""
           },
           "bgcolor": "rgb(17,17,17)",
           "caxis": {
            "gridcolor": "#506784",
            "linecolor": "#506784",
            "ticks": ""
           }
          },
          "title": {
           "x": 0.05
          },
          "updatemenudefaults": {
           "bgcolor": "#506784",
           "borderwidth": 0
          },
          "xaxis": {
           "automargin": true,
           "gridcolor": "#283442",
           "linecolor": "#506784",
           "ticks": "",
           "title": {
            "standoff": 15
           },
           "zerolinecolor": "#283442",
           "zerolinewidth": 2
          },
          "yaxis": {
           "automargin": true,
           "gridcolor": "#283442",
           "linecolor": "#506784",
           "ticks": "",
           "title": {
            "standoff": 15
           },
           "zerolinecolor": "#283442",
           "zerolinewidth": 2
          }
         }
        },
        "title": {
         "text": "Constant Demand: Monthly Wine Demand Satisfied in Simulation 2"
        },
        "xaxis": {
         "title": {
          "text": "Month-Year"
         },
         "type": "category"
        },
        "yaxis": {
         "title": {
          "text": "Wine Demand Satisfied (in Thousands)"
         }
        }
       }
      }
     },
     "metadata": {},
     "output_type": "display_data"
    }
   ],
   "source": [
    "df = df1_sim2.copy()\n",
    "\n",
    "# Aggregating the total demand for Red and White wine across all months for each country\n",
    "red_columns_1 = [col for col in df.columns if 'Red_1' in col]\n",
    "white_columns_1 = [col for col in df.columns if 'White_1' in col]\n",
    "red_columns_2 = [col for col in df.columns if 'Red_2' in col]\n",
    "white_columns_2 = [col for col in df.columns if 'White_2' in col]\n",
    "\n",
    "# Summing up the demand for Red and White wine for each country\n",
    "total_red_demand_1 = df[red_columns_1].sum().sum()\n",
    "total_white_demand_1 = df[white_columns_1].sum().sum()\n",
    "total_red_demand_2 = df[red_columns_2].sum().sum()\n",
    "total_white_demand_2 = df[white_columns_2].sum().sum()\n",
    "\n",
    "# Convert 'Month' to datetime for proper sorting and display\n",
    "df['Month'] = pd.to_datetime(df['Month'])\n",
    "\n",
    "# Aggregate monthly total demand for Red and White wine across all countries\n",
    "df['Total_Red_Demand_1'] = df[red_columns_1].sum(axis=1)\n",
    "df['Total_White_Demand_1'] = df[white_columns_1].sum(axis=1)\n",
    "df['Total_Red_Demand_2'] = df[red_columns_2].sum(axis=1)\n",
    "df['Total_White_Demand_2'] = df[white_columns_2].sum(axis=1)\n",
    "\n",
    "df['Total_Wine_Demand'] = df['Total_Red_Demand_1'] + df['Total_White_Demand_1'] + df['Total_Red_Demand_2'] + df['Total_White_Demand_2']\n",
    "\n",
    "# Extracting year-month for the x-axis\n",
    "df['Year_Month'] = df['Month'].dt.strftime('%Y-%m')\n",
    "\n",
    "# Creating separate traces for Red and White wine demand over time\n",
    "fig = go.Figure()\n",
    "\n",
    "# Red wine demand trace\n",
    "fig.add_trace(go.Bar(\n",
    "    x=df['Year_Month'],\n",
    "    y=df['Total_Red_Demand_1']*1000,\n",
    "    name=\"Red Wine Demand\",\n",
    "    marker_color=\"red\"\n",
    "))\n",
    "\n",
    "# White wine demand trace\n",
    "fig.add_trace(go.Bar(\n",
    "    x=df['Year_Month'],\n",
    "    y=df['Total_White_Demand_1']*1000,\n",
    "    name=\"White Wine Demand\",\n",
    "    marker_color=\"lightgreen\"\n",
    "))\n",
    "\n",
    "# Red wine demand trace\n",
    "fig.add_trace(go.Bar(\n",
    "    x=df['Year_Month'],\n",
    "    y=df['Total_Red_Demand_2']*1000,\n",
    "    name=\"Red Wine Demand\",\n",
    "    marker_color=\"darkred\"\n",
    "))\n",
    "\n",
    "# White wine demand trace\n",
    "fig.add_trace(go.Bar(\n",
    "    x=df['Year_Month'],\n",
    "    y=df['Total_White_Demand_2']*1000,\n",
    "    name=\"White Wine Demand\",\n",
    "    marker_color=\"green\"\n",
    "))\n",
    "\n",
    "fig.update_layout(\n",
    "    title=\"Constant Demand: Monthly Wine Demand Satisfied in Simulation 2\",\n",
    "    xaxis_title=\"Month-Year\",\n",
    "    yaxis_title=\"Wine Demand Satisfied (in Thousands)\",\n",
    "    xaxis={'type': 'category'},  # Ensures that months are treated as distinct categories\n",
    "    barmode='stack'  # Groups the bars for red and white wine side by side for each month\n",
    ")\n",
    "fig.update_layout(template='plotly_dark')\n",
    "\n",
    "# This setup would allow for filtering by wine type by clicking on the legend items.\n",
    "fig.show()\n"
   ]
  },
  {
   "cell_type": "code",
   "execution_count": 9,
   "metadata": {},
   "outputs": [
    {
     "data": {
      "application/vnd.plotly.v1+json": {
       "config": {
        "plotlyServerURL": "https://plot.ly"
       },
       "data": [
        {
         "line": {
          "color": "red"
         },
         "mode": "lines",
         "name": "Cumulative Profit: Red Wine 1",
         "stackgroup": "one",
         "type": "scatter",
         "x": [
          "2024-01",
          "2024-02",
          "2024-03",
          "2024-04",
          "2024-05",
          "2024-06",
          "2024-07",
          "2024-08",
          "2024-09",
          "2024-10",
          "2024-11",
          "2024-12",
          "2025-01",
          "2025-02",
          "2025-03",
          "2025-04",
          "2025-05",
          "2025-06",
          "2025-07",
          "2025-08",
          "2025-09",
          "2025-10",
          "2025-11",
          "2025-12",
          "2026-01",
          "2026-02",
          "2026-03",
          "2026-04",
          "2026-05",
          "2026-06",
          "2026-07",
          "2026-08",
          "2026-09",
          "2026-10",
          "2026-11",
          "2026-12",
          "2027-01",
          "2027-02",
          "2027-03",
          "2027-04",
          "2027-05",
          "2027-06",
          "2027-07",
          "2027-08",
          "2027-09",
          "2027-10",
          "2027-11",
          "2027-12",
          "2028-01",
          "2028-02",
          "2028-03",
          "2028-04",
          "2028-05",
          "2028-06",
          "2028-07",
          "2028-08",
          "2028-09",
          "2028-10",
          "2028-11",
          "2028-12",
          "2029-01",
          "2029-02",
          "2029-03",
          "2029-04",
          "2029-05",
          "2029-06",
          "2029-07",
          "2029-08",
          "2029-09",
          "2029-10",
          "2029-11",
          "2029-12",
          "2030-01",
          "2030-02",
          "2030-03",
          "2030-04",
          "2030-05",
          "2030-06",
          "2030-07",
          "2030-08",
          "2030-09",
          "2030-10",
          "2030-11",
          "2030-12",
          "2031-01",
          "2031-02",
          "2031-03",
          "2031-04",
          "2031-05",
          "2031-06",
          "2031-07",
          "2031-08",
          "2031-09",
          "2031-10",
          "2031-11",
          "2031-12",
          "2032-01",
          "2032-02",
          "2032-03",
          "2032-04",
          "2032-05",
          "2032-06",
          "2032-07",
          "2032-08",
          "2032-09",
          "2032-10",
          "2032-11",
          "2032-12",
          "2033-01",
          "2033-02",
          "2033-03",
          "2033-04",
          "2033-05",
          "2033-06",
          "2033-07",
          "2033-08",
          "2033-09",
          "2033-10",
          "2033-11",
          "2033-12"
         ],
         "y": [
          0,
          0,
          0,
          0,
          0,
          0,
          0,
          0,
          0,
          0,
          0,
          0,
          0,
          0,
          0,
          0,
          0,
          0,
          0,
          0,
          0,
          0,
          0,
          0,
          0,
          0,
          0,
          0,
          1.7683413143628968,
          3.50566292894622,
          5.2006108456128795,
          6.853185064362879,
          8.474739583333298,
          10.08494010416662,
          11.706494623137038,
          13.359068841887037,
          15.054016758553697,
          16.79133837313702,
          18.559679687499916,
          20.339374999999915,
          22.10771631436281,
          23.845037928946134,
          25.539985845612794,
          27.192560064362794,
          28.81411458333321,
          30.424315104166535,
          32.04586962313695,
          33.69844384188695,
          35.39339175855361,
          37.130713373136935,
          38.89905468749983,
          40.67874999999983,
          42.44709131436273,
          44.18441292894605,
          45.879360845612716,
          47.53193506436271,
          49.15348958333313,
          50.76369010416645,
          52.38524462313687,
          54.037818841886875,
          55.73276675855354,
          57.47008837313686,
          59.23842968749975,
          61.018124999999756,
          62.78646631436266,
          64.52378792894599,
          66.21873584561266,
          67.87131006436265,
          69.49286458333306,
          71.10306510416639,
          72.72461962313682,
          74.37719384188681,
          76.07214175855347,
          77.8094633731368,
          79.5778046874997,
          81.35749999999969,
          83.1258413143626,
          84.86316292894593,
          86.55811084561259,
          88.21068506436258,
          89.832239583333,
          91.44244010416632,
          93.06399462313675,
          94.71656884188674,
          96.4115167585534,
          98.14883837313673,
          99.91717968749964,
          101.69687499999964,
          103.46521631436254,
          105.20253792894586,
          106.89748584561252,
          108.55006006436253,
          110.17161458333294,
          111.78181510416627,
          113.40336962313668,
          115.05594384188667,
          116.75089175855334,
          118.48821337313667,
          120.25655468749957,
          122.03624999999957,
          123.80459131436247,
          125.54191292894579,
          127.23686084561245,
          128.88943506436246,
          130.51098958333287,
          132.1211901041662,
          133.74274462313662,
          135.39531884188662,
          137.0902667585533,
          138.82758837313662,
          140.5959296874995,
          142.3756249999995,
          144.14396631436242,
          145.8812879289457,
          147.5762358456124,
          149.2288100643624,
          150.8503645833328,
          152.46056510416614,
          154.08211962313655,
          155.73469384188658
         ]
        },
        {
         "line": {
          "color": "lightgreen"
         },
         "mode": "lines",
         "name": "Cumulative Profit: White Wine 1",
         "stackgroup": "one",
         "type": "scatter",
         "x": [
          "2024-01",
          "2024-02",
          "2024-03",
          "2024-04",
          "2024-05",
          "2024-06",
          "2024-07",
          "2024-08",
          "2024-09",
          "2024-10",
          "2024-11",
          "2024-12",
          "2025-01",
          "2025-02",
          "2025-03",
          "2025-04",
          "2025-05",
          "2025-06",
          "2025-07",
          "2025-08",
          "2025-09",
          "2025-10",
          "2025-11",
          "2025-12",
          "2026-01",
          "2026-02",
          "2026-03",
          "2026-04",
          "2026-05",
          "2026-06",
          "2026-07",
          "2026-08",
          "2026-09",
          "2026-10",
          "2026-11",
          "2026-12",
          "2027-01",
          "2027-02",
          "2027-03",
          "2027-04",
          "2027-05",
          "2027-06",
          "2027-07",
          "2027-08",
          "2027-09",
          "2027-10",
          "2027-11",
          "2027-12",
          "2028-01",
          "2028-02",
          "2028-03",
          "2028-04",
          "2028-05",
          "2028-06",
          "2028-07",
          "2028-08",
          "2028-09",
          "2028-10",
          "2028-11",
          "2028-12",
          "2029-01",
          "2029-02",
          "2029-03",
          "2029-04",
          "2029-05",
          "2029-06",
          "2029-07",
          "2029-08",
          "2029-09",
          "2029-10",
          "2029-11",
          "2029-12",
          "2030-01",
          "2030-02",
          "2030-03",
          "2030-04",
          "2030-05",
          "2030-06",
          "2030-07",
          "2030-08",
          "2030-09",
          "2030-10",
          "2030-11",
          "2030-12",
          "2031-01",
          "2031-02",
          "2031-03",
          "2031-04",
          "2031-05",
          "2031-06",
          "2031-07",
          "2031-08",
          "2031-09",
          "2031-10",
          "2031-11",
          "2031-12",
          "2032-01",
          "2032-02",
          "2032-03",
          "2032-04",
          "2032-05",
          "2032-06",
          "2032-07",
          "2032-08",
          "2032-09",
          "2032-10",
          "2032-11",
          "2032-12",
          "2033-01",
          "2033-02",
          "2033-03",
          "2033-04",
          "2033-05",
          "2033-06",
          "2033-07",
          "2033-08",
          "2033-09",
          "2033-10",
          "2033-11",
          "2033-12"
         ],
         "y": [
          0,
          0,
          0,
          0,
          0,
          0,
          0,
          0,
          0,
          0,
          0,
          0,
          0,
          1.2508715624999927,
          2.5240773088412785,
          3.8054579338412777,
          5.078663680182563,
          6.329535242682557,
          7.5498977426825515,
          8.739751180182552,
          9.907270433841251,
          11.066614808841244,
          12.234134062499946,
          13.423987499999946,
          14.64434999999994,
          15.895221562499932,
          17.168427308841217,
          18.449807933841218,
          19.7230136801825,
          20.973885242682492,
          22.19424774268249,
          23.384101180182487,
          24.55162043384119,
          25.71096480884118,
          26.878484062499883,
          28.068337499999885,
          29.28869999999988,
          30.539571562499873,
          31.812777308841156,
          33.09415793384116,
          34.36736368018244,
          35.61823524268244,
          36.83859774268243,
          38.02845118018244,
          39.19597043384113,
          40.35531480884113,
          41.522834062499825,
          42.71268749999983,
          43.933049999999824,
          45.18392156249982,
          46.45712730884111,
          47.738507933841106,
          49.011713680182396,
          50.2625852426824,
          51.48294774268239,
          52.67280118018239,
          53.84032043384109,
          54.99966480884108,
          56.167184062499786,
          57.357037499999784,
          58.57739999999978,
          59.82827156249978,
          61.10147730884107,
          62.382857933841066,
          63.656063680182356,
          64.90693524268235,
          66.12729774268234,
          67.31715118018235,
          68.48467043384105,
          69.64401480884104,
          70.81153406249975,
          72.00138749999974,
          73.22174999999973,
          74.47262156249973,
          75.74582730884102,
          77.02720793384101,
          78.3004136801823,
          79.55128524268231,
          80.7716477426823,
          81.9615011801823,
          83.129020433841,
          84.288364808841,
          85.45588406249969,
          86.6457374999997,
          87.86609999999969,
          89.11697156249969,
          90.39017730884096,
          91.67155793384096,
          92.94476368018225,
          94.19563524268224,
          95.41599774268224,
          96.60585118018224,
          97.77337043384094,
          98.93271480884094,
          100.10023406249964,
          101.29008749999964,
          102.51044999999965,
          103.76132156249963,
          105.03452730884092,
          106.31590793384092,
          107.58911368018221,
          108.83998524268219,
          110.0603477426822,
          111.2502011801822,
          112.4177204338409,
          113.5770648088409,
          114.7445840624996,
          115.9344374999996,
          117.1547999999996,
          118.40567156249959,
          119.67887730884088,
          120.96025793384088,
          122.23346368018217,
          123.48433524268215,
          124.70469774268214,
          125.89455118018215,
          127.06207043384086,
          128.22141480884085,
          129.38893406249954,
          130.57878749999955
         ]
        },
        {
         "line": {
          "color": "darkred"
         },
         "mode": "lines",
         "name": "Cumulative Profit: Red Wine 2",
         "stackgroup": "one",
         "type": "scatter",
         "x": [
          "2024-01",
          "2024-02",
          "2024-03",
          "2024-04",
          "2024-05",
          "2024-06",
          "2024-07",
          "2024-08",
          "2024-09",
          "2024-10",
          "2024-11",
          "2024-12",
          "2025-01",
          "2025-02",
          "2025-03",
          "2025-04",
          "2025-05",
          "2025-06",
          "2025-07",
          "2025-08",
          "2025-09",
          "2025-10",
          "2025-11",
          "2025-12",
          "2026-01",
          "2026-02",
          "2026-03",
          "2026-04",
          "2026-05",
          "2026-06",
          "2026-07",
          "2026-08",
          "2026-09",
          "2026-10",
          "2026-11",
          "2026-12",
          "2027-01",
          "2027-02",
          "2027-03",
          "2027-04",
          "2027-05",
          "2027-06",
          "2027-07",
          "2027-08",
          "2027-09",
          "2027-10",
          "2027-11",
          "2027-12",
          "2028-01",
          "2028-02",
          "2028-03",
          "2028-04",
          "2028-05",
          "2028-06",
          "2028-07",
          "2028-08",
          "2028-09",
          "2028-10",
          "2028-11",
          "2028-12",
          "2029-01",
          "2029-02",
          "2029-03",
          "2029-04",
          "2029-05",
          "2029-06",
          "2029-07",
          "2029-08",
          "2029-09",
          "2029-10",
          "2029-11",
          "2029-12",
          "2030-01",
          "2030-02",
          "2030-03",
          "2030-04",
          "2030-05",
          "2030-06",
          "2030-07",
          "2030-08",
          "2030-09",
          "2030-10",
          "2030-11",
          "2030-12",
          "2031-01",
          "2031-02",
          "2031-03",
          "2031-04",
          "2031-05",
          "2031-06",
          "2031-07",
          "2031-08",
          "2031-09",
          "2031-10",
          "2031-11",
          "2031-12",
          "2032-01",
          "2032-02",
          "2032-03",
          "2032-04",
          "2032-05",
          "2032-06",
          "2032-07",
          "2032-08",
          "2032-09",
          "2032-10",
          "2032-11",
          "2032-12",
          "2033-01",
          "2033-02",
          "2033-03",
          "2033-04",
          "2033-05",
          "2033-06",
          "2033-07",
          "2033-08",
          "2033-09",
          "2033-10",
          "2033-11",
          "2033-12"
         ],
         "y": [
          0,
          0,
          0,
          0,
          0,
          0,
          0,
          0,
          0,
          0,
          0,
          0,
          0,
          0,
          0,
          0,
          0,
          0,
          0,
          0,
          0,
          0,
          0,
          0,
          0,
          0,
          0,
          0,
          0,
          0,
          0,
          0,
          0,
          0,
          0,
          0,
          0,
          1.5486981249999907,
          3.1250480966606298,
          4.71151934666063,
          6.28786931832127,
          7.836567443321261,
          9.347492443321254,
          10.820644318321255,
          12.2661443466606,
          13.70152309666059,
          15.147023124999935,
          16.620174999999936,
          18.13109999999993,
          19.67979812499992,
          21.25614809666056,
          22.84261934666056,
          24.4189693183212,
          25.96766744332119,
          27.478592443321183,
          28.951744318321182,
          30.39724434666053,
          31.83262309666052,
          33.27812312499986,
          34.75127499999986,
          36.26219999999985,
          37.81089812499984,
          39.38724809666048,
          40.973719346660474,
          42.55006931832111,
          44.0987674433211,
          45.60969244332109,
          47.08284431832109,
          48.52834434666043,
          49.96372309666042,
          51.40922312499976,
          52.88237499999976,
          54.393299999999755,
          55.94199812499974,
          57.518348096660375,
          59.10481934666038,
          60.68116931832101,
          62.229867443321005,
          63.74079244332099,
          65.213944318321,
          66.65944434666032,
          68.09482309666032,
          69.54032312499966,
          71.01347499999966,
          72.52439999999966,
          74.07309812499965,
          75.6494480966603,
          77.2359193466603,
          78.81226931832094,
          80.36096744332093,
          81.87189244332093,
          83.34504431832092,
          84.79054434666025,
          86.22592309666024,
          87.67142312499958,
          89.14457499999958,
          90.65549999999958,
          92.20419812499956,
          93.7805480966602,
          95.36701934666021,
          96.94336931832085,
          98.49206744332083,
          100.00299244332084,
          101.47614431832083,
          102.92164434666017,
          104.35702309666016,
          105.8025231249995,
          107.27567499999948,
          108.78659999999948,
          110.33529812499947,
          111.91164809666012,
          113.49811934666012,
          115.07446931832077,
          116.62316744332075,
          118.13409244332075,
          119.60724431832074,
          121.05274434666008,
          122.48812309666006,
          123.9336231249994,
          125.4067749999994
         ]
        },
        {
         "line": {
          "color": "green"
         },
         "mode": "lines",
         "name": "Cumulative Profit: White Wine 2",
         "stackgroup": "one",
         "type": "scatter",
         "x": [
          "2024-01",
          "2024-02",
          "2024-03",
          "2024-04",
          "2024-05",
          "2024-06",
          "2024-07",
          "2024-08",
          "2024-09",
          "2024-10",
          "2024-11",
          "2024-12",
          "2025-01",
          "2025-02",
          "2025-03",
          "2025-04",
          "2025-05",
          "2025-06",
          "2025-07",
          "2025-08",
          "2025-09",
          "2025-10",
          "2025-11",
          "2025-12",
          "2026-01",
          "2026-02",
          "2026-03",
          "2026-04",
          "2026-05",
          "2026-06",
          "2026-07",
          "2026-08",
          "2026-09",
          "2026-10",
          "2026-11",
          "2026-12",
          "2027-01",
          "2027-02",
          "2027-03",
          "2027-04",
          "2027-05",
          "2027-06",
          "2027-07",
          "2027-08",
          "2027-09",
          "2027-10",
          "2027-11",
          "2027-12",
          "2028-01",
          "2028-02",
          "2028-03",
          "2028-04",
          "2028-05",
          "2028-06",
          "2028-07",
          "2028-08",
          "2028-09",
          "2028-10",
          "2028-11",
          "2028-12",
          "2029-01",
          "2029-02",
          "2029-03",
          "2029-04",
          "2029-05",
          "2029-06",
          "2029-07",
          "2029-08",
          "2029-09",
          "2029-10",
          "2029-11",
          "2029-12",
          "2030-01",
          "2030-02",
          "2030-03",
          "2030-04",
          "2030-05",
          "2030-06",
          "2030-07",
          "2030-08",
          "2030-09",
          "2030-10",
          "2030-11",
          "2030-12",
          "2031-01",
          "2031-02",
          "2031-03",
          "2031-04",
          "2031-05",
          "2031-06",
          "2031-07",
          "2031-08",
          "2031-09",
          "2031-10",
          "2031-11",
          "2031-12",
          "2032-01",
          "2032-02",
          "2032-03",
          "2032-04",
          "2032-05",
          "2032-06",
          "2032-07",
          "2032-08",
          "2032-09",
          "2032-10",
          "2032-11",
          "2032-12",
          "2033-01",
          "2033-02",
          "2033-03",
          "2033-04",
          "2033-05",
          "2033-06",
          "2033-07",
          "2033-08",
          "2033-09",
          "2033-10",
          "2033-11",
          "2033-12"
         ],
         "y": [
          0,
          0,
          0,
          0,
          0,
          0,
          0,
          0,
          0,
          0,
          0,
          0,
          0,
          0,
          0,
          0,
          0,
          0,
          0,
          0,
          0,
          0,
          0,
          0,
          0,
          1.191306249999993,
          2.4038831512774075,
          3.624245651277408,
          4.836822552554823,
          6.028128802554816,
          7.190378802554812,
          8.323572552554811,
          9.435495651277384,
          10.539633151277378,
          11.65155624999995,
          12.784749999999951,
          13.946999999999946,
          15.138306249999939,
          16.350883151277355,
          17.571245651277355,
          18.783822552554767,
          19.97512880255476,
          21.137378802554757,
          22.270572552554757,
          23.38249565127733,
          24.486633151277324,
          25.598556249999895,
          26.73174999999989,
          27.893999999999885,
          29.085306249999874,
          30.29788315127729,
          31.518245651277287,
          32.7308225525547,
          33.92212880255469,
          35.08437880255468,
          36.217572552554685,
          37.329495651277256,
          38.43363315127725,
          39.54555624999982,
          40.678749999999816,
          41.84099999999981,
          43.0323062499998,
          44.244883151277214,
          45.465245651277215,
          46.67782255255462,
          47.86912880255462,
          49.031378802554606,
          50.16457255255461,
          51.27649565127717,
          52.380633151277166,
          53.49255624999974,
          54.62574999999974,
          55.78799999999974,
          56.97930624999973,
          58.191883151277146,
          59.41224565127715,
          60.62482255255457,
          61.81612880255456,
          62.97837880255456,
          64.11157255255455,
          65.22349565127712,
          66.32763315127711,
          67.43955624999968,
          68.57274999999967,
          69.73499999999967,
          70.92630624999966,
          72.13888315127707,
          73.35924565127708,
          74.5718225525545,
          75.76312880255449,
          76.92537880255449,
          78.05857255255448,
          79.17049565127705,
          80.27463315127704,
          81.38655624999961,
          82.5197499999996,
          83.6819999999996,
          84.87330624999959,
          86.08588315127702,
          87.30624565127701,
          88.51882255255444,
          89.71012880255442,
          90.87237880255442,
          92.00557255255441,
          93.11749565127698,
          94.22163315127698,
          95.33355624999955,
          96.46674999999954,
          97.62899999999954,
          98.82030624999952,
          100.03288315127693,
          101.25324565127694,
          102.46582255255434,
          103.65712880255433,
          104.81937880255433,
          105.95257255255433,
          107.06449565127689,
          108.1686331512769,
          109.28055624999946,
          110.41374999999947
         ]
        }
       ],
       "layout": {
        "hovermode": "x unified",
        "legend": {
         "orientation": "h",
         "x": 0.9,
         "xanchor": "right",
         "y": 0.1,
         "yanchor": "bottom"
        },
        "template": {
         "data": {
          "bar": [
           {
            "error_x": {
             "color": "#f2f5fa"
            },
            "error_y": {
             "color": "#f2f5fa"
            },
            "marker": {
             "line": {
              "color": "rgb(17,17,17)",
              "width": 0.5
             },
             "pattern": {
              "fillmode": "overlay",
              "size": 10,
              "solidity": 0.2
             }
            },
            "type": "bar"
           }
          ],
          "barpolar": [
           {
            "marker": {
             "line": {
              "color": "rgb(17,17,17)",
              "width": 0.5
             },
             "pattern": {
              "fillmode": "overlay",
              "size": 10,
              "solidity": 0.2
             }
            },
            "type": "barpolar"
           }
          ],
          "carpet": [
           {
            "aaxis": {
             "endlinecolor": "#A2B1C6",
             "gridcolor": "#506784",
             "linecolor": "#506784",
             "minorgridcolor": "#506784",
             "startlinecolor": "#A2B1C6"
            },
            "baxis": {
             "endlinecolor": "#A2B1C6",
             "gridcolor": "#506784",
             "linecolor": "#506784",
             "minorgridcolor": "#506784",
             "startlinecolor": "#A2B1C6"
            },
            "type": "carpet"
           }
          ],
          "choropleth": [
           {
            "colorbar": {
             "outlinewidth": 0,
             "ticks": ""
            },
            "type": "choropleth"
           }
          ],
          "contour": [
           {
            "colorbar": {
             "outlinewidth": 0,
             "ticks": ""
            },
            "colorscale": [
             [
              0,
              "#0d0887"
             ],
             [
              0.1111111111111111,
              "#46039f"
             ],
             [
              0.2222222222222222,
              "#7201a8"
             ],
             [
              0.3333333333333333,
              "#9c179e"
             ],
             [
              0.4444444444444444,
              "#bd3786"
             ],
             [
              0.5555555555555556,
              "#d8576b"
             ],
             [
              0.6666666666666666,
              "#ed7953"
             ],
             [
              0.7777777777777778,
              "#fb9f3a"
             ],
             [
              0.8888888888888888,
              "#fdca26"
             ],
             [
              1,
              "#f0f921"
             ]
            ],
            "type": "contour"
           }
          ],
          "contourcarpet": [
           {
            "colorbar": {
             "outlinewidth": 0,
             "ticks": ""
            },
            "type": "contourcarpet"
           }
          ],
          "heatmap": [
           {
            "colorbar": {
             "outlinewidth": 0,
             "ticks": ""
            },
            "colorscale": [
             [
              0,
              "#0d0887"
             ],
             [
              0.1111111111111111,
              "#46039f"
             ],
             [
              0.2222222222222222,
              "#7201a8"
             ],
             [
              0.3333333333333333,
              "#9c179e"
             ],
             [
              0.4444444444444444,
              "#bd3786"
             ],
             [
              0.5555555555555556,
              "#d8576b"
             ],
             [
              0.6666666666666666,
              "#ed7953"
             ],
             [
              0.7777777777777778,
              "#fb9f3a"
             ],
             [
              0.8888888888888888,
              "#fdca26"
             ],
             [
              1,
              "#f0f921"
             ]
            ],
            "type": "heatmap"
           }
          ],
          "heatmapgl": [
           {
            "colorbar": {
             "outlinewidth": 0,
             "ticks": ""
            },
            "colorscale": [
             [
              0,
              "#0d0887"
             ],
             [
              0.1111111111111111,
              "#46039f"
             ],
             [
              0.2222222222222222,
              "#7201a8"
             ],
             [
              0.3333333333333333,
              "#9c179e"
             ],
             [
              0.4444444444444444,
              "#bd3786"
             ],
             [
              0.5555555555555556,
              "#d8576b"
             ],
             [
              0.6666666666666666,
              "#ed7953"
             ],
             [
              0.7777777777777778,
              "#fb9f3a"
             ],
             [
              0.8888888888888888,
              "#fdca26"
             ],
             [
              1,
              "#f0f921"
             ]
            ],
            "type": "heatmapgl"
           }
          ],
          "histogram": [
           {
            "marker": {
             "pattern": {
              "fillmode": "overlay",
              "size": 10,
              "solidity": 0.2
             }
            },
            "type": "histogram"
           }
          ],
          "histogram2d": [
           {
            "colorbar": {
             "outlinewidth": 0,
             "ticks": ""
            },
            "colorscale": [
             [
              0,
              "#0d0887"
             ],
             [
              0.1111111111111111,
              "#46039f"
             ],
             [
              0.2222222222222222,
              "#7201a8"
             ],
             [
              0.3333333333333333,
              "#9c179e"
             ],
             [
              0.4444444444444444,
              "#bd3786"
             ],
             [
              0.5555555555555556,
              "#d8576b"
             ],
             [
              0.6666666666666666,
              "#ed7953"
             ],
             [
              0.7777777777777778,
              "#fb9f3a"
             ],
             [
              0.8888888888888888,
              "#fdca26"
             ],
             [
              1,
              "#f0f921"
             ]
            ],
            "type": "histogram2d"
           }
          ],
          "histogram2dcontour": [
           {
            "colorbar": {
             "outlinewidth": 0,
             "ticks": ""
            },
            "colorscale": [
             [
              0,
              "#0d0887"
             ],
             [
              0.1111111111111111,
              "#46039f"
             ],
             [
              0.2222222222222222,
              "#7201a8"
             ],
             [
              0.3333333333333333,
              "#9c179e"
             ],
             [
              0.4444444444444444,
              "#bd3786"
             ],
             [
              0.5555555555555556,
              "#d8576b"
             ],
             [
              0.6666666666666666,
              "#ed7953"
             ],
             [
              0.7777777777777778,
              "#fb9f3a"
             ],
             [
              0.8888888888888888,
              "#fdca26"
             ],
             [
              1,
              "#f0f921"
             ]
            ],
            "type": "histogram2dcontour"
           }
          ],
          "mesh3d": [
           {
            "colorbar": {
             "outlinewidth": 0,
             "ticks": ""
            },
            "type": "mesh3d"
           }
          ],
          "parcoords": [
           {
            "line": {
             "colorbar": {
              "outlinewidth": 0,
              "ticks": ""
             }
            },
            "type": "parcoords"
           }
          ],
          "pie": [
           {
            "automargin": true,
            "type": "pie"
           }
          ],
          "scatter": [
           {
            "marker": {
             "line": {
              "color": "#283442"
             }
            },
            "type": "scatter"
           }
          ],
          "scatter3d": [
           {
            "line": {
             "colorbar": {
              "outlinewidth": 0,
              "ticks": ""
             }
            },
            "marker": {
             "colorbar": {
              "outlinewidth": 0,
              "ticks": ""
             }
            },
            "type": "scatter3d"
           }
          ],
          "scattercarpet": [
           {
            "marker": {
             "colorbar": {
              "outlinewidth": 0,
              "ticks": ""
             }
            },
            "type": "scattercarpet"
           }
          ],
          "scattergeo": [
           {
            "marker": {
             "colorbar": {
              "outlinewidth": 0,
              "ticks": ""
             }
            },
            "type": "scattergeo"
           }
          ],
          "scattergl": [
           {
            "marker": {
             "line": {
              "color": "#283442"
             }
            },
            "type": "scattergl"
           }
          ],
          "scattermapbox": [
           {
            "marker": {
             "colorbar": {
              "outlinewidth": 0,
              "ticks": ""
             }
            },
            "type": "scattermapbox"
           }
          ],
          "scatterpolar": [
           {
            "marker": {
             "colorbar": {
              "outlinewidth": 0,
              "ticks": ""
             }
            },
            "type": "scatterpolar"
           }
          ],
          "scatterpolargl": [
           {
            "marker": {
             "colorbar": {
              "outlinewidth": 0,
              "ticks": ""
             }
            },
            "type": "scatterpolargl"
           }
          ],
          "scatterternary": [
           {
            "marker": {
             "colorbar": {
              "outlinewidth": 0,
              "ticks": ""
             }
            },
            "type": "scatterternary"
           }
          ],
          "surface": [
           {
            "colorbar": {
             "outlinewidth": 0,
             "ticks": ""
            },
            "colorscale": [
             [
              0,
              "#0d0887"
             ],
             [
              0.1111111111111111,
              "#46039f"
             ],
             [
              0.2222222222222222,
              "#7201a8"
             ],
             [
              0.3333333333333333,
              "#9c179e"
             ],
             [
              0.4444444444444444,
              "#bd3786"
             ],
             [
              0.5555555555555556,
              "#d8576b"
             ],
             [
              0.6666666666666666,
              "#ed7953"
             ],
             [
              0.7777777777777778,
              "#fb9f3a"
             ],
             [
              0.8888888888888888,
              "#fdca26"
             ],
             [
              1,
              "#f0f921"
             ]
            ],
            "type": "surface"
           }
          ],
          "table": [
           {
            "cells": {
             "fill": {
              "color": "#506784"
             },
             "line": {
              "color": "rgb(17,17,17)"
             }
            },
            "header": {
             "fill": {
              "color": "#2a3f5f"
             },
             "line": {
              "color": "rgb(17,17,17)"
             }
            },
            "type": "table"
           }
          ]
         },
         "layout": {
          "annotationdefaults": {
           "arrowcolor": "#f2f5fa",
           "arrowhead": 0,
           "arrowwidth": 1
          },
          "autotypenumbers": "strict",
          "coloraxis": {
           "colorbar": {
            "outlinewidth": 0,
            "ticks": ""
           }
          },
          "colorscale": {
           "diverging": [
            [
             0,
             "#8e0152"
            ],
            [
             0.1,
             "#c51b7d"
            ],
            [
             0.2,
             "#de77ae"
            ],
            [
             0.3,
             "#f1b6da"
            ],
            [
             0.4,
             "#fde0ef"
            ],
            [
             0.5,
             "#f7f7f7"
            ],
            [
             0.6,
             "#e6f5d0"
            ],
            [
             0.7,
             "#b8e186"
            ],
            [
             0.8,
             "#7fbc41"
            ],
            [
             0.9,
             "#4d9221"
            ],
            [
             1,
             "#276419"
            ]
           ],
           "sequential": [
            [
             0,
             "#0d0887"
            ],
            [
             0.1111111111111111,
             "#46039f"
            ],
            [
             0.2222222222222222,
             "#7201a8"
            ],
            [
             0.3333333333333333,
             "#9c179e"
            ],
            [
             0.4444444444444444,
             "#bd3786"
            ],
            [
             0.5555555555555556,
             "#d8576b"
            ],
            [
             0.6666666666666666,
             "#ed7953"
            ],
            [
             0.7777777777777778,
             "#fb9f3a"
            ],
            [
             0.8888888888888888,
             "#fdca26"
            ],
            [
             1,
             "#f0f921"
            ]
           ],
           "sequentialminus": [
            [
             0,
             "#0d0887"
            ],
            [
             0.1111111111111111,
             "#46039f"
            ],
            [
             0.2222222222222222,
             "#7201a8"
            ],
            [
             0.3333333333333333,
             "#9c179e"
            ],
            [
             0.4444444444444444,
             "#bd3786"
            ],
            [
             0.5555555555555556,
             "#d8576b"
            ],
            [
             0.6666666666666666,
             "#ed7953"
            ],
            [
             0.7777777777777778,
             "#fb9f3a"
            ],
            [
             0.8888888888888888,
             "#fdca26"
            ],
            [
             1,
             "#f0f921"
            ]
           ]
          },
          "colorway": [
           "#636efa",
           "#EF553B",
           "#00cc96",
           "#ab63fa",
           "#FFA15A",
           "#19d3f3",
           "#FF6692",
           "#B6E880",
           "#FF97FF",
           "#FECB52"
          ],
          "font": {
           "color": "#f2f5fa"
          },
          "geo": {
           "bgcolor": "rgb(17,17,17)",
           "lakecolor": "rgb(17,17,17)",
           "landcolor": "rgb(17,17,17)",
           "showlakes": true,
           "showland": true,
           "subunitcolor": "#506784"
          },
          "hoverlabel": {
           "align": "left"
          },
          "hovermode": "closest",
          "mapbox": {
           "style": "dark"
          },
          "paper_bgcolor": "rgb(17,17,17)",
          "plot_bgcolor": "rgb(17,17,17)",
          "polar": {
           "angularaxis": {
            "gridcolor": "#506784",
            "linecolor": "#506784",
            "ticks": ""
           },
           "bgcolor": "rgb(17,17,17)",
           "radialaxis": {
            "gridcolor": "#506784",
            "linecolor": "#506784",
            "ticks": ""
           }
          },
          "scene": {
           "xaxis": {
            "backgroundcolor": "rgb(17,17,17)",
            "gridcolor": "#506784",
            "gridwidth": 2,
            "linecolor": "#506784",
            "showbackground": true,
            "ticks": "",
            "zerolinecolor": "#C8D4E3"
           },
           "yaxis": {
            "backgroundcolor": "rgb(17,17,17)",
            "gridcolor": "#506784",
            "gridwidth": 2,
            "linecolor": "#506784",
            "showbackground": true,
            "ticks": "",
            "zerolinecolor": "#C8D4E3"
           },
           "zaxis": {
            "backgroundcolor": "rgb(17,17,17)",
            "gridcolor": "#506784",
            "gridwidth": 2,
            "linecolor": "#506784",
            "showbackground": true,
            "ticks": "",
            "zerolinecolor": "#C8D4E3"
           }
          },
          "shapedefaults": {
           "line": {
            "color": "#f2f5fa"
           }
          },
          "sliderdefaults": {
           "bgcolor": "#C8D4E3",
           "bordercolor": "rgb(17,17,17)",
           "borderwidth": 1,
           "tickwidth": 0
          },
          "ternary": {
           "aaxis": {
            "gridcolor": "#506784",
            "linecolor": "#506784",
            "ticks": ""
           },
           "baxis": {
            "gridcolor": "#506784",
            "linecolor": "#506784",
            "ticks": ""
           },
           "bgcolor": "rgb(17,17,17)",
           "caxis": {
            "gridcolor": "#506784",
            "linecolor": "#506784",
            "ticks": ""
           }
          },
          "title": {
           "x": 0.05
          },
          "updatemenudefaults": {
           "bgcolor": "#506784",
           "borderwidth": 0
          },
          "xaxis": {
           "automargin": true,
           "gridcolor": "#283442",
           "linecolor": "#506784",
           "ticks": "",
           "title": {
            "standoff": 15
           },
           "zerolinecolor": "#283442",
           "zerolinewidth": 2
          },
          "yaxis": {
           "automargin": true,
           "gridcolor": "#283442",
           "linecolor": "#506784",
           "ticks": "",
           "title": {
            "standoff": 15
           },
           "zerolinecolor": "#283442",
           "zerolinewidth": 2
          }
         }
        },
        "title": {
         "text": "Constant Demand: Expected Profit in Simulation 2"
        },
        "xaxis": {
         "title": {
          "text": "Month"
         },
         "type": "category"
        },
        "yaxis": {
         "title": {
          "text": "Expected Profit in Euros (in Millions)"
         }
        }
       }
      }
     },
     "metadata": {},
     "output_type": "display_data"
    }
   ],
   "source": [
    "\n",
    "# Assuming df is your DataFrame containing the data\n",
    "df = df1_sim2.copy()\n",
    "\n",
    "# Aggregating the total demand for Red and White wine across all months for each country\n",
    "red_columns_1 = [col for col in df.columns if 'Red_1' in col]\n",
    "white_columns_1 = [col for col in df.columns if 'White_1' in col]\n",
    "red_columns_2 = [col for col in df.columns if 'Red_2' in col]\n",
    "white_columns_2 = [col for col in df.columns if 'White_2' in col]\n",
    "\n",
    "# Convert 'Month' to datetime for proper sorting and display\n",
    "df['Month'] = pd.to_datetime(df['Month'])\n",
    "\n",
    "# Aggregate monthly total demand for Red and White wine across all countries\n",
    "df['Total_Red_Demand_1'] = df[red_columns_1].sum(axis=1)\n",
    "df['Total_White_Demand_1'] = df[white_columns_1].sum(axis=1)\n",
    "df['Total_Red_Demand_2'] = df[red_columns_2].sum(axis=1)\n",
    "df['Total_White_Demand_2'] = df[white_columns_2].sum(axis=1)\n",
    "\n",
    "# Calculate cumulative sum for each type of wine\n",
    "df['Cumulative_Red_Demand_1'] = df['Total_Red_Demand_1'].cumsum() * 125 # 'Red_Wine_1': 125,\n",
    "df['Cumulative_White_Demand_1'] = df['Total_White_Demand_1'].cumsum() * 90 # 'White_Wine_1': 90,\n",
    "df['Cumulative_Red_Demand_2'] = df['Total_Red_Demand_2'].cumsum() * 260 # 'Red_Wine_2': 260,\n",
    "df['Cumulative_White_Demand_2'] = df['Total_White_Demand_2'].cumsum() * 200 # 'White_Wine_2': 200,\n",
    "\n",
    "# Extracting year-month for the x-axis\n",
    "df['Year_Month'] = df['Month'].dt.strftime('%Y-%m')\n",
    "\n",
    "# Create stacked line plot\n",
    "fig = go.Figure()\n",
    "\n",
    "# Stacked red wine demand 1\n",
    "fig.add_trace(go.Scatter(\n",
    "    x=df['Year_Month'],\n",
    "    y=df['Cumulative_Red_Demand_1'],\n",
    "    mode='lines',\n",
    "    name='Cumulative Profit: Red Wine 1',\n",
    "    stackgroup='one',\n",
    "    line=dict(color='red')\n",
    "))\n",
    "\n",
    "# Stacked white wine demand 1\n",
    "fig.add_trace(go.Scatter(\n",
    "    x=df['Year_Month'],\n",
    "    y=df['Cumulative_White_Demand_1'],\n",
    "    mode='lines',\n",
    "    name='Cumulative Profit: White Wine 1',\n",
    "    stackgroup='one',\n",
    "    line=dict(color='lightgreen')\n",
    "))\n",
    "\n",
    "# Stacked red wine demand 2\n",
    "fig.add_trace(go.Scatter(\n",
    "    x=df['Year_Month'],\n",
    "    y=df['Cumulative_Red_Demand_2'],\n",
    "    mode='lines',\n",
    "    name='Cumulative Profit: Red Wine 2',\n",
    "    stackgroup='one',\n",
    "    line=dict(color='darkred')\n",
    "))\n",
    "\n",
    "# Stacked white wine demand 2\n",
    "fig.add_trace(go.Scatter(\n",
    "    x=df['Year_Month'],\n",
    "    y=df['Cumulative_White_Demand_2'],\n",
    "    mode='lines',\n",
    "    name='Cumulative Profit: White Wine 2',\n",
    "    stackgroup='one',\n",
    "    line=dict(color='green')\n",
    "))\n",
    "\n",
    "fig.update_layout(\n",
    "    title=\"Constant Demand: Expected Profit in Simulation 2\",\n",
    "    xaxis_title=\"Month\",\n",
    "    yaxis_title=\"Expected Profit in Euros (in Millions)\",\n",
    "    hovermode=\"x unified\",\n",
    "    xaxis={'type': 'category'},  #\n",
    ")\n",
    "fig.update_layout(template='plotly_dark')\n",
    "fig.update_layout(\n",
    "    legend=dict(\n",
    "        x=0.9, # Adjusts the x position to be towards the right\n",
    "        y=0.1, # Adjusts the y position to be towards the bottom\n",
    "        orientation=\"h\", # Makes the legend items align horizontally\n",
    "        xanchor='right', # Anchors the legend's right side to the x position\n",
    "        yanchor='bottom' # Anchors the legend's bottom to the y position\n",
    "    )\n",
    ")\n",
    "\n",
    "fig.show()"
   ]
  },
  {
   "cell_type": "code",
   "execution_count": null,
   "metadata": {},
   "outputs": [],
   "source": []
  },
  {
   "cell_type": "code",
   "execution_count": null,
   "metadata": {},
   "outputs": [],
   "source": []
  },
  {
   "cell_type": "code",
   "execution_count": null,
   "metadata": {},
   "outputs": [],
   "source": []
  },
  {
   "cell_type": "markdown",
   "metadata": {},
   "source": [
    "# Linear Demand "
   ]
  },
  {
   "cell_type": "code",
   "execution_count": null,
   "metadata": {},
   "outputs": [],
   "source": []
  },
  {
   "cell_type": "markdown",
   "metadata": {},
   "source": [
    "## Simulation 1"
   ]
  },
  {
   "cell_type": "code",
   "execution_count": 10,
   "metadata": {},
   "outputs": [],
   "source": [
    "# Initialize a new DataFrame to hold the adjusted demands\n",
    "df2_sim1 = df2.copy()\n",
    "\n",
    "# Convert \"Month\" column to datetime for easier comparison\n",
    "df2_sim1[\"Month\"] = pd.to_datetime(df2_sim1[\"Month\"], format=\"%b-%Y\")\n",
    "\n",
    "# Define the readiness date for White and Red wine\n",
    "white_wine_ready_date = datetime(2025, 1, 1)  # Jan 2025\n",
    "red_wine_ready_date = datetime(2026, 4, 1)    # Apr 2026\n",
    "\n",
    "# Initialize columns for adjusted demands\n",
    "for wine_type in ['Red', 'White']:\n",
    "    for country in [\"Singapore\", \"Thailand\", \"Japan\", \"Korea\", \"Indonesia\"]:\n",
    "        df2_sim1[f\"{wine_type}_{country}\"] = 0.0\n",
    "\n",
    "# Split the demand for Red and White wine\n",
    "for i, row in df2_sim1.iterrows():\n",
    "    current_month = row[\"Month\"]\n",
    "    for country in [\"Singapore\", \"Thailand\", \"Japan\", \"Korea\", \"Indonesia\"]:\n",
    "        # Halve the original demand since 50% demand for each wine type\n",
    "        half_demand = row[country] / 2\n",
    "        \n",
    "        # Adjust demand for White wine if current month is after white wine readiness date\n",
    "        if current_month >= white_wine_ready_date:\n",
    "            df2_sim1.at[i, f\"White_{country}\"] = half_demand\n",
    "            \n",
    "        # Adjust demand for Red wine if current month is after red wine readiness date\n",
    "        if current_month >= red_wine_ready_date:\n",
    "            df2_sim1.at[i, f\"Red_{country}\"] = half_demand\n",
    "\n",
    "# Drop original country columns as they're now split into Red and White demands\n",
    "df2_sim1.drop([\"Singapore\", \"Thailand\", \"Japan\", \"Korea\", \"Indonesia\"], axis=1, inplace=True)\n",
    "\n",
    "# Display a sample of the adjusted DataFrame to verify correctness\n",
    "# df2_sim1"
   ]
  },
  {
   "cell_type": "code",
   "execution_count": 11,
   "metadata": {},
   "outputs": [
    {
     "data": {
      "application/vnd.plotly.v1+json": {
       "config": {
        "plotlyServerURL": "https://plot.ly"
       },
       "data": [
        {
         "marker": {
          "color": "red"
         },
         "name": "Red Wine Demand",
         "type": "bar",
         "x": [
          "2024-01",
          "2024-02",
          "2024-03",
          "2024-04",
          "2024-05",
          "2024-06",
          "2024-07",
          "2024-08",
          "2024-09",
          "2024-10",
          "2024-11",
          "2024-12",
          "2025-01",
          "2025-02",
          "2025-03",
          "2025-04",
          "2025-05",
          "2025-06",
          "2025-07",
          "2025-08",
          "2025-09",
          "2025-10",
          "2025-11",
          "2025-12",
          "2026-01",
          "2026-02",
          "2026-03",
          "2026-04",
          "2026-05",
          "2026-06",
          "2026-07",
          "2026-08",
          "2026-09",
          "2026-10",
          "2026-11",
          "2026-12",
          "2027-01",
          "2027-02",
          "2027-03",
          "2027-04",
          "2027-05",
          "2027-06",
          "2027-07",
          "2027-08",
          "2027-09",
          "2027-10",
          "2027-11",
          "2027-12",
          "2028-01",
          "2028-02",
          "2028-03",
          "2028-04",
          "2028-05",
          "2028-06",
          "2028-07",
          "2028-08",
          "2028-09",
          "2028-10",
          "2028-11",
          "2028-12",
          "2029-01",
          "2029-02",
          "2029-03",
          "2029-04",
          "2029-05",
          "2029-06",
          "2029-07",
          "2029-08",
          "2029-09",
          "2029-10",
          "2029-11",
          "2029-12",
          "2030-01",
          "2030-02",
          "2030-03",
          "2030-04",
          "2030-05",
          "2030-06",
          "2030-07",
          "2030-08",
          "2030-09",
          "2030-10",
          "2030-11",
          "2030-12",
          "2031-01",
          "2031-02",
          "2031-03",
          "2031-04",
          "2031-05",
          "2031-06",
          "2031-07",
          "2031-08",
          "2031-09",
          "2031-10",
          "2031-11",
          "2031-12",
          "2032-01",
          "2032-02",
          "2032-03",
          "2032-04",
          "2032-05",
          "2032-06",
          "2032-07",
          "2032-08",
          "2032-09",
          "2032-10",
          "2032-11",
          "2032-12",
          "2033-01",
          "2033-02",
          "2033-03",
          "2033-04",
          "2033-05",
          "2033-06",
          "2033-07",
          "2033-08",
          "2033-09",
          "2033-10",
          "2033-11",
          "2033-12"
         ],
         "y": [
          0,
          0,
          0,
          0,
          0,
          0,
          0,
          0,
          0,
          0,
          0,
          0,
          0,
          0,
          0,
          0,
          0,
          0,
          0,
          0,
          0,
          0,
          0,
          0,
          0,
          0,
          0,
          21.677725617979753,
          21.297461618540247,
          20.7780113351612,
          20.25856105178215,
          19.87829705234265,
          19.73911076840315,
          19.87829705234265,
          20.25856105178215,
          20.7780113351612,
          22.05968762570845,
          22.45356109256495,
          22.597728787311098,
          22.45356109256495,
          22.05968762570845,
          21.521646464105796,
          20.983605302503054,
          20.5897318356466,
          20.44556414090045,
          20.5897318356466,
          20.983605302503054,
          21.521646464105796,
          22.850714330884248,
          23.258711498675698,
          23.408048826759497,
          23.258711498675698,
          22.850714330884248,
          22.29337983500905,
          21.73604533913385,
          21.328048171342402,
          21.178710843258603,
          21.328048171342402,
          21.73604533913385,
          22.29337983500905,
          23.67167304413165,
          24.09432834580145,
          24.24903092325685,
          24.09432834580145,
          23.67167304413165,
          23.09431516500645,
          22.516957285881347,
          22.0943019842115,
          21.939599406756198,
          22.0943019842115,
          22.516957285881347,
          23.09431516500645,
          24.523740773577853,
          24.961609657429253,
          25.12188079244565,
          24.961609657429253,
          24.523740773577853,
          23.9256007547101,
          23.327460735842354,
          22.88959185199095,
          22.729320716974552,
          22.88959185199095,
          23.327460735842354,
          23.9256007547101,
          25.4081421102768,
          25.861801889561,
          26.0278528934543,
          25.861801889561,
          25.4081421102768,
          24.788431327099303,
          24.16872054392175,
          23.71506076463755,
          23.549009760744347,
          23.71506076463755,
          24.16872054392175,
          24.788431327099303,
          26.326151192098,
          26.796201929667653,
          26.968252440685752,
          26.796201929667653,
          26.326151192098,
          25.684049943510246,
          25.0419486949225,
          24.571897957352803,
          24.399847446334796,
          24.571897957352803,
          25.0419486949225,
          25.684049943510246,
          27.27909374999995,
          27.76615917949825,
          27.9444375,
          27.76615917949825,
          27.27909374999995,
          26.61374999999995,
          25.94840625,
          25.46134082050145,
          25.28306249999995,
          25.46134082050145,
          25.94840625,
          26.61374999999995
         ]
        },
        {
         "marker": {
          "color": "lightgreen"
         },
         "name": "White Wine Demand",
         "type": "bar",
         "x": [
          "2024-01",
          "2024-02",
          "2024-03",
          "2024-04",
          "2024-05",
          "2024-06",
          "2024-07",
          "2024-08",
          "2024-09",
          "2024-10",
          "2024-11",
          "2024-12",
          "2025-01",
          "2025-02",
          "2025-03",
          "2025-04",
          "2025-05",
          "2025-06",
          "2025-07",
          "2025-08",
          "2025-09",
          "2025-10",
          "2025-11",
          "2025-12",
          "2026-01",
          "2026-02",
          "2026-03",
          "2026-04",
          "2026-05",
          "2026-06",
          "2026-07",
          "2026-08",
          "2026-09",
          "2026-10",
          "2026-11",
          "2026-12",
          "2027-01",
          "2027-02",
          "2027-03",
          "2027-04",
          "2027-05",
          "2027-06",
          "2027-07",
          "2027-08",
          "2027-09",
          "2027-10",
          "2027-11",
          "2027-12",
          "2028-01",
          "2028-02",
          "2028-03",
          "2028-04",
          "2028-05",
          "2028-06",
          "2028-07",
          "2028-08",
          "2028-09",
          "2028-10",
          "2028-11",
          "2028-12",
          "2029-01",
          "2029-02",
          "2029-03",
          "2029-04",
          "2029-05",
          "2029-06",
          "2029-07",
          "2029-08",
          "2029-09",
          "2029-10",
          "2029-11",
          "2029-12",
          "2030-01",
          "2030-02",
          "2030-03",
          "2030-04",
          "2030-05",
          "2030-06",
          "2030-07",
          "2030-08",
          "2030-09",
          "2030-10",
          "2030-11",
          "2030-12",
          "2031-01",
          "2031-02",
          "2031-03",
          "2031-04",
          "2031-05",
          "2031-06",
          "2031-07",
          "2031-08",
          "2031-09",
          "2031-10",
          "2031-11",
          "2031-12",
          "2032-01",
          "2032-02",
          "2032-03",
          "2032-04",
          "2032-05",
          "2032-06",
          "2032-07",
          "2032-08",
          "2032-09",
          "2032-10",
          "2032-11",
          "2032-12",
          "2033-01",
          "2033-02",
          "2033-03",
          "2033-04",
          "2033-05",
          "2033-06",
          "2033-07",
          "2033-08",
          "2033-09",
          "2033-10",
          "2033-11",
          "2033-12"
         ],
         "y": [
          0,
          0,
          0,
          0,
          0,
          0,
          0,
          0,
          0,
          0,
          0,
          0,
          20.562948888322403,
          20.93009823807105,
          21.06448422706195,
          20.93009823807105,
          20.562948888322403,
          20.061413549582753,
          19.559878210843248,
          19.192728861094547,
          19.058342872103754,
          19.192728861094547,
          19.559878210843248,
          20.061413549582753,
          21.297461618540247,
          21.677725617979753,
          21.816911901919248,
          21.677725617979753,
          21.297461618540247,
          20.7780113351612,
          20.25856105178215,
          19.87829705234265,
          19.73911076840315,
          19.87829705234265,
          20.25856105178215,
          20.7780113351612,
          22.05968762570845,
          22.45356109256495,
          22.597728787311098,
          22.45356109256495,
          22.05968762570845,
          21.521646464105796,
          20.983605302503054,
          20.5897318356466,
          20.44556414090045,
          20.5897318356466,
          20.983605302503054,
          21.521646464105796,
          22.850714330884248,
          23.258711498675698,
          23.408048826759497,
          23.258711498675698,
          22.850714330884248,
          22.29337983500905,
          21.73604533913385,
          21.328048171342402,
          21.178710843258603,
          21.328048171342402,
          21.73604533913385,
          22.29337983500905,
          23.67167304413165,
          24.09432834580145,
          24.24903092325685,
          24.09432834580145,
          23.67167304413165,
          23.09431516500645,
          22.516957285881347,
          22.0943019842115,
          21.939599406756198,
          22.0943019842115,
          22.516957285881347,
          23.09431516500645,
          24.523740773577853,
          24.961609657429253,
          25.12188079244565,
          24.961609657429253,
          24.523740773577853,
          23.9256007547101,
          23.327460735842354,
          22.88959185199095,
          22.729320716974552,
          22.88959185199095,
          23.327460735842354,
          23.9256007547101,
          25.4081421102768,
          25.861801889561,
          26.0278528934543,
          25.861801889561,
          25.4081421102768,
          24.788431327099303,
          24.16872054392175,
          23.71506076463755,
          23.549009760744347,
          23.71506076463755,
          24.16872054392175,
          24.788431327099303,
          26.326151192098,
          26.796201929667653,
          26.968252440685752,
          26.796201929667653,
          26.326151192098,
          25.684049943510246,
          25.0419486949225,
          24.571897957352803,
          24.399847446334796,
          24.571897957352803,
          25.0419486949225,
          25.684049943510246,
          27.27909374999995,
          27.76615917949825,
          27.9444375,
          27.76615917949825,
          27.27909374999995,
          26.61374999999995,
          25.94840625,
          25.46134082050145,
          25.28306249999995,
          25.46134082050145,
          25.94840625,
          26.61374999999995
         ]
        }
       ],
       "layout": {
        "barmode": "stack",
        "template": {
         "data": {
          "bar": [
           {
            "error_x": {
             "color": "#f2f5fa"
            },
            "error_y": {
             "color": "#f2f5fa"
            },
            "marker": {
             "line": {
              "color": "rgb(17,17,17)",
              "width": 0.5
             },
             "pattern": {
              "fillmode": "overlay",
              "size": 10,
              "solidity": 0.2
             }
            },
            "type": "bar"
           }
          ],
          "barpolar": [
           {
            "marker": {
             "line": {
              "color": "rgb(17,17,17)",
              "width": 0.5
             },
             "pattern": {
              "fillmode": "overlay",
              "size": 10,
              "solidity": 0.2
             }
            },
            "type": "barpolar"
           }
          ],
          "carpet": [
           {
            "aaxis": {
             "endlinecolor": "#A2B1C6",
             "gridcolor": "#506784",
             "linecolor": "#506784",
             "minorgridcolor": "#506784",
             "startlinecolor": "#A2B1C6"
            },
            "baxis": {
             "endlinecolor": "#A2B1C6",
             "gridcolor": "#506784",
             "linecolor": "#506784",
             "minorgridcolor": "#506784",
             "startlinecolor": "#A2B1C6"
            },
            "type": "carpet"
           }
          ],
          "choropleth": [
           {
            "colorbar": {
             "outlinewidth": 0,
             "ticks": ""
            },
            "type": "choropleth"
           }
          ],
          "contour": [
           {
            "colorbar": {
             "outlinewidth": 0,
             "ticks": ""
            },
            "colorscale": [
             [
              0,
              "#0d0887"
             ],
             [
              0.1111111111111111,
              "#46039f"
             ],
             [
              0.2222222222222222,
              "#7201a8"
             ],
             [
              0.3333333333333333,
              "#9c179e"
             ],
             [
              0.4444444444444444,
              "#bd3786"
             ],
             [
              0.5555555555555556,
              "#d8576b"
             ],
             [
              0.6666666666666666,
              "#ed7953"
             ],
             [
              0.7777777777777778,
              "#fb9f3a"
             ],
             [
              0.8888888888888888,
              "#fdca26"
             ],
             [
              1,
              "#f0f921"
             ]
            ],
            "type": "contour"
           }
          ],
          "contourcarpet": [
           {
            "colorbar": {
             "outlinewidth": 0,
             "ticks": ""
            },
            "type": "contourcarpet"
           }
          ],
          "heatmap": [
           {
            "colorbar": {
             "outlinewidth": 0,
             "ticks": ""
            },
            "colorscale": [
             [
              0,
              "#0d0887"
             ],
             [
              0.1111111111111111,
              "#46039f"
             ],
             [
              0.2222222222222222,
              "#7201a8"
             ],
             [
              0.3333333333333333,
              "#9c179e"
             ],
             [
              0.4444444444444444,
              "#bd3786"
             ],
             [
              0.5555555555555556,
              "#d8576b"
             ],
             [
              0.6666666666666666,
              "#ed7953"
             ],
             [
              0.7777777777777778,
              "#fb9f3a"
             ],
             [
              0.8888888888888888,
              "#fdca26"
             ],
             [
              1,
              "#f0f921"
             ]
            ],
            "type": "heatmap"
           }
          ],
          "heatmapgl": [
           {
            "colorbar": {
             "outlinewidth": 0,
             "ticks": ""
            },
            "colorscale": [
             [
              0,
              "#0d0887"
             ],
             [
              0.1111111111111111,
              "#46039f"
             ],
             [
              0.2222222222222222,
              "#7201a8"
             ],
             [
              0.3333333333333333,
              "#9c179e"
             ],
             [
              0.4444444444444444,
              "#bd3786"
             ],
             [
              0.5555555555555556,
              "#d8576b"
             ],
             [
              0.6666666666666666,
              "#ed7953"
             ],
             [
              0.7777777777777778,
              "#fb9f3a"
             ],
             [
              0.8888888888888888,
              "#fdca26"
             ],
             [
              1,
              "#f0f921"
             ]
            ],
            "type": "heatmapgl"
           }
          ],
          "histogram": [
           {
            "marker": {
             "pattern": {
              "fillmode": "overlay",
              "size": 10,
              "solidity": 0.2
             }
            },
            "type": "histogram"
           }
          ],
          "histogram2d": [
           {
            "colorbar": {
             "outlinewidth": 0,
             "ticks": ""
            },
            "colorscale": [
             [
              0,
              "#0d0887"
             ],
             [
              0.1111111111111111,
              "#46039f"
             ],
             [
              0.2222222222222222,
              "#7201a8"
             ],
             [
              0.3333333333333333,
              "#9c179e"
             ],
             [
              0.4444444444444444,
              "#bd3786"
             ],
             [
              0.5555555555555556,
              "#d8576b"
             ],
             [
              0.6666666666666666,
              "#ed7953"
             ],
             [
              0.7777777777777778,
              "#fb9f3a"
             ],
             [
              0.8888888888888888,
              "#fdca26"
             ],
             [
              1,
              "#f0f921"
             ]
            ],
            "type": "histogram2d"
           }
          ],
          "histogram2dcontour": [
           {
            "colorbar": {
             "outlinewidth": 0,
             "ticks": ""
            },
            "colorscale": [
             [
              0,
              "#0d0887"
             ],
             [
              0.1111111111111111,
              "#46039f"
             ],
             [
              0.2222222222222222,
              "#7201a8"
             ],
             [
              0.3333333333333333,
              "#9c179e"
             ],
             [
              0.4444444444444444,
              "#bd3786"
             ],
             [
              0.5555555555555556,
              "#d8576b"
             ],
             [
              0.6666666666666666,
              "#ed7953"
             ],
             [
              0.7777777777777778,
              "#fb9f3a"
             ],
             [
              0.8888888888888888,
              "#fdca26"
             ],
             [
              1,
              "#f0f921"
             ]
            ],
            "type": "histogram2dcontour"
           }
          ],
          "mesh3d": [
           {
            "colorbar": {
             "outlinewidth": 0,
             "ticks": ""
            },
            "type": "mesh3d"
           }
          ],
          "parcoords": [
           {
            "line": {
             "colorbar": {
              "outlinewidth": 0,
              "ticks": ""
             }
            },
            "type": "parcoords"
           }
          ],
          "pie": [
           {
            "automargin": true,
            "type": "pie"
           }
          ],
          "scatter": [
           {
            "marker": {
             "line": {
              "color": "#283442"
             }
            },
            "type": "scatter"
           }
          ],
          "scatter3d": [
           {
            "line": {
             "colorbar": {
              "outlinewidth": 0,
              "ticks": ""
             }
            },
            "marker": {
             "colorbar": {
              "outlinewidth": 0,
              "ticks": ""
             }
            },
            "type": "scatter3d"
           }
          ],
          "scattercarpet": [
           {
            "marker": {
             "colorbar": {
              "outlinewidth": 0,
              "ticks": ""
             }
            },
            "type": "scattercarpet"
           }
          ],
          "scattergeo": [
           {
            "marker": {
             "colorbar": {
              "outlinewidth": 0,
              "ticks": ""
             }
            },
            "type": "scattergeo"
           }
          ],
          "scattergl": [
           {
            "marker": {
             "line": {
              "color": "#283442"
             }
            },
            "type": "scattergl"
           }
          ],
          "scattermapbox": [
           {
            "marker": {
             "colorbar": {
              "outlinewidth": 0,
              "ticks": ""
             }
            },
            "type": "scattermapbox"
           }
          ],
          "scatterpolar": [
           {
            "marker": {
             "colorbar": {
              "outlinewidth": 0,
              "ticks": ""
             }
            },
            "type": "scatterpolar"
           }
          ],
          "scatterpolargl": [
           {
            "marker": {
             "colorbar": {
              "outlinewidth": 0,
              "ticks": ""
             }
            },
            "type": "scatterpolargl"
           }
          ],
          "scatterternary": [
           {
            "marker": {
             "colorbar": {
              "outlinewidth": 0,
              "ticks": ""
             }
            },
            "type": "scatterternary"
           }
          ],
          "surface": [
           {
            "colorbar": {
             "outlinewidth": 0,
             "ticks": ""
            },
            "colorscale": [
             [
              0,
              "#0d0887"
             ],
             [
              0.1111111111111111,
              "#46039f"
             ],
             [
              0.2222222222222222,
              "#7201a8"
             ],
             [
              0.3333333333333333,
              "#9c179e"
             ],
             [
              0.4444444444444444,
              "#bd3786"
             ],
             [
              0.5555555555555556,
              "#d8576b"
             ],
             [
              0.6666666666666666,
              "#ed7953"
             ],
             [
              0.7777777777777778,
              "#fb9f3a"
             ],
             [
              0.8888888888888888,
              "#fdca26"
             ],
             [
              1,
              "#f0f921"
             ]
            ],
            "type": "surface"
           }
          ],
          "table": [
           {
            "cells": {
             "fill": {
              "color": "#506784"
             },
             "line": {
              "color": "rgb(17,17,17)"
             }
            },
            "header": {
             "fill": {
              "color": "#2a3f5f"
             },
             "line": {
              "color": "rgb(17,17,17)"
             }
            },
            "type": "table"
           }
          ]
         },
         "layout": {
          "annotationdefaults": {
           "arrowcolor": "#f2f5fa",
           "arrowhead": 0,
           "arrowwidth": 1
          },
          "autotypenumbers": "strict",
          "coloraxis": {
           "colorbar": {
            "outlinewidth": 0,
            "ticks": ""
           }
          },
          "colorscale": {
           "diverging": [
            [
             0,
             "#8e0152"
            ],
            [
             0.1,
             "#c51b7d"
            ],
            [
             0.2,
             "#de77ae"
            ],
            [
             0.3,
             "#f1b6da"
            ],
            [
             0.4,
             "#fde0ef"
            ],
            [
             0.5,
             "#f7f7f7"
            ],
            [
             0.6,
             "#e6f5d0"
            ],
            [
             0.7,
             "#b8e186"
            ],
            [
             0.8,
             "#7fbc41"
            ],
            [
             0.9,
             "#4d9221"
            ],
            [
             1,
             "#276419"
            ]
           ],
           "sequential": [
            [
             0,
             "#0d0887"
            ],
            [
             0.1111111111111111,
             "#46039f"
            ],
            [
             0.2222222222222222,
             "#7201a8"
            ],
            [
             0.3333333333333333,
             "#9c179e"
            ],
            [
             0.4444444444444444,
             "#bd3786"
            ],
            [
             0.5555555555555556,
             "#d8576b"
            ],
            [
             0.6666666666666666,
             "#ed7953"
            ],
            [
             0.7777777777777778,
             "#fb9f3a"
            ],
            [
             0.8888888888888888,
             "#fdca26"
            ],
            [
             1,
             "#f0f921"
            ]
           ],
           "sequentialminus": [
            [
             0,
             "#0d0887"
            ],
            [
             0.1111111111111111,
             "#46039f"
            ],
            [
             0.2222222222222222,
             "#7201a8"
            ],
            [
             0.3333333333333333,
             "#9c179e"
            ],
            [
             0.4444444444444444,
             "#bd3786"
            ],
            [
             0.5555555555555556,
             "#d8576b"
            ],
            [
             0.6666666666666666,
             "#ed7953"
            ],
            [
             0.7777777777777778,
             "#fb9f3a"
            ],
            [
             0.8888888888888888,
             "#fdca26"
            ],
            [
             1,
             "#f0f921"
            ]
           ]
          },
          "colorway": [
           "#636efa",
           "#EF553B",
           "#00cc96",
           "#ab63fa",
           "#FFA15A",
           "#19d3f3",
           "#FF6692",
           "#B6E880",
           "#FF97FF",
           "#FECB52"
          ],
          "font": {
           "color": "#f2f5fa"
          },
          "geo": {
           "bgcolor": "rgb(17,17,17)",
           "lakecolor": "rgb(17,17,17)",
           "landcolor": "rgb(17,17,17)",
           "showlakes": true,
           "showland": true,
           "subunitcolor": "#506784"
          },
          "hoverlabel": {
           "align": "left"
          },
          "hovermode": "closest",
          "mapbox": {
           "style": "dark"
          },
          "paper_bgcolor": "rgb(17,17,17)",
          "plot_bgcolor": "rgb(17,17,17)",
          "polar": {
           "angularaxis": {
            "gridcolor": "#506784",
            "linecolor": "#506784",
            "ticks": ""
           },
           "bgcolor": "rgb(17,17,17)",
           "radialaxis": {
            "gridcolor": "#506784",
            "linecolor": "#506784",
            "ticks": ""
           }
          },
          "scene": {
           "xaxis": {
            "backgroundcolor": "rgb(17,17,17)",
            "gridcolor": "#506784",
            "gridwidth": 2,
            "linecolor": "#506784",
            "showbackground": true,
            "ticks": "",
            "zerolinecolor": "#C8D4E3"
           },
           "yaxis": {
            "backgroundcolor": "rgb(17,17,17)",
            "gridcolor": "#506784",
            "gridwidth": 2,
            "linecolor": "#506784",
            "showbackground": true,
            "ticks": "",
            "zerolinecolor": "#C8D4E3"
           },
           "zaxis": {
            "backgroundcolor": "rgb(17,17,17)",
            "gridcolor": "#506784",
            "gridwidth": 2,
            "linecolor": "#506784",
            "showbackground": true,
            "ticks": "",
            "zerolinecolor": "#C8D4E3"
           }
          },
          "shapedefaults": {
           "line": {
            "color": "#f2f5fa"
           }
          },
          "sliderdefaults": {
           "bgcolor": "#C8D4E3",
           "bordercolor": "rgb(17,17,17)",
           "borderwidth": 1,
           "tickwidth": 0
          },
          "ternary": {
           "aaxis": {
            "gridcolor": "#506784",
            "linecolor": "#506784",
            "ticks": ""
           },
           "baxis": {
            "gridcolor": "#506784",
            "linecolor": "#506784",
            "ticks": ""
           },
           "bgcolor": "rgb(17,17,17)",
           "caxis": {
            "gridcolor": "#506784",
            "linecolor": "#506784",
            "ticks": ""
           }
          },
          "title": {
           "x": 0.05
          },
          "updatemenudefaults": {
           "bgcolor": "#506784",
           "borderwidth": 0
          },
          "xaxis": {
           "automargin": true,
           "gridcolor": "#283442",
           "linecolor": "#506784",
           "ticks": "",
           "title": {
            "standoff": 15
           },
           "zerolinecolor": "#283442",
           "zerolinewidth": 2
          },
          "yaxis": {
           "automargin": true,
           "gridcolor": "#283442",
           "linecolor": "#506784",
           "ticks": "",
           "title": {
            "standoff": 15
           },
           "zerolinecolor": "#283442",
           "zerolinewidth": 2
          }
         }
        },
        "title": {
         "text": "Linear Demand: Monthly Wine Demand Satisfied in Simulation 1"
        },
        "xaxis": {
         "title": {
          "text": "Month-Year"
         },
         "type": "category"
        },
        "yaxis": {
         "title": {
          "text": "Wine Demand Satisfied (in Thousands)"
         }
        }
       }
      }
     },
     "metadata": {},
     "output_type": "display_data"
    }
   ],
   "source": [
    "df = df2_sim1.copy()\n",
    "\n",
    "# Aggregating the total demand for Red and White wine across all months for each country\n",
    "red_columns = [col for col in df.columns if 'Red' in col]\n",
    "white_columns = [col for col in df.columns if 'White' in col]\n",
    "\n",
    "# Summing up the demand for Red and White wine for each country\n",
    "total_red_demand = df[red_columns].sum().sum()\n",
    "total_white_demand = df[white_columns].sum().sum()\n",
    "\n",
    "# Convert 'Month' to datetime for proper sorting and display\n",
    "df['Month'] = pd.to_datetime(df['Month'])\n",
    "\n",
    "# Aggregate monthly total demand for Red and White wine across all countries\n",
    "df['Total_Red_Demand'] = df[red_columns].sum(axis=1)\n",
    "df['Total_White_Demand'] = df[white_columns].sum(axis=1)\n",
    "df['Total_Wine_Demand'] = df['Total_Red_Demand'] + df['Total_White_Demand']\n",
    "\n",
    "# Extracting year-month for the x-axis\n",
    "df['Year_Month'] = df['Month'].dt.strftime('%Y-%m')\n",
    "\n",
    "# Creating separate traces for Red and White wine demand over time\n",
    "fig = go.Figure()\n",
    "\n",
    "# Red wine demand trace\n",
    "fig.add_trace(go.Bar(\n",
    "    x=df['Year_Month'],\n",
    "    y=df['Total_Red_Demand']*1000,\n",
    "    name=\"Red Wine Demand\",\n",
    "    marker_color=\"red\"\n",
    "))\n",
    "\n",
    "# White wine demand trace\n",
    "fig.add_trace(go.Bar(\n",
    "    x=df['Year_Month'],\n",
    "    y=df['Total_White_Demand']*1000,\n",
    "    name=\"White Wine Demand\",\n",
    "    marker_color=\"lightgreen\"\n",
    "))\n",
    "\n",
    "fig.update_layout(\n",
    "    title=\"Linear Demand: Monthly Wine Demand Satisfied in Simulation 1\",\n",
    "    xaxis_title=\"Month-Year\",\n",
    "    yaxis_title=\"Wine Demand Satisfied (in Thousands)\",\n",
    "    xaxis={'type': 'category'},  # Ensures that months are treated as distinct categories\n",
    "    barmode='stack'  # Groups the bars for red and white wine side by side for each month\n",
    ")\n",
    "fig.update_layout(template='plotly_dark')\n",
    "\n",
    "# This setup would allow for filtering by wine type by clicking on the legend items.\n",
    "fig.show()"
   ]
  },
  {
   "cell_type": "code",
   "execution_count": 12,
   "metadata": {},
   "outputs": [
    {
     "data": {
      "application/vnd.plotly.v1+json": {
       "config": {
        "plotlyServerURL": "https://plot.ly"
       },
       "data": [
        {
         "marker": {
          "color": "red"
         },
         "mode": "lines",
         "name": "Cumulative Profit: Red Wine",
         "stackgroup": "one",
         "type": "scatter",
         "x": [
          "2024-01",
          "2024-02",
          "2024-03",
          "2024-04",
          "2024-05",
          "2024-06",
          "2024-07",
          "2024-08",
          "2024-09",
          "2024-10",
          "2024-11",
          "2024-12",
          "2025-01",
          "2025-02",
          "2025-03",
          "2025-04",
          "2025-05",
          "2025-06",
          "2025-07",
          "2025-08",
          "2025-09",
          "2025-10",
          "2025-11",
          "2025-12",
          "2026-01",
          "2026-02",
          "2026-03",
          "2026-04",
          "2026-05",
          "2026-06",
          "2026-07",
          "2026-08",
          "2026-09",
          "2026-10",
          "2026-11",
          "2026-12",
          "2027-01",
          "2027-02",
          "2027-03",
          "2027-04",
          "2027-05",
          "2027-06",
          "2027-07",
          "2027-08",
          "2027-09",
          "2027-10",
          "2027-11",
          "2027-12",
          "2028-01",
          "2028-02",
          "2028-03",
          "2028-04",
          "2028-05",
          "2028-06",
          "2028-07",
          "2028-08",
          "2028-09",
          "2028-10",
          "2028-11",
          "2028-12",
          "2029-01",
          "2029-02",
          "2029-03",
          "2029-04",
          "2029-05",
          "2029-06",
          "2029-07",
          "2029-08",
          "2029-09",
          "2029-10",
          "2029-11",
          "2029-12",
          "2030-01",
          "2030-02",
          "2030-03",
          "2030-04",
          "2030-05",
          "2030-06",
          "2030-07",
          "2030-08",
          "2030-09",
          "2030-10",
          "2030-11",
          "2030-12",
          "2031-01",
          "2031-02",
          "2031-03",
          "2031-04",
          "2031-05",
          "2031-06",
          "2031-07",
          "2031-08",
          "2031-09",
          "2031-10",
          "2031-11",
          "2031-12",
          "2032-01",
          "2032-02",
          "2032-03",
          "2032-04",
          "2032-05",
          "2032-06",
          "2032-07",
          "2032-08",
          "2032-09",
          "2032-10",
          "2032-11",
          "2032-12",
          "2033-01",
          "2033-02",
          "2033-03",
          "2033-04",
          "2033-05",
          "2033-06",
          "2033-07",
          "2033-08",
          "2033-09",
          "2033-10",
          "2033-11",
          "2033-12"
         ],
         "y": [
          0,
          0,
          0,
          0,
          0,
          0,
          0,
          0,
          0,
          0,
          0,
          0,
          0,
          0,
          0,
          0,
          0,
          0,
          0,
          0,
          0,
          0,
          0,
          0,
          0,
          0,
          0,
          2.709715702247469,
          5.371898404564999,
          7.9691498214601495,
          10.50146995293292,
          12.986257084475751,
          15.453645930526145,
          17.938433062068974,
          20.470753193541743,
          23.06800461043689,
          25.825465563650447,
          28.632160700221064,
          31.45687679863495,
          34.263571935205576,
          37.02103288841913,
          39.71123869643235,
          42.33418935924523,
          44.907905838701055,
          47.46360135631361,
          50.037317835769436,
          52.66026849858232,
          55.350474306595544,
          58.20681359795608,
          61.114152535290536,
          64.04015863863548,
          66.94749757596993,
          69.80383686733046,
          72.5905093467066,
          75.30751501409833,
          77.97352103551613,
          80.62085989092346,
          83.28686591234124,
          86.00387157973297,
          88.79054405910911,
          91.74950318962556,
          94.76129423285074,
          97.79242309825786,
          100.80421414148303,
          103.76317327199949,
          106.6499626676253,
          109.46458232836046,
          112.2263700763869,
          114.96882000223142,
          117.73060775025786,
          120.54522741099302,
          123.43201680661883,
          126.49748440331607,
          129.61768561049473,
          132.75792070955043,
          135.87812191672907,
          138.9435895134263,
          141.93428960776507,
          144.85022219974536,
          147.71142118124422,
          150.55258627086604,
          153.4137852523649,
          156.3297178443452,
          159.32041793868396,
          162.49643570246855,
          165.72916093866368,
          168.98264255034547,
          172.2153677865406,
          175.39138555032523,
          178.48993946621263,
          181.51102953420286,
          184.47541212978254,
          187.4190383498756,
          190.38342094545527,
          193.4045110134455,
          196.5030649293329,
          199.79383382834519,
          203.14335906955364,
          206.51439062463936,
          209.86391586584782,
          213.15468476486006,
          216.36519100779887,
          219.49543459466418,
          222.56692183933328,
          225.6169027701251,
          228.6883900147942,
          231.8186336016595,
          235.02913984459832,
          238.4390265633483,
          241.9097964607856,
          245.40285114828558,
          248.87362104572287,
          252.28350776447283,
          255.61022651447286,
          258.85377729572286,
          262.03644489828554,
          265.1968277107855,
          268.37949531334823,
          271.6230460945982,
          274.94976484459823
         ]
        },
        {
         "marker": {
          "color": "lightgreen"
         },
         "mode": "lines",
         "name": "Cumulative Profit: White Wine",
         "stackgroup": "one",
         "type": "scatter",
         "x": [
          "2024-01",
          "2024-02",
          "2024-03",
          "2024-04",
          "2024-05",
          "2024-06",
          "2024-07",
          "2024-08",
          "2024-09",
          "2024-10",
          "2024-11",
          "2024-12",
          "2025-01",
          "2025-02",
          "2025-03",
          "2025-04",
          "2025-05",
          "2025-06",
          "2025-07",
          "2025-08",
          "2025-09",
          "2025-10",
          "2025-11",
          "2025-12",
          "2026-01",
          "2026-02",
          "2026-03",
          "2026-04",
          "2026-05",
          "2026-06",
          "2026-07",
          "2026-08",
          "2026-09",
          "2026-10",
          "2026-11",
          "2026-12",
          "2027-01",
          "2027-02",
          "2027-03",
          "2027-04",
          "2027-05",
          "2027-06",
          "2027-07",
          "2027-08",
          "2027-09",
          "2027-10",
          "2027-11",
          "2027-12",
          "2028-01",
          "2028-02",
          "2028-03",
          "2028-04",
          "2028-05",
          "2028-06",
          "2028-07",
          "2028-08",
          "2028-09",
          "2028-10",
          "2028-11",
          "2028-12",
          "2029-01",
          "2029-02",
          "2029-03",
          "2029-04",
          "2029-05",
          "2029-06",
          "2029-07",
          "2029-08",
          "2029-09",
          "2029-10",
          "2029-11",
          "2029-12",
          "2030-01",
          "2030-02",
          "2030-03",
          "2030-04",
          "2030-05",
          "2030-06",
          "2030-07",
          "2030-08",
          "2030-09",
          "2030-10",
          "2030-11",
          "2030-12",
          "2031-01",
          "2031-02",
          "2031-03",
          "2031-04",
          "2031-05",
          "2031-06",
          "2031-07",
          "2031-08",
          "2031-09",
          "2031-10",
          "2031-11",
          "2031-12",
          "2032-01",
          "2032-02",
          "2032-03",
          "2032-04",
          "2032-05",
          "2032-06",
          "2032-07",
          "2032-08",
          "2032-09",
          "2032-10",
          "2032-11",
          "2032-12",
          "2033-01",
          "2033-02",
          "2033-03",
          "2033-04",
          "2033-05",
          "2033-06",
          "2033-07",
          "2033-08",
          "2033-09",
          "2033-10",
          "2033-11",
          "2033-12"
         ],
         "y": [
          0,
          0,
          0,
          0,
          0,
          0,
          0,
          0,
          0,
          0,
          0,
          0,
          1.8506653999490164,
          3.734374241375411,
          5.630177821810986,
          7.51388666323738,
          9.364552063186396,
          11.170079282648844,
          12.930468321624735,
          14.657813919123244,
          16.373064777612583,
          18.100410375111093,
          19.860799414086983,
          21.66632663354943,
          23.58309817921805,
          25.53409348483623,
          27.497615556008963,
          29.44861086162714,
          31.365382407295762,
          33.23540342746027,
          35.05867392212066,
          36.847720656831505,
          38.62424062598779,
          40.41328736069863,
          42.236557855359024,
          44.10657887552353,
          46.091950761837296,
          48.11277126016813,
          50.14656685102614,
          52.16738734935698,
          54.152759235670736,
          56.08970741744026,
          57.97823189466554,
          59.83130775987373,
          61.67140853255478,
          63.524484397762976,
          65.41300887498825,
          67.34995705675777,
          69.40652134653736,
          71.49980538141817,
          73.60652977582653,
          75.69981381070734,
          77.75637810048693,
          79.76278228563773,
          81.71902636615978,
          83.6385507015806,
          85.54463467747387,
          87.46415901289468,
          89.42040309341674,
          91.42680727856754,
          93.55725785253941,
          95.72574740366153,
          97.90816018675464,
          100.07664973787678,
          102.20710031184865,
          104.28558867669922,
          106.31211483242855,
          108.30060201100758,
          110.27516595761564,
          112.26365313619468,
          114.290179291924,
          116.36866765677459,
          118.5758043263966,
          120.82234919556522,
          123.08331846688533,
          125.32986333605396,
          127.53700000567596,
          129.6903040735999,
          131.7897755398257,
          133.8498388065049,
          135.8954776710326,
          137.9555409377118,
          140.05501240393758,
          142.2083164718615,
          144.4950492617864,
          146.8226114318469,
          149.16511819225778,
          151.49268036231828,
          153.7794131522432,
          156.01037197168213,
          158.1855568206351,
          160.31991228945247,
          162.43932316791947,
          164.57367863673684,
          166.7488634856898,
          168.97982230512875,
          171.34917591241756,
          173.76083408608767,
          176.1879768057494,
          178.59963497941948,
          180.9689885867083,
          183.2805530816242,
          185.53432846416723,
          187.74579928032898,
          189.9417855504991,
          192.15325636666086,
          194.4070317492039,
          196.7185962441198,
          199.1737146816198,
          201.67266900777463,
          204.18766838277463,
          206.68662270892946,
          209.14174114642944,
          211.53697864642945,
          213.87233520892946,
          216.16385588277458,
          218.43933150777457,
          220.73085218161972,
          223.0662087441197,
          225.4614462441197
         ]
        }
       ],
       "layout": {
        "hovermode": "x unified",
        "legend": {
         "orientation": "h",
         "x": 0.9,
         "xanchor": "right",
         "y": 0.1,
         "yanchor": "bottom"
        },
        "template": {
         "data": {
          "bar": [
           {
            "error_x": {
             "color": "#f2f5fa"
            },
            "error_y": {
             "color": "#f2f5fa"
            },
            "marker": {
             "line": {
              "color": "rgb(17,17,17)",
              "width": 0.5
             },
             "pattern": {
              "fillmode": "overlay",
              "size": 10,
              "solidity": 0.2
             }
            },
            "type": "bar"
           }
          ],
          "barpolar": [
           {
            "marker": {
             "line": {
              "color": "rgb(17,17,17)",
              "width": 0.5
             },
             "pattern": {
              "fillmode": "overlay",
              "size": 10,
              "solidity": 0.2
             }
            },
            "type": "barpolar"
           }
          ],
          "carpet": [
           {
            "aaxis": {
             "endlinecolor": "#A2B1C6",
             "gridcolor": "#506784",
             "linecolor": "#506784",
             "minorgridcolor": "#506784",
             "startlinecolor": "#A2B1C6"
            },
            "baxis": {
             "endlinecolor": "#A2B1C6",
             "gridcolor": "#506784",
             "linecolor": "#506784",
             "minorgridcolor": "#506784",
             "startlinecolor": "#A2B1C6"
            },
            "type": "carpet"
           }
          ],
          "choropleth": [
           {
            "colorbar": {
             "outlinewidth": 0,
             "ticks": ""
            },
            "type": "choropleth"
           }
          ],
          "contour": [
           {
            "colorbar": {
             "outlinewidth": 0,
             "ticks": ""
            },
            "colorscale": [
             [
              0,
              "#0d0887"
             ],
             [
              0.1111111111111111,
              "#46039f"
             ],
             [
              0.2222222222222222,
              "#7201a8"
             ],
             [
              0.3333333333333333,
              "#9c179e"
             ],
             [
              0.4444444444444444,
              "#bd3786"
             ],
             [
              0.5555555555555556,
              "#d8576b"
             ],
             [
              0.6666666666666666,
              "#ed7953"
             ],
             [
              0.7777777777777778,
              "#fb9f3a"
             ],
             [
              0.8888888888888888,
              "#fdca26"
             ],
             [
              1,
              "#f0f921"
             ]
            ],
            "type": "contour"
           }
          ],
          "contourcarpet": [
           {
            "colorbar": {
             "outlinewidth": 0,
             "ticks": ""
            },
            "type": "contourcarpet"
           }
          ],
          "heatmap": [
           {
            "colorbar": {
             "outlinewidth": 0,
             "ticks": ""
            },
            "colorscale": [
             [
              0,
              "#0d0887"
             ],
             [
              0.1111111111111111,
              "#46039f"
             ],
             [
              0.2222222222222222,
              "#7201a8"
             ],
             [
              0.3333333333333333,
              "#9c179e"
             ],
             [
              0.4444444444444444,
              "#bd3786"
             ],
             [
              0.5555555555555556,
              "#d8576b"
             ],
             [
              0.6666666666666666,
              "#ed7953"
             ],
             [
              0.7777777777777778,
              "#fb9f3a"
             ],
             [
              0.8888888888888888,
              "#fdca26"
             ],
             [
              1,
              "#f0f921"
             ]
            ],
            "type": "heatmap"
           }
          ],
          "heatmapgl": [
           {
            "colorbar": {
             "outlinewidth": 0,
             "ticks": ""
            },
            "colorscale": [
             [
              0,
              "#0d0887"
             ],
             [
              0.1111111111111111,
              "#46039f"
             ],
             [
              0.2222222222222222,
              "#7201a8"
             ],
             [
              0.3333333333333333,
              "#9c179e"
             ],
             [
              0.4444444444444444,
              "#bd3786"
             ],
             [
              0.5555555555555556,
              "#d8576b"
             ],
             [
              0.6666666666666666,
              "#ed7953"
             ],
             [
              0.7777777777777778,
              "#fb9f3a"
             ],
             [
              0.8888888888888888,
              "#fdca26"
             ],
             [
              1,
              "#f0f921"
             ]
            ],
            "type": "heatmapgl"
           }
          ],
          "histogram": [
           {
            "marker": {
             "pattern": {
              "fillmode": "overlay",
              "size": 10,
              "solidity": 0.2
             }
            },
            "type": "histogram"
           }
          ],
          "histogram2d": [
           {
            "colorbar": {
             "outlinewidth": 0,
             "ticks": ""
            },
            "colorscale": [
             [
              0,
              "#0d0887"
             ],
             [
              0.1111111111111111,
              "#46039f"
             ],
             [
              0.2222222222222222,
              "#7201a8"
             ],
             [
              0.3333333333333333,
              "#9c179e"
             ],
             [
              0.4444444444444444,
              "#bd3786"
             ],
             [
              0.5555555555555556,
              "#d8576b"
             ],
             [
              0.6666666666666666,
              "#ed7953"
             ],
             [
              0.7777777777777778,
              "#fb9f3a"
             ],
             [
              0.8888888888888888,
              "#fdca26"
             ],
             [
              1,
              "#f0f921"
             ]
            ],
            "type": "histogram2d"
           }
          ],
          "histogram2dcontour": [
           {
            "colorbar": {
             "outlinewidth": 0,
             "ticks": ""
            },
            "colorscale": [
             [
              0,
              "#0d0887"
             ],
             [
              0.1111111111111111,
              "#46039f"
             ],
             [
              0.2222222222222222,
              "#7201a8"
             ],
             [
              0.3333333333333333,
              "#9c179e"
             ],
             [
              0.4444444444444444,
              "#bd3786"
             ],
             [
              0.5555555555555556,
              "#d8576b"
             ],
             [
              0.6666666666666666,
              "#ed7953"
             ],
             [
              0.7777777777777778,
              "#fb9f3a"
             ],
             [
              0.8888888888888888,
              "#fdca26"
             ],
             [
              1,
              "#f0f921"
             ]
            ],
            "type": "histogram2dcontour"
           }
          ],
          "mesh3d": [
           {
            "colorbar": {
             "outlinewidth": 0,
             "ticks": ""
            },
            "type": "mesh3d"
           }
          ],
          "parcoords": [
           {
            "line": {
             "colorbar": {
              "outlinewidth": 0,
              "ticks": ""
             }
            },
            "type": "parcoords"
           }
          ],
          "pie": [
           {
            "automargin": true,
            "type": "pie"
           }
          ],
          "scatter": [
           {
            "marker": {
             "line": {
              "color": "#283442"
             }
            },
            "type": "scatter"
           }
          ],
          "scatter3d": [
           {
            "line": {
             "colorbar": {
              "outlinewidth": 0,
              "ticks": ""
             }
            },
            "marker": {
             "colorbar": {
              "outlinewidth": 0,
              "ticks": ""
             }
            },
            "type": "scatter3d"
           }
          ],
          "scattercarpet": [
           {
            "marker": {
             "colorbar": {
              "outlinewidth": 0,
              "ticks": ""
             }
            },
            "type": "scattercarpet"
           }
          ],
          "scattergeo": [
           {
            "marker": {
             "colorbar": {
              "outlinewidth": 0,
              "ticks": ""
             }
            },
            "type": "scattergeo"
           }
          ],
          "scattergl": [
           {
            "marker": {
             "line": {
              "color": "#283442"
             }
            },
            "type": "scattergl"
           }
          ],
          "scattermapbox": [
           {
            "marker": {
             "colorbar": {
              "outlinewidth": 0,
              "ticks": ""
             }
            },
            "type": "scattermapbox"
           }
          ],
          "scatterpolar": [
           {
            "marker": {
             "colorbar": {
              "outlinewidth": 0,
              "ticks": ""
             }
            },
            "type": "scatterpolar"
           }
          ],
          "scatterpolargl": [
           {
            "marker": {
             "colorbar": {
              "outlinewidth": 0,
              "ticks": ""
             }
            },
            "type": "scatterpolargl"
           }
          ],
          "scatterternary": [
           {
            "marker": {
             "colorbar": {
              "outlinewidth": 0,
              "ticks": ""
             }
            },
            "type": "scatterternary"
           }
          ],
          "surface": [
           {
            "colorbar": {
             "outlinewidth": 0,
             "ticks": ""
            },
            "colorscale": [
             [
              0,
              "#0d0887"
             ],
             [
              0.1111111111111111,
              "#46039f"
             ],
             [
              0.2222222222222222,
              "#7201a8"
             ],
             [
              0.3333333333333333,
              "#9c179e"
             ],
             [
              0.4444444444444444,
              "#bd3786"
             ],
             [
              0.5555555555555556,
              "#d8576b"
             ],
             [
              0.6666666666666666,
              "#ed7953"
             ],
             [
              0.7777777777777778,
              "#fb9f3a"
             ],
             [
              0.8888888888888888,
              "#fdca26"
             ],
             [
              1,
              "#f0f921"
             ]
            ],
            "type": "surface"
           }
          ],
          "table": [
           {
            "cells": {
             "fill": {
              "color": "#506784"
             },
             "line": {
              "color": "rgb(17,17,17)"
             }
            },
            "header": {
             "fill": {
              "color": "#2a3f5f"
             },
             "line": {
              "color": "rgb(17,17,17)"
             }
            },
            "type": "table"
           }
          ]
         },
         "layout": {
          "annotationdefaults": {
           "arrowcolor": "#f2f5fa",
           "arrowhead": 0,
           "arrowwidth": 1
          },
          "autotypenumbers": "strict",
          "coloraxis": {
           "colorbar": {
            "outlinewidth": 0,
            "ticks": ""
           }
          },
          "colorscale": {
           "diverging": [
            [
             0,
             "#8e0152"
            ],
            [
             0.1,
             "#c51b7d"
            ],
            [
             0.2,
             "#de77ae"
            ],
            [
             0.3,
             "#f1b6da"
            ],
            [
             0.4,
             "#fde0ef"
            ],
            [
             0.5,
             "#f7f7f7"
            ],
            [
             0.6,
             "#e6f5d0"
            ],
            [
             0.7,
             "#b8e186"
            ],
            [
             0.8,
             "#7fbc41"
            ],
            [
             0.9,
             "#4d9221"
            ],
            [
             1,
             "#276419"
            ]
           ],
           "sequential": [
            [
             0,
             "#0d0887"
            ],
            [
             0.1111111111111111,
             "#46039f"
            ],
            [
             0.2222222222222222,
             "#7201a8"
            ],
            [
             0.3333333333333333,
             "#9c179e"
            ],
            [
             0.4444444444444444,
             "#bd3786"
            ],
            [
             0.5555555555555556,
             "#d8576b"
            ],
            [
             0.6666666666666666,
             "#ed7953"
            ],
            [
             0.7777777777777778,
             "#fb9f3a"
            ],
            [
             0.8888888888888888,
             "#fdca26"
            ],
            [
             1,
             "#f0f921"
            ]
           ],
           "sequentialminus": [
            [
             0,
             "#0d0887"
            ],
            [
             0.1111111111111111,
             "#46039f"
            ],
            [
             0.2222222222222222,
             "#7201a8"
            ],
            [
             0.3333333333333333,
             "#9c179e"
            ],
            [
             0.4444444444444444,
             "#bd3786"
            ],
            [
             0.5555555555555556,
             "#d8576b"
            ],
            [
             0.6666666666666666,
             "#ed7953"
            ],
            [
             0.7777777777777778,
             "#fb9f3a"
            ],
            [
             0.8888888888888888,
             "#fdca26"
            ],
            [
             1,
             "#f0f921"
            ]
           ]
          },
          "colorway": [
           "#636efa",
           "#EF553B",
           "#00cc96",
           "#ab63fa",
           "#FFA15A",
           "#19d3f3",
           "#FF6692",
           "#B6E880",
           "#FF97FF",
           "#FECB52"
          ],
          "font": {
           "color": "#f2f5fa"
          },
          "geo": {
           "bgcolor": "rgb(17,17,17)",
           "lakecolor": "rgb(17,17,17)",
           "landcolor": "rgb(17,17,17)",
           "showlakes": true,
           "showland": true,
           "subunitcolor": "#506784"
          },
          "hoverlabel": {
           "align": "left"
          },
          "hovermode": "closest",
          "mapbox": {
           "style": "dark"
          },
          "paper_bgcolor": "rgb(17,17,17)",
          "plot_bgcolor": "rgb(17,17,17)",
          "polar": {
           "angularaxis": {
            "gridcolor": "#506784",
            "linecolor": "#506784",
            "ticks": ""
           },
           "bgcolor": "rgb(17,17,17)",
           "radialaxis": {
            "gridcolor": "#506784",
            "linecolor": "#506784",
            "ticks": ""
           }
          },
          "scene": {
           "xaxis": {
            "backgroundcolor": "rgb(17,17,17)",
            "gridcolor": "#506784",
            "gridwidth": 2,
            "linecolor": "#506784",
            "showbackground": true,
            "ticks": "",
            "zerolinecolor": "#C8D4E3"
           },
           "yaxis": {
            "backgroundcolor": "rgb(17,17,17)",
            "gridcolor": "#506784",
            "gridwidth": 2,
            "linecolor": "#506784",
            "showbackground": true,
            "ticks": "",
            "zerolinecolor": "#C8D4E3"
           },
           "zaxis": {
            "backgroundcolor": "rgb(17,17,17)",
            "gridcolor": "#506784",
            "gridwidth": 2,
            "linecolor": "#506784",
            "showbackground": true,
            "ticks": "",
            "zerolinecolor": "#C8D4E3"
           }
          },
          "shapedefaults": {
           "line": {
            "color": "#f2f5fa"
           }
          },
          "sliderdefaults": {
           "bgcolor": "#C8D4E3",
           "bordercolor": "rgb(17,17,17)",
           "borderwidth": 1,
           "tickwidth": 0
          },
          "ternary": {
           "aaxis": {
            "gridcolor": "#506784",
            "linecolor": "#506784",
            "ticks": ""
           },
           "baxis": {
            "gridcolor": "#506784",
            "linecolor": "#506784",
            "ticks": ""
           },
           "bgcolor": "rgb(17,17,17)",
           "caxis": {
            "gridcolor": "#506784",
            "linecolor": "#506784",
            "ticks": ""
           }
          },
          "title": {
           "x": 0.05
          },
          "updatemenudefaults": {
           "bgcolor": "#506784",
           "borderwidth": 0
          },
          "xaxis": {
           "automargin": true,
           "gridcolor": "#283442",
           "linecolor": "#506784",
           "ticks": "",
           "title": {
            "standoff": 15
           },
           "zerolinecolor": "#283442",
           "zerolinewidth": 2
          },
          "yaxis": {
           "automargin": true,
           "gridcolor": "#283442",
           "linecolor": "#506784",
           "ticks": "",
           "title": {
            "standoff": 15
           },
           "zerolinecolor": "#283442",
           "zerolinewidth": 2
          }
         }
        },
        "title": {
         "text": "Linear Demand: Expected Profit in Simulation 1"
        },
        "xaxis": {
         "title": {
          "text": "Month"
         },
         "type": "category"
        },
        "yaxis": {
         "title": {
          "text": "Expected Profit in Euros (in Millions)"
         }
        }
       }
      }
     },
     "metadata": {},
     "output_type": "display_data"
    }
   ],
   "source": [
    "# Assuming df is your DataFrame containing the data\n",
    "df = df2_sim1.copy()\n",
    "\n",
    "# Convert 'Month' to datetime for proper sorting and display\n",
    "df['Month'] = pd.to_datetime(df['Month'])\n",
    "\n",
    "# Aggregate monthly total demand for Red and White wine across all countries\n",
    "df['Total_Red_Demand'] = df[red_columns].sum(axis=1)\n",
    "df['Total_White_Demand'] = df[white_columns].sum(axis=1)\n",
    "\n",
    "# Calculate cumulative sum for each type of wine\n",
    "df['Cumulative_Red_Demand'] = df['Total_Red_Demand'].cumsum() * 125 # 'Red_Wine_1': 125,\n",
    "df['Cumulative_White_Demand'] = df['Total_White_Demand'].cumsum() * 90 # 'White_Wine_1': 90,\n",
    "\n",
    "# Extracting year-month for the x-axis\n",
    "df['Year_Month'] = df['Month'].dt.strftime('%Y-%m')\n",
    "\n",
    "# Create a list of months\n",
    "months = list(range(1, len(df) + 1))\n",
    "\n",
    "# Create stacked line plot\n",
    "fig = go.Figure()\n",
    "\n",
    "# Stacked red wine demand\n",
    "fig.add_trace(go.Scatter(\n",
    "    x=df['Year_Month'],\n",
    "    y=df['Cumulative_Red_Demand'],\n",
    "    mode='lines',\n",
    "    name='Cumulative Profit: Red Wine',\n",
    "    stackgroup='one',\n",
    "    marker_color='red'\n",
    "))\n",
    "\n",
    "# Stacked white wine demand\n",
    "fig.add_trace(go.Scatter(\n",
    "    x=df['Year_Month'],\n",
    "    y=df['Cumulative_White_Demand'],\n",
    "    mode='lines',\n",
    "    name='Cumulative Profit: White Wine',\n",
    "    stackgroup='one',\n",
    "    marker_color='lightgreen'\n",
    "))\n",
    "\n",
    "fig.update_layout(\n",
    "    title=\"Linear Demand: Expected Profit in Simulation 1\",\n",
    "    xaxis_title=\"Month\",\n",
    "    yaxis_title=\"Expected Profit in Euros (in Millions)\",\n",
    "    hovermode=\"x unified\",\n",
    "    xaxis={'type': 'category'},  #\n",
    ")\n",
    "fig.update_layout(template='plotly_dark')\n",
    "fig.update_layout(\n",
    "    legend=dict(\n",
    "        x=0.9, # Adjusts the x position to be towards the right\n",
    "        y=0.1, # Adjusts the y position to be towards the bottom\n",
    "        orientation=\"h\", # Makes the legend items align horizontally\n",
    "        xanchor='right', # Anchors the legend's right side to the x position\n",
    "        yanchor='bottom' # Anchors the legend's bottom to the y position\n",
    "    )\n",
    ")\n",
    "\n",
    "fig.show()"
   ]
  },
  {
   "cell_type": "code",
   "execution_count": null,
   "metadata": {},
   "outputs": [],
   "source": []
  },
  {
   "cell_type": "code",
   "execution_count": null,
   "metadata": {},
   "outputs": [],
   "source": []
  },
  {
   "cell_type": "code",
   "execution_count": null,
   "metadata": {},
   "outputs": [],
   "source": []
  },
  {
   "cell_type": "markdown",
   "metadata": {},
   "source": [
    "## Simulation 2"
   ]
  },
  {
   "cell_type": "code",
   "execution_count": 13,
   "metadata": {},
   "outputs": [],
   "source": [
    "# Initialize a new DataFrame to hold the adjusted demands\n",
    "df2_sim2 = df2.copy()\n",
    "\n",
    "# Convert \"Month\" column to datetime for easier comparison\n",
    "df2_sim2[\"Month\"] = pd.to_datetime(df2_sim2[\"Month\"], format=\"%b-%Y\")\n",
    "\n",
    "# Calculate the readiness dates based on production times\n",
    "white_wine_1_ready_date = start_date + timedelta(days=(first_batch_ready + White_Wine_1_production_time) * 30)\n",
    "red_wine_1_ready_date = start_date + timedelta(days=(first_batch_ready + Red_Wine_1_production_time) * 30)\n",
    "white_wine_2_ready_date = start_date + timedelta(days=(first_batch_ready + White_Wine_2_production_time) * 30)\n",
    "red_wine_2_ready_date = start_date + timedelta(days=(first_batch_ready + Red_Wine_2_production_time) * 30)\n",
    "\n",
    "# Initialize columns for adjusted demands\n",
    "for wine_type in ['Red_1', 'White_1', 'Red_2', 'White_2']:\n",
    "    for country in [\"Singapore\", \"Thailand\", \"Japan\", \"Korea\", \"Indonesia\"]:\n",
    "        df2_sim2[f\"{wine_type}_{country}\"] = 0.0\n",
    "\n",
    "# Split the demand for each wine type\n",
    "for i, row in df2_sim2.iterrows():\n",
    "    current_month = row[\"Month\"]\n",
    "    for country in [\"Singapore\", \"Thailand\", \"Japan\", \"Korea\", \"Indonesia\"]:\n",
    "        original_demand = row[country]\n",
    "        \n",
    "        # Calculate demands for each wine type based on their contributions\n",
    "        demand_red_1 = original_demand * 0.35\n",
    "        demand_white_1 = original_demand * 0.35\n",
    "        demand_red_2 = original_demand * 0.15\n",
    "        demand_white_2 = original_demand * 0.15\n",
    "        \n",
    "        # Adjust demand based on the readiness date of each wine type\n",
    "        if current_month >= white_wine_1_ready_date:\n",
    "            df2_sim2.at[i, f\"White_1_{country}\"] = demand_white_1\n",
    "            \n",
    "        if current_month >= red_wine_1_ready_date:\n",
    "            df2_sim2.at[i, f\"Red_1_{country}\"] = demand_red_1\n",
    "            \n",
    "        if current_month >= white_wine_2_ready_date:\n",
    "            df2_sim2.at[i, f\"White_2_{country}\"] = demand_white_2\n",
    "            \n",
    "        if current_month >= red_wine_2_ready_date:\n",
    "            df2_sim2.at[i, f\"Red_2_{country}\"] = demand_red_2\n",
    "\n",
    "# Drop original country columns as they're now split into specific wine demands\n",
    "df2_sim2.drop([\"Singapore\", \"Thailand\", \"Japan\", \"Korea\", \"Indonesia\"], axis=1, inplace=True)\n",
    "\n",
    "# Display a sample of the adjusted DataFrame to verify correctness\n",
    "# df2_sim2"
   ]
  },
  {
   "cell_type": "code",
   "execution_count": 14,
   "metadata": {},
   "outputs": [
    {
     "data": {
      "application/vnd.plotly.v1+json": {
       "config": {
        "plotlyServerURL": "https://plot.ly"
       },
       "data": [
        {
         "marker": {
          "color": "red"
         },
         "name": "Red Wine 1 Profit",
         "type": "bar",
         "x": [
          "2024-01",
          "2024-02",
          "2024-03",
          "2024-04",
          "2024-05",
          "2024-06",
          "2024-07",
          "2024-08",
          "2024-09",
          "2024-10",
          "2024-11",
          "2024-12",
          "2025-01",
          "2025-02",
          "2025-03",
          "2025-04",
          "2025-05",
          "2025-06",
          "2025-07",
          "2025-08",
          "2025-09",
          "2025-10",
          "2025-11",
          "2025-12",
          "2026-01",
          "2026-02",
          "2026-03",
          "2026-04",
          "2026-05",
          "2026-06",
          "2026-07",
          "2026-08",
          "2026-09",
          "2026-10",
          "2026-11",
          "2026-12",
          "2027-01",
          "2027-02",
          "2027-03",
          "2027-04",
          "2027-05",
          "2027-06",
          "2027-07",
          "2027-08",
          "2027-09",
          "2027-10",
          "2027-11",
          "2027-12",
          "2028-01",
          "2028-02",
          "2028-03",
          "2028-04",
          "2028-05",
          "2028-06",
          "2028-07",
          "2028-08",
          "2028-09",
          "2028-10",
          "2028-11",
          "2028-12",
          "2029-01",
          "2029-02",
          "2029-03",
          "2029-04",
          "2029-05",
          "2029-06",
          "2029-07",
          "2029-08",
          "2029-09",
          "2029-10",
          "2029-11",
          "2029-12",
          "2030-01",
          "2030-02",
          "2030-03",
          "2030-04",
          "2030-05",
          "2030-06",
          "2030-07",
          "2030-08",
          "2030-09",
          "2030-10",
          "2030-11",
          "2030-12",
          "2031-01",
          "2031-02",
          "2031-03",
          "2031-04",
          "2031-05",
          "2031-06",
          "2031-07",
          "2031-08",
          "2031-09",
          "2031-10",
          "2031-11",
          "2031-12",
          "2032-01",
          "2032-02",
          "2032-03",
          "2032-04",
          "2032-05",
          "2032-06",
          "2032-07",
          "2032-08",
          "2032-09",
          "2032-10",
          "2032-11",
          "2032-12",
          "2033-01",
          "2033-02",
          "2033-03",
          "2033-04",
          "2033-05",
          "2033-06",
          "2033-07",
          "2033-08",
          "2033-09",
          "2033-10",
          "2033-11",
          "2033-12"
         ],
         "y": [
          0,
          0,
          0,
          0,
          0,
          0,
          0,
          0,
          0,
          0,
          0,
          0,
          0,
          0,
          0,
          0,
          0,
          0,
          0,
          0,
          0,
          0,
          0,
          0,
          0,
          0,
          0,
          0,
          14.908223132978176,
          14.54460793461284,
          14.180992736247504,
          13.914807936639853,
          13.817377537882203,
          13.914807936639853,
          14.180992736247504,
          14.54460793461284,
          15.441781337995915,
          15.717492764795463,
          15.818410151117769,
          15.717492764795463,
          15.441781337995915,
          15.065152524874058,
          14.688523711752135,
          14.41281228495262,
          14.311894898630312,
          14.41281228495262,
          14.688523711752135,
          15.065152524874058,
          15.995500031618974,
          16.28109804907299,
          16.385634178731646,
          16.28109804907299,
          15.995500031618974,
          15.605365884506332,
          15.215231737393694,
          14.929633719939678,
          14.825097590281018,
          14.929633719939678,
          15.215231737393694,
          15.605365884506332,
          16.570171130892152,
          16.866029842061018,
          16.974321646279794,
          16.866029842061018,
          16.570171130892152,
          16.166020615504515,
          15.761870100116944,
          15.466011388948049,
          15.35771958472934,
          15.466011388948049,
          15.761870100116944,
          16.166020615504515,
          17.166618541504494,
          17.47312676020048,
          17.585316554711955,
          17.47312676020048,
          17.166618541504494,
          16.74792052829707,
          16.329222515089647,
          16.022714296393666,
          15.910524501882184,
          16.022714296393666,
          16.329222515089647,
          16.74792052829707,
          17.78569947719376,
          18.103261322692703,
          18.219497025418008,
          18.103261322692703,
          17.78569947719376,
          17.351901928969507,
          16.918104380745227,
          16.600542535246284,
          16.484306832521046,
          16.600542535246284,
          16.918104380745227,
          17.351901928969507,
          18.428305834468603,
          18.757341350767355,
          18.877776708480024,
          18.757341350767355,
          18.428305834468603,
          17.97883496045717,
          17.52936408644575,
          17.200328570146958,
          17.079893212434357,
          17.200328570146958,
          17.52936408644575,
          17.97883496045717,
          19.095365624999964,
          19.43631142564877,
          19.56110625,
          19.43631142564877,
          19.095365624999964,
          18.62962499999996,
          18.163884375,
          17.822938574351014,
          17.698143749999964,
          17.822938574351014,
          18.163884375,
          18.62962499999996
         ]
        },
        {
         "marker": {
          "color": "lightgreen"
         },
         "name": "White Wine 1 Profit",
         "type": "bar",
         "x": [
          "2024-01",
          "2024-02",
          "2024-03",
          "2024-04",
          "2024-05",
          "2024-06",
          "2024-07",
          "2024-08",
          "2024-09",
          "2024-10",
          "2024-11",
          "2024-12",
          "2025-01",
          "2025-02",
          "2025-03",
          "2025-04",
          "2025-05",
          "2025-06",
          "2025-07",
          "2025-08",
          "2025-09",
          "2025-10",
          "2025-11",
          "2025-12",
          "2026-01",
          "2026-02",
          "2026-03",
          "2026-04",
          "2026-05",
          "2026-06",
          "2026-07",
          "2026-08",
          "2026-09",
          "2026-10",
          "2026-11",
          "2026-12",
          "2027-01",
          "2027-02",
          "2027-03",
          "2027-04",
          "2027-05",
          "2027-06",
          "2027-07",
          "2027-08",
          "2027-09",
          "2027-10",
          "2027-11",
          "2027-12",
          "2028-01",
          "2028-02",
          "2028-03",
          "2028-04",
          "2028-05",
          "2028-06",
          "2028-07",
          "2028-08",
          "2028-09",
          "2028-10",
          "2028-11",
          "2028-12",
          "2029-01",
          "2029-02",
          "2029-03",
          "2029-04",
          "2029-05",
          "2029-06",
          "2029-07",
          "2029-08",
          "2029-09",
          "2029-10",
          "2029-11",
          "2029-12",
          "2030-01",
          "2030-02",
          "2030-03",
          "2030-04",
          "2030-05",
          "2030-06",
          "2030-07",
          "2030-08",
          "2030-09",
          "2030-10",
          "2030-11",
          "2030-12",
          "2031-01",
          "2031-02",
          "2031-03",
          "2031-04",
          "2031-05",
          "2031-06",
          "2031-07",
          "2031-08",
          "2031-09",
          "2031-10",
          "2031-11",
          "2031-12",
          "2032-01",
          "2032-02",
          "2032-03",
          "2032-04",
          "2032-05",
          "2032-06",
          "2032-07",
          "2032-08",
          "2032-09",
          "2032-10",
          "2032-11",
          "2032-12",
          "2033-01",
          "2033-02",
          "2033-03",
          "2033-04",
          "2033-05",
          "2033-06",
          "2033-07",
          "2033-08",
          "2033-09",
          "2033-10",
          "2033-11",
          "2033-12"
         ],
         "y": [
          0,
          0,
          0,
          0,
          0,
          0,
          0,
          0,
          0,
          0,
          0,
          0,
          0,
          14.651068766649734,
          14.745138958943363,
          14.651068766649734,
          14.39406422182568,
          14.042989484707922,
          13.691914747590275,
          13.434910202766183,
          13.340840010472624,
          13.434910202766183,
          13.691914747590275,
          14.042989484707922,
          14.908223132978176,
          15.174407932585824,
          15.271838331343474,
          15.174407932585824,
          14.908223132978176,
          14.54460793461284,
          14.180992736247504,
          13.914807936639853,
          13.817377537882203,
          13.914807936639853,
          14.180992736247504,
          14.54460793461284,
          15.441781337995915,
          15.717492764795463,
          15.818410151117769,
          15.717492764795463,
          15.441781337995915,
          15.065152524874058,
          14.688523711752135,
          14.41281228495262,
          14.311894898630312,
          14.41281228495262,
          14.688523711752135,
          15.065152524874058,
          15.995500031618974,
          16.28109804907299,
          16.385634178731646,
          16.28109804907299,
          15.995500031618974,
          15.605365884506332,
          15.215231737393694,
          14.929633719939678,
          14.825097590281018,
          14.929633719939678,
          15.215231737393694,
          15.605365884506332,
          16.570171130892152,
          16.866029842061018,
          16.974321646279794,
          16.866029842061018,
          16.570171130892152,
          16.166020615504515,
          15.761870100116944,
          15.466011388948049,
          15.35771958472934,
          15.466011388948049,
          15.761870100116944,
          16.166020615504515,
          17.166618541504494,
          17.47312676020048,
          17.585316554711955,
          17.47312676020048,
          17.166618541504494,
          16.74792052829707,
          16.329222515089647,
          16.022714296393666,
          15.910524501882184,
          16.022714296393666,
          16.329222515089647,
          16.74792052829707,
          17.78569947719376,
          18.103261322692703,
          18.219497025418008,
          18.103261322692703,
          17.78569947719376,
          17.351901928969507,
          16.918104380745227,
          16.600542535246284,
          16.484306832521046,
          16.600542535246284,
          16.918104380745227,
          17.351901928969507,
          18.428305834468603,
          18.757341350767355,
          18.877776708480024,
          18.757341350767355,
          18.428305834468603,
          17.97883496045717,
          17.52936408644575,
          17.200328570146958,
          17.079893212434357,
          17.200328570146958,
          17.52936408644575,
          17.97883496045717,
          19.095365624999964,
          19.43631142564877,
          19.56110625,
          19.43631142564877,
          19.095365624999964,
          18.62962499999996,
          18.163884375,
          17.822938574351014,
          17.698143749999964,
          17.822938574351014,
          18.163884375,
          18.62962499999996
         ]
        },
        {
         "marker": {
          "color": "darkred"
         },
         "name": "Red Wine 2 Profit",
         "type": "bar",
         "x": [
          "2024-01",
          "2024-02",
          "2024-03",
          "2024-04",
          "2024-05",
          "2024-06",
          "2024-07",
          "2024-08",
          "2024-09",
          "2024-10",
          "2024-11",
          "2024-12",
          "2025-01",
          "2025-02",
          "2025-03",
          "2025-04",
          "2025-05",
          "2025-06",
          "2025-07",
          "2025-08",
          "2025-09",
          "2025-10",
          "2025-11",
          "2025-12",
          "2026-01",
          "2026-02",
          "2026-03",
          "2026-04",
          "2026-05",
          "2026-06",
          "2026-07",
          "2026-08",
          "2026-09",
          "2026-10",
          "2026-11",
          "2026-12",
          "2027-01",
          "2027-02",
          "2027-03",
          "2027-04",
          "2027-05",
          "2027-06",
          "2027-07",
          "2027-08",
          "2027-09",
          "2027-10",
          "2027-11",
          "2027-12",
          "2028-01",
          "2028-02",
          "2028-03",
          "2028-04",
          "2028-05",
          "2028-06",
          "2028-07",
          "2028-08",
          "2028-09",
          "2028-10",
          "2028-11",
          "2028-12",
          "2029-01",
          "2029-02",
          "2029-03",
          "2029-04",
          "2029-05",
          "2029-06",
          "2029-07",
          "2029-08",
          "2029-09",
          "2029-10",
          "2029-11",
          "2029-12",
          "2030-01",
          "2030-02",
          "2030-03",
          "2030-04",
          "2030-05",
          "2030-06",
          "2030-07",
          "2030-08",
          "2030-09",
          "2030-10",
          "2030-11",
          "2030-12",
          "2031-01",
          "2031-02",
          "2031-03",
          "2031-04",
          "2031-05",
          "2031-06",
          "2031-07",
          "2031-08",
          "2031-09",
          "2031-10",
          "2031-11",
          "2031-12",
          "2032-01",
          "2032-02",
          "2032-03",
          "2032-04",
          "2032-05",
          "2032-06",
          "2032-07",
          "2032-08",
          "2032-09",
          "2032-10",
          "2032-11",
          "2032-12",
          "2033-01",
          "2033-02",
          "2033-03",
          "2033-04",
          "2033-05",
          "2033-06",
          "2033-07",
          "2033-08",
          "2033-09",
          "2033-10",
          "2033-11",
          "2033-12"
         ],
         "y": [
          0,
          0,
          0,
          0,
          0,
          0,
          0,
          0,
          0,
          0,
          0,
          0,
          0,
          0,
          0,
          0,
          0,
          0,
          0,
          0,
          0,
          0,
          0,
          0,
          0,
          0,
          0,
          0,
          0,
          0,
          0,
          0,
          0,
          0,
          0,
          0,
          0,
          6.736068327769485,
          6.77931863619333,
          6.736068327769485,
          6.617906287712535,
          6.4564939392317395,
          6.2950815907509154,
          6.176919550693979,
          6.133669242270134,
          6.176919550693979,
          6.2950815907509154,
          6.4564939392317395,
          6.855214299265274,
          6.977613449602709,
          7.0224146480278495,
          6.977613449602709,
          6.855214299265274,
          6.6880139505027145,
          6.520813601740154,
          6.39841445140272,
          6.35361325297758,
          6.39841445140272,
          6.520813601740154,
          6.6880139505027145,
          7.101501913239494,
          7.228298503740434,
          7.274709276977055,
          7.228298503740434,
          7.101501913239494,
          6.928294549501935,
          6.755087185764404,
          6.62829059526345,
          6.58187982202686,
          6.62829059526345,
          6.755087185764404,
          6.928294549501935,
          7.357122232073355,
          7.488482897228775,
          7.536564237733694,
          7.488482897228775,
          7.357122232073355,
          7.177680226413031,
          6.9982382207527065,
          6.866877555597284,
          6.818796215092365,
          6.866877555597284,
          6.9982382207527065,
          7.177680226413031,
          7.62244263308304,
          7.7585405668683,
          7.80835586803629,
          7.7585405668683,
          7.62244263308304,
          7.43652939812979,
          7.250616163176525,
          7.114518229391265,
          7.064702928223304,
          7.114518229391265,
          7.250616163176525,
          7.43652939812979,
          7.897845357629401,
          8.038860578900294,
          8.090475732205725,
          8.038860578900294,
          7.897845357629401,
          7.705214983053075,
          7.512584608476749,
          7.37156938720584,
          7.3199542339004395,
          7.37156938720584,
          7.512584608476749,
          7.705214983053075,
          8.183728124999984,
          8.329847753849476,
          8.383331250000001,
          8.329847753849476,
          8.183728124999984,
          7.984124999999985,
          7.784521874999999,
          7.638402246150434,
          7.584918749999985,
          7.638402246150434,
          7.784521874999999,
          7.984124999999985
         ]
        },
        {
         "marker": {
          "color": "green"
         },
         "name": "White Wine 2 Profit",
         "type": "bar",
         "x": [
          "2024-01",
          "2024-02",
          "2024-03",
          "2024-04",
          "2024-05",
          "2024-06",
          "2024-07",
          "2024-08",
          "2024-09",
          "2024-10",
          "2024-11",
          "2024-12",
          "2025-01",
          "2025-02",
          "2025-03",
          "2025-04",
          "2025-05",
          "2025-06",
          "2025-07",
          "2025-08",
          "2025-09",
          "2025-10",
          "2025-11",
          "2025-12",
          "2026-01",
          "2026-02",
          "2026-03",
          "2026-04",
          "2026-05",
          "2026-06",
          "2026-07",
          "2026-08",
          "2026-09",
          "2026-10",
          "2026-11",
          "2026-12",
          "2027-01",
          "2027-02",
          "2027-03",
          "2027-04",
          "2027-05",
          "2027-06",
          "2027-07",
          "2027-08",
          "2027-09",
          "2027-10",
          "2027-11",
          "2027-12",
          "2028-01",
          "2028-02",
          "2028-03",
          "2028-04",
          "2028-05",
          "2028-06",
          "2028-07",
          "2028-08",
          "2028-09",
          "2028-10",
          "2028-11",
          "2028-12",
          "2029-01",
          "2029-02",
          "2029-03",
          "2029-04",
          "2029-05",
          "2029-06",
          "2029-07",
          "2029-08",
          "2029-09",
          "2029-10",
          "2029-11",
          "2029-12",
          "2030-01",
          "2030-02",
          "2030-03",
          "2030-04",
          "2030-05",
          "2030-06",
          "2030-07",
          "2030-08",
          "2030-09",
          "2030-10",
          "2030-11",
          "2030-12",
          "2031-01",
          "2031-02",
          "2031-03",
          "2031-04",
          "2031-05",
          "2031-06",
          "2031-07",
          "2031-08",
          "2031-09",
          "2031-10",
          "2031-11",
          "2031-12",
          "2032-01",
          "2032-02",
          "2032-03",
          "2032-04",
          "2032-05",
          "2032-06",
          "2032-07",
          "2032-08",
          "2032-09",
          "2032-10",
          "2032-11",
          "2032-12",
          "2033-01",
          "2033-02",
          "2033-03",
          "2033-04",
          "2033-05",
          "2033-06",
          "2033-07",
          "2033-08",
          "2033-09",
          "2033-10",
          "2033-11",
          "2033-12"
         ],
         "y": [
          0,
          0,
          0,
          0,
          0,
          0,
          0,
          0,
          0,
          0,
          0,
          0,
          0,
          0,
          0,
          0,
          0,
          0,
          0,
          0,
          0,
          0,
          0,
          0,
          0,
          6.503317685393925,
          6.545073570575775,
          6.503317685393925,
          6.389238485562075,
          6.233403400548361,
          6.077568315534645,
          5.963489115702794,
          5.921733230520944,
          5.963489115702794,
          6.077568315534645,
          6.233403400548361,
          6.617906287712535,
          6.736068327769485,
          6.77931863619333,
          6.736068327769485,
          6.617906287712535,
          6.4564939392317395,
          6.2950815907509154,
          6.176919550693979,
          6.133669242270134,
          6.176919550693979,
          6.2950815907509154,
          6.4564939392317395,
          6.855214299265274,
          6.977613449602709,
          7.0224146480278495,
          6.977613449602709,
          6.855214299265274,
          6.6880139505027145,
          6.520813601740154,
          6.39841445140272,
          6.35361325297758,
          6.39841445140272,
          6.520813601740154,
          6.6880139505027145,
          7.101501913239494,
          7.228298503740434,
          7.274709276977055,
          7.228298503740434,
          7.101501913239494,
          6.928294549501935,
          6.755087185764404,
          6.62829059526345,
          6.58187982202686,
          6.62829059526345,
          6.755087185764404,
          6.928294549501935,
          7.357122232073355,
          7.488482897228775,
          7.536564237733694,
          7.488482897228775,
          7.357122232073355,
          7.177680226413031,
          6.9982382207527065,
          6.866877555597284,
          6.818796215092365,
          6.866877555597284,
          6.9982382207527065,
          7.177680226413031,
          7.62244263308304,
          7.7585405668683,
          7.80835586803629,
          7.7585405668683,
          7.62244263308304,
          7.43652939812979,
          7.250616163176525,
          7.114518229391265,
          7.064702928223304,
          7.114518229391265,
          7.250616163176525,
          7.43652939812979,
          7.897845357629401,
          8.038860578900294,
          8.090475732205725,
          8.038860578900294,
          7.897845357629401,
          7.705214983053075,
          7.512584608476749,
          7.37156938720584,
          7.3199542339004395,
          7.37156938720584,
          7.512584608476749,
          7.705214983053075,
          8.183728124999984,
          8.329847753849476,
          8.383331250000001,
          8.329847753849476,
          8.183728124999984,
          7.984124999999985,
          7.784521874999999,
          7.638402246150434,
          7.584918749999985,
          7.638402246150434,
          7.784521874999999,
          7.984124999999985
         ]
        }
       ],
       "layout": {
        "barmode": "stack",
        "template": {
         "data": {
          "bar": [
           {
            "error_x": {
             "color": "#f2f5fa"
            },
            "error_y": {
             "color": "#f2f5fa"
            },
            "marker": {
             "line": {
              "color": "rgb(17,17,17)",
              "width": 0.5
             },
             "pattern": {
              "fillmode": "overlay",
              "size": 10,
              "solidity": 0.2
             }
            },
            "type": "bar"
           }
          ],
          "barpolar": [
           {
            "marker": {
             "line": {
              "color": "rgb(17,17,17)",
              "width": 0.5
             },
             "pattern": {
              "fillmode": "overlay",
              "size": 10,
              "solidity": 0.2
             }
            },
            "type": "barpolar"
           }
          ],
          "carpet": [
           {
            "aaxis": {
             "endlinecolor": "#A2B1C6",
             "gridcolor": "#506784",
             "linecolor": "#506784",
             "minorgridcolor": "#506784",
             "startlinecolor": "#A2B1C6"
            },
            "baxis": {
             "endlinecolor": "#A2B1C6",
             "gridcolor": "#506784",
             "linecolor": "#506784",
             "minorgridcolor": "#506784",
             "startlinecolor": "#A2B1C6"
            },
            "type": "carpet"
           }
          ],
          "choropleth": [
           {
            "colorbar": {
             "outlinewidth": 0,
             "ticks": ""
            },
            "type": "choropleth"
           }
          ],
          "contour": [
           {
            "colorbar": {
             "outlinewidth": 0,
             "ticks": ""
            },
            "colorscale": [
             [
              0,
              "#0d0887"
             ],
             [
              0.1111111111111111,
              "#46039f"
             ],
             [
              0.2222222222222222,
              "#7201a8"
             ],
             [
              0.3333333333333333,
              "#9c179e"
             ],
             [
              0.4444444444444444,
              "#bd3786"
             ],
             [
              0.5555555555555556,
              "#d8576b"
             ],
             [
              0.6666666666666666,
              "#ed7953"
             ],
             [
              0.7777777777777778,
              "#fb9f3a"
             ],
             [
              0.8888888888888888,
              "#fdca26"
             ],
             [
              1,
              "#f0f921"
             ]
            ],
            "type": "contour"
           }
          ],
          "contourcarpet": [
           {
            "colorbar": {
             "outlinewidth": 0,
             "ticks": ""
            },
            "type": "contourcarpet"
           }
          ],
          "heatmap": [
           {
            "colorbar": {
             "outlinewidth": 0,
             "ticks": ""
            },
            "colorscale": [
             [
              0,
              "#0d0887"
             ],
             [
              0.1111111111111111,
              "#46039f"
             ],
             [
              0.2222222222222222,
              "#7201a8"
             ],
             [
              0.3333333333333333,
              "#9c179e"
             ],
             [
              0.4444444444444444,
              "#bd3786"
             ],
             [
              0.5555555555555556,
              "#d8576b"
             ],
             [
              0.6666666666666666,
              "#ed7953"
             ],
             [
              0.7777777777777778,
              "#fb9f3a"
             ],
             [
              0.8888888888888888,
              "#fdca26"
             ],
             [
              1,
              "#f0f921"
             ]
            ],
            "type": "heatmap"
           }
          ],
          "heatmapgl": [
           {
            "colorbar": {
             "outlinewidth": 0,
             "ticks": ""
            },
            "colorscale": [
             [
              0,
              "#0d0887"
             ],
             [
              0.1111111111111111,
              "#46039f"
             ],
             [
              0.2222222222222222,
              "#7201a8"
             ],
             [
              0.3333333333333333,
              "#9c179e"
             ],
             [
              0.4444444444444444,
              "#bd3786"
             ],
             [
              0.5555555555555556,
              "#d8576b"
             ],
             [
              0.6666666666666666,
              "#ed7953"
             ],
             [
              0.7777777777777778,
              "#fb9f3a"
             ],
             [
              0.8888888888888888,
              "#fdca26"
             ],
             [
              1,
              "#f0f921"
             ]
            ],
            "type": "heatmapgl"
           }
          ],
          "histogram": [
           {
            "marker": {
             "pattern": {
              "fillmode": "overlay",
              "size": 10,
              "solidity": 0.2
             }
            },
            "type": "histogram"
           }
          ],
          "histogram2d": [
           {
            "colorbar": {
             "outlinewidth": 0,
             "ticks": ""
            },
            "colorscale": [
             [
              0,
              "#0d0887"
             ],
             [
              0.1111111111111111,
              "#46039f"
             ],
             [
              0.2222222222222222,
              "#7201a8"
             ],
             [
              0.3333333333333333,
              "#9c179e"
             ],
             [
              0.4444444444444444,
              "#bd3786"
             ],
             [
              0.5555555555555556,
              "#d8576b"
             ],
             [
              0.6666666666666666,
              "#ed7953"
             ],
             [
              0.7777777777777778,
              "#fb9f3a"
             ],
             [
              0.8888888888888888,
              "#fdca26"
             ],
             [
              1,
              "#f0f921"
             ]
            ],
            "type": "histogram2d"
           }
          ],
          "histogram2dcontour": [
           {
            "colorbar": {
             "outlinewidth": 0,
             "ticks": ""
            },
            "colorscale": [
             [
              0,
              "#0d0887"
             ],
             [
              0.1111111111111111,
              "#46039f"
             ],
             [
              0.2222222222222222,
              "#7201a8"
             ],
             [
              0.3333333333333333,
              "#9c179e"
             ],
             [
              0.4444444444444444,
              "#bd3786"
             ],
             [
              0.5555555555555556,
              "#d8576b"
             ],
             [
              0.6666666666666666,
              "#ed7953"
             ],
             [
              0.7777777777777778,
              "#fb9f3a"
             ],
             [
              0.8888888888888888,
              "#fdca26"
             ],
             [
              1,
              "#f0f921"
             ]
            ],
            "type": "histogram2dcontour"
           }
          ],
          "mesh3d": [
           {
            "colorbar": {
             "outlinewidth": 0,
             "ticks": ""
            },
            "type": "mesh3d"
           }
          ],
          "parcoords": [
           {
            "line": {
             "colorbar": {
              "outlinewidth": 0,
              "ticks": ""
             }
            },
            "type": "parcoords"
           }
          ],
          "pie": [
           {
            "automargin": true,
            "type": "pie"
           }
          ],
          "scatter": [
           {
            "marker": {
             "line": {
              "color": "#283442"
             }
            },
            "type": "scatter"
           }
          ],
          "scatter3d": [
           {
            "line": {
             "colorbar": {
              "outlinewidth": 0,
              "ticks": ""
             }
            },
            "marker": {
             "colorbar": {
              "outlinewidth": 0,
              "ticks": ""
             }
            },
            "type": "scatter3d"
           }
          ],
          "scattercarpet": [
           {
            "marker": {
             "colorbar": {
              "outlinewidth": 0,
              "ticks": ""
             }
            },
            "type": "scattercarpet"
           }
          ],
          "scattergeo": [
           {
            "marker": {
             "colorbar": {
              "outlinewidth": 0,
              "ticks": ""
             }
            },
            "type": "scattergeo"
           }
          ],
          "scattergl": [
           {
            "marker": {
             "line": {
              "color": "#283442"
             }
            },
            "type": "scattergl"
           }
          ],
          "scattermapbox": [
           {
            "marker": {
             "colorbar": {
              "outlinewidth": 0,
              "ticks": ""
             }
            },
            "type": "scattermapbox"
           }
          ],
          "scatterpolar": [
           {
            "marker": {
             "colorbar": {
              "outlinewidth": 0,
              "ticks": ""
             }
            },
            "type": "scatterpolar"
           }
          ],
          "scatterpolargl": [
           {
            "marker": {
             "colorbar": {
              "outlinewidth": 0,
              "ticks": ""
             }
            },
            "type": "scatterpolargl"
           }
          ],
          "scatterternary": [
           {
            "marker": {
             "colorbar": {
              "outlinewidth": 0,
              "ticks": ""
             }
            },
            "type": "scatterternary"
           }
          ],
          "surface": [
           {
            "colorbar": {
             "outlinewidth": 0,
             "ticks": ""
            },
            "colorscale": [
             [
              0,
              "#0d0887"
             ],
             [
              0.1111111111111111,
              "#46039f"
             ],
             [
              0.2222222222222222,
              "#7201a8"
             ],
             [
              0.3333333333333333,
              "#9c179e"
             ],
             [
              0.4444444444444444,
              "#bd3786"
             ],
             [
              0.5555555555555556,
              "#d8576b"
             ],
             [
              0.6666666666666666,
              "#ed7953"
             ],
             [
              0.7777777777777778,
              "#fb9f3a"
             ],
             [
              0.8888888888888888,
              "#fdca26"
             ],
             [
              1,
              "#f0f921"
             ]
            ],
            "type": "surface"
           }
          ],
          "table": [
           {
            "cells": {
             "fill": {
              "color": "#506784"
             },
             "line": {
              "color": "rgb(17,17,17)"
             }
            },
            "header": {
             "fill": {
              "color": "#2a3f5f"
             },
             "line": {
              "color": "rgb(17,17,17)"
             }
            },
            "type": "table"
           }
          ]
         },
         "layout": {
          "annotationdefaults": {
           "arrowcolor": "#f2f5fa",
           "arrowhead": 0,
           "arrowwidth": 1
          },
          "autotypenumbers": "strict",
          "coloraxis": {
           "colorbar": {
            "outlinewidth": 0,
            "ticks": ""
           }
          },
          "colorscale": {
           "diverging": [
            [
             0,
             "#8e0152"
            ],
            [
             0.1,
             "#c51b7d"
            ],
            [
             0.2,
             "#de77ae"
            ],
            [
             0.3,
             "#f1b6da"
            ],
            [
             0.4,
             "#fde0ef"
            ],
            [
             0.5,
             "#f7f7f7"
            ],
            [
             0.6,
             "#e6f5d0"
            ],
            [
             0.7,
             "#b8e186"
            ],
            [
             0.8,
             "#7fbc41"
            ],
            [
             0.9,
             "#4d9221"
            ],
            [
             1,
             "#276419"
            ]
           ],
           "sequential": [
            [
             0,
             "#0d0887"
            ],
            [
             0.1111111111111111,
             "#46039f"
            ],
            [
             0.2222222222222222,
             "#7201a8"
            ],
            [
             0.3333333333333333,
             "#9c179e"
            ],
            [
             0.4444444444444444,
             "#bd3786"
            ],
            [
             0.5555555555555556,
             "#d8576b"
            ],
            [
             0.6666666666666666,
             "#ed7953"
            ],
            [
             0.7777777777777778,
             "#fb9f3a"
            ],
            [
             0.8888888888888888,
             "#fdca26"
            ],
            [
             1,
             "#f0f921"
            ]
           ],
           "sequentialminus": [
            [
             0,
             "#0d0887"
            ],
            [
             0.1111111111111111,
             "#46039f"
            ],
            [
             0.2222222222222222,
             "#7201a8"
            ],
            [
             0.3333333333333333,
             "#9c179e"
            ],
            [
             0.4444444444444444,
             "#bd3786"
            ],
            [
             0.5555555555555556,
             "#d8576b"
            ],
            [
             0.6666666666666666,
             "#ed7953"
            ],
            [
             0.7777777777777778,
             "#fb9f3a"
            ],
            [
             0.8888888888888888,
             "#fdca26"
            ],
            [
             1,
             "#f0f921"
            ]
           ]
          },
          "colorway": [
           "#636efa",
           "#EF553B",
           "#00cc96",
           "#ab63fa",
           "#FFA15A",
           "#19d3f3",
           "#FF6692",
           "#B6E880",
           "#FF97FF",
           "#FECB52"
          ],
          "font": {
           "color": "#f2f5fa"
          },
          "geo": {
           "bgcolor": "rgb(17,17,17)",
           "lakecolor": "rgb(17,17,17)",
           "landcolor": "rgb(17,17,17)",
           "showlakes": true,
           "showland": true,
           "subunitcolor": "#506784"
          },
          "hoverlabel": {
           "align": "left"
          },
          "hovermode": "closest",
          "mapbox": {
           "style": "dark"
          },
          "paper_bgcolor": "rgb(17,17,17)",
          "plot_bgcolor": "rgb(17,17,17)",
          "polar": {
           "angularaxis": {
            "gridcolor": "#506784",
            "linecolor": "#506784",
            "ticks": ""
           },
           "bgcolor": "rgb(17,17,17)",
           "radialaxis": {
            "gridcolor": "#506784",
            "linecolor": "#506784",
            "ticks": ""
           }
          },
          "scene": {
           "xaxis": {
            "backgroundcolor": "rgb(17,17,17)",
            "gridcolor": "#506784",
            "gridwidth": 2,
            "linecolor": "#506784",
            "showbackground": true,
            "ticks": "",
            "zerolinecolor": "#C8D4E3"
           },
           "yaxis": {
            "backgroundcolor": "rgb(17,17,17)",
            "gridcolor": "#506784",
            "gridwidth": 2,
            "linecolor": "#506784",
            "showbackground": true,
            "ticks": "",
            "zerolinecolor": "#C8D4E3"
           },
           "zaxis": {
            "backgroundcolor": "rgb(17,17,17)",
            "gridcolor": "#506784",
            "gridwidth": 2,
            "linecolor": "#506784",
            "showbackground": true,
            "ticks": "",
            "zerolinecolor": "#C8D4E3"
           }
          },
          "shapedefaults": {
           "line": {
            "color": "#f2f5fa"
           }
          },
          "sliderdefaults": {
           "bgcolor": "#C8D4E3",
           "bordercolor": "rgb(17,17,17)",
           "borderwidth": 1,
           "tickwidth": 0
          },
          "ternary": {
           "aaxis": {
            "gridcolor": "#506784",
            "linecolor": "#506784",
            "ticks": ""
           },
           "baxis": {
            "gridcolor": "#506784",
            "linecolor": "#506784",
            "ticks": ""
           },
           "bgcolor": "rgb(17,17,17)",
           "caxis": {
            "gridcolor": "#506784",
            "linecolor": "#506784",
            "ticks": ""
           }
          },
          "title": {
           "x": 0.05
          },
          "updatemenudefaults": {
           "bgcolor": "#506784",
           "borderwidth": 0
          },
          "xaxis": {
           "automargin": true,
           "gridcolor": "#283442",
           "linecolor": "#506784",
           "ticks": "",
           "title": {
            "standoff": 15
           },
           "zerolinecolor": "#283442",
           "zerolinewidth": 2
          },
          "yaxis": {
           "automargin": true,
           "gridcolor": "#283442",
           "linecolor": "#506784",
           "ticks": "",
           "title": {
            "standoff": 15
           },
           "zerolinecolor": "#283442",
           "zerolinewidth": 2
          }
         }
        },
        "title": {
         "text": "Linear Demand: Monthly Wine Demand Satisfied in Simulation 2"
        },
        "xaxis": {
         "title": {
          "text": "Month-Year"
         },
         "type": "category"
        },
        "yaxis": {
         "title": {
          "text": "Wine Demand Satisfied (in Thousands)"
         }
        }
       }
      }
     },
     "metadata": {},
     "output_type": "display_data"
    }
   ],
   "source": [
    "df = df2_sim2.copy()\n",
    "\n",
    "# Aggregating the total demand for Red and White wine across all months for each country\n",
    "red_columns_1 = [col for col in df.columns if 'Red_1' in col]\n",
    "white_columns_1 = [col for col in df.columns if 'White_1' in col]\n",
    "red_columns_2 = [col for col in df.columns if 'Red_2' in col]\n",
    "white_columns_2 = [col for col in df.columns if 'White_2' in col]\n",
    "\n",
    "# Summing up the demand for Red and White wine for each country\n",
    "total_red_demand_1 = df[red_columns_1].sum().sum()\n",
    "total_white_demand_1 = df[white_columns_1].sum().sum()\n",
    "total_red_demand_2 = df[red_columns_2].sum().sum()\n",
    "total_white_demand_2 = df[white_columns_2].sum().sum()\n",
    "\n",
    "# Convert 'Month' to datetime for proper sorting and display\n",
    "df['Month'] = pd.to_datetime(df['Month'])\n",
    "\n",
    "# Aggregate monthly total demand for Red and White wine across all countries\n",
    "df['Total_Red_Demand_1'] = df[red_columns_1].sum(axis=1)\n",
    "df['Total_White_Demand_1'] = df[white_columns_1].sum(axis=1)\n",
    "df['Total_Red_Demand_2'] = df[red_columns_2].sum(axis=1)\n",
    "df['Total_White_Demand_2'] = df[white_columns_2].sum(axis=1)\n",
    "\n",
    "df['Total_Wine_Demand'] = df['Total_Red_Demand_1'] + df['Total_White_Demand_1'] + df['Total_Red_Demand_2'] + df['Total_White_Demand_2']\n",
    "\n",
    "# Extracting year-month for the x-axis\n",
    "df['Year_Month'] = df['Month'].dt.strftime('%Y-%m')\n",
    "\n",
    "# Creating separate traces for Red and White wine demand over time\n",
    "fig = go.Figure()\n",
    "\n",
    "# Red wine demand trace\n",
    "fig.add_trace(go.Bar(\n",
    "    x=df['Year_Month'],\n",
    "    y=df['Total_Red_Demand_1']*1000,\n",
    "    name=\"Red Wine 1 Profit\",\n",
    "    marker_color=\"red\"\n",
    "))\n",
    "\n",
    "# White wine demand trace\n",
    "fig.add_trace(go.Bar(\n",
    "    x=df['Year_Month'],\n",
    "    y=df['Total_White_Demand_1']*1000,\n",
    "    name=\"White Wine 1 Profit\",\n",
    "    marker_color=\"lightgreen\"\n",
    "))\n",
    "\n",
    "# Red wine demand trace\n",
    "fig.add_trace(go.Bar(\n",
    "    x=df['Year_Month'],\n",
    "    y=df['Total_Red_Demand_2']*1000,\n",
    "    name=\"Red Wine 2 Profit\",\n",
    "    marker_color=\"darkred\"\n",
    "))\n",
    "\n",
    "# White wine demand trace\n",
    "fig.add_trace(go.Bar(\n",
    "    x=df['Year_Month'],\n",
    "    y=df['Total_White_Demand_2']*1000,\n",
    "    name=\"White Wine 2 Profit\",\n",
    "    marker_color=\"green\"\n",
    "))\n",
    "\n",
    "fig.update_layout(\n",
    "    title=\"Linear Demand: Monthly Wine Demand Satisfied in Simulation 2\",\n",
    "    xaxis_title=\"Month-Year\",\n",
    "    yaxis_title=\"Wine Demand Satisfied (in Thousands)\",\n",
    "    xaxis={'type': 'category'},  # Ensures that months are treated as distinct categories\n",
    "    barmode='stack'  # Groups the bars for red and white wine side by side for each month\n",
    ")\n",
    "fig.update_layout(template='plotly_dark')\n",
    "\n",
    "# This setup would allow for filtering by wine type by clicking on the legend items.\n",
    "fig.show()\n"
   ]
  },
  {
   "cell_type": "code",
   "execution_count": 15,
   "metadata": {},
   "outputs": [
    {
     "data": {
      "application/vnd.plotly.v1+json": {
       "config": {
        "plotlyServerURL": "https://plot.ly"
       },
       "data": [
        {
         "line": {
          "color": "red"
         },
         "mode": "lines",
         "name": "Cumulative Profit: Red Wine 1",
         "stackgroup": "one",
         "type": "scatter",
         "x": [
          "2024-01",
          "2024-02",
          "2024-03",
          "2024-04",
          "2024-05",
          "2024-06",
          "2024-07",
          "2024-08",
          "2024-09",
          "2024-10",
          "2024-11",
          "2024-12",
          "2025-01",
          "2025-02",
          "2025-03",
          "2025-04",
          "2025-05",
          "2025-06",
          "2025-07",
          "2025-08",
          "2025-09",
          "2025-10",
          "2025-11",
          "2025-12",
          "2026-01",
          "2026-02",
          "2026-03",
          "2026-04",
          "2026-05",
          "2026-06",
          "2026-07",
          "2026-08",
          "2026-09",
          "2026-10",
          "2026-11",
          "2026-12",
          "2027-01",
          "2027-02",
          "2027-03",
          "2027-04",
          "2027-05",
          "2027-06",
          "2027-07",
          "2027-08",
          "2027-09",
          "2027-10",
          "2027-11",
          "2027-12",
          "2028-01",
          "2028-02",
          "2028-03",
          "2028-04",
          "2028-05",
          "2028-06",
          "2028-07",
          "2028-08",
          "2028-09",
          "2028-10",
          "2028-11",
          "2028-12",
          "2029-01",
          "2029-02",
          "2029-03",
          "2029-04",
          "2029-05",
          "2029-06",
          "2029-07",
          "2029-08",
          "2029-09",
          "2029-10",
          "2029-11",
          "2029-12",
          "2030-01",
          "2030-02",
          "2030-03",
          "2030-04",
          "2030-05",
          "2030-06",
          "2030-07",
          "2030-08",
          "2030-09",
          "2030-10",
          "2030-11",
          "2030-12",
          "2031-01",
          "2031-02",
          "2031-03",
          "2031-04",
          "2031-05",
          "2031-06",
          "2031-07",
          "2031-08",
          "2031-09",
          "2031-10",
          "2031-11",
          "2031-12",
          "2032-01",
          "2032-02",
          "2032-03",
          "2032-04",
          "2032-05",
          "2032-06",
          "2032-07",
          "2032-08",
          "2032-09",
          "2032-10",
          "2032-11",
          "2032-12",
          "2033-01",
          "2033-02",
          "2033-03",
          "2033-04",
          "2033-05",
          "2033-06",
          "2033-07",
          "2033-08",
          "2033-09",
          "2033-10",
          "2033-11",
          "2033-12"
         ],
         "y": [
          0,
          0,
          0,
          0,
          0,
          0,
          0,
          0,
          0,
          0,
          0,
          0,
          0,
          0,
          0,
          0,
          0,
          0,
          0,
          0,
          0,
          0,
          0,
          0,
          0,
          0,
          0,
          0,
          1.863527891622272,
          3.6816038834488767,
          5.454227975479815,
          7.193578967559797,
          8.920751159795072,
          10.660102151875053,
          12.432726243905991,
          14.250802235732596,
          16.181024902982088,
          18.14571149858152,
          20.123012767471238,
          22.087699363070673,
          24.017922030320165,
          25.901066095929423,
          27.737131559898437,
          29.538733095517514,
          31.327719957846305,
          33.12932149346538,
          34.9653869574344,
          36.848531023043655,
          38.84796852699603,
          40.88310578313015,
          42.9313100554716,
          44.96644731160572,
          46.96588481555809,
          48.916555551121384,
          50.8184595182956,
          52.684663733288055,
          54.53780093207318,
          56.40400514706564,
          58.30590911423985,
          60.256579849803146,
          62.32785124116466,
          64.43610497142228,
          66.55789517720726,
          68.66614890746487,
          70.73742029882641,
          72.75817287576447,
          74.7284066382791,
          76.66165806189761,
          78.58137300998877,
          80.51462443360728,
          82.4848581961219,
          84.50561077305997,
          86.65143809074803,
          88.8355789357731,
          91.03374350511208,
          93.21788435013715,
          95.36371166782521,
          97.45720173386235,
          99.49835454824856,
          101.50119383529777,
          103.49000939803304,
          105.49284868508225,
          107.53400149946846,
          109.6274915655056,
          111.85070400015482,
          114.1136116654914,
          116.39104879366866,
          118.65395645900524,
          120.87716889365446,
          123.04615663477566,
          125.16091968236881,
          127.23598749927459,
          129.29652585333972,
          131.37159367024552,
          133.48635671783865,
          135.65534445895983,
          137.9588826882684,
          140.30355035711432,
          142.66327244567432,
          145.00794011452024,
          147.31147834382878,
          149.55883271388595,
          151.75000322469168,
          153.90004429596004,
          156.03503094751434,
          158.1850720187827,
          160.37624252958844,
          162.62359689964558,
          165.0105176027706,
          167.44005653097668,
          169.8851948122267,
          172.31473374043279,
          174.7016544435578,
          177.03035756855778,
          179.3008431154328,
          181.52871043722666,
          183.74097840597665,
          185.9688457277705,
          188.2393312746455,
          190.5680343996455
         ]
        },
        {
         "line": {
          "color": "lightgreen"
         },
         "mode": "lines",
         "name": "Cumulative Profit: White Wine 1",
         "stackgroup": "one",
         "type": "scatter",
         "x": [
          "2024-01",
          "2024-02",
          "2024-03",
          "2024-04",
          "2024-05",
          "2024-06",
          "2024-07",
          "2024-08",
          "2024-09",
          "2024-10",
          "2024-11",
          "2024-12",
          "2025-01",
          "2025-02",
          "2025-03",
          "2025-04",
          "2025-05",
          "2025-06",
          "2025-07",
          "2025-08",
          "2025-09",
          "2025-10",
          "2025-11",
          "2025-12",
          "2026-01",
          "2026-02",
          "2026-03",
          "2026-04",
          "2026-05",
          "2026-06",
          "2026-07",
          "2026-08",
          "2026-09",
          "2026-10",
          "2026-11",
          "2026-12",
          "2027-01",
          "2027-02",
          "2027-03",
          "2027-04",
          "2027-05",
          "2027-06",
          "2027-07",
          "2027-08",
          "2027-09",
          "2027-10",
          "2027-11",
          "2027-12",
          "2028-01",
          "2028-02",
          "2028-03",
          "2028-04",
          "2028-05",
          "2028-06",
          "2028-07",
          "2028-08",
          "2028-09",
          "2028-10",
          "2028-11",
          "2028-12",
          "2029-01",
          "2029-02",
          "2029-03",
          "2029-04",
          "2029-05",
          "2029-06",
          "2029-07",
          "2029-08",
          "2029-09",
          "2029-10",
          "2029-11",
          "2029-12",
          "2030-01",
          "2030-02",
          "2030-03",
          "2030-04",
          "2030-05",
          "2030-06",
          "2030-07",
          "2030-08",
          "2030-09",
          "2030-10",
          "2030-11",
          "2030-12",
          "2031-01",
          "2031-02",
          "2031-03",
          "2031-04",
          "2031-05",
          "2031-06",
          "2031-07",
          "2031-08",
          "2031-09",
          "2031-10",
          "2031-11",
          "2031-12",
          "2032-01",
          "2032-02",
          "2032-03",
          "2032-04",
          "2032-05",
          "2032-06",
          "2032-07",
          "2032-08",
          "2032-09",
          "2032-10",
          "2032-11",
          "2032-12",
          "2033-01",
          "2033-02",
          "2033-03",
          "2033-04",
          "2033-05",
          "2033-06",
          "2033-07",
          "2033-08",
          "2033-09",
          "2033-10",
          "2033-11",
          "2033-12"
         ],
         "y": [
          0,
          0,
          0,
          0,
          0,
          0,
          0,
          0,
          0,
          0,
          0,
          0,
          0,
          1.318596188998476,
          2.645658695303379,
          3.964254884301855,
          5.259720664266166,
          6.523589717889879,
          7.7558620451730045,
          8.965003963421962,
          10.165679564364499,
          11.374821482613454,
          12.607093809896577,
          13.87096286352029,
          15.212702945488328,
          16.578399659421052,
          17.952865109241962,
          19.318561823174687,
          20.66030190514272,
          21.969316619257878,
          23.245605965520152,
          24.49793867981774,
          25.741502658227137,
          26.99383537252472,
          28.270124718787,
          29.579139432902153,
          30.968899753321782,
          32.38347410215337,
          33.807131015753974,
          35.22170536458557,
          36.61146568500519,
          37.96732941224386,
          39.28929654630155,
          40.586449651947284,
          41.874520192824015,
          43.17167329846975,
          44.49364043252744,
          45.8495041597661,
          47.28909916261181,
          48.754397987028376,
          50.229105063114226,
          51.69440388753079,
          53.133998890376496,
          54.53848181998207,
          55.9078526763475,
          57.25151971114207,
          58.58577849426737,
          59.929445529061944,
          61.29881638542738,
          62.70329931503295,
          64.19461471681323,
          65.71255740259872,
          67.2402463507639,
          68.7581890365494,
          70.2495044383297,
          71.7044462937251,
          73.12301460273562,
          74.51495562774096,
          75.89715039036659,
          77.28909141537193,
          78.70765972438245,
          80.16260157977786,
          81.70759724851327,
          83.28017865693131,
          84.86285714685539,
          86.43543855527344,
          87.98043422400883,
          89.48774707155557,
          90.95737709791365,
          92.39942138458908,
          93.83136858975847,
          95.2734128764339,
          96.74304290279197,
          98.2503557503387,
          99.85106870328613,
          101.48036222232848,
          103.1201169546161,
          104.74941047365844,
          106.35012342660588,
          107.91179460021311,
          109.43442399448018,
          110.92847282265234,
          112.41206043757924,
          113.90610926575141,
          115.42873866001847,
          116.99040983362572,
          118.64895735872788,
          120.33711808029695,
          122.03611798406014,
          123.7242787056292,
          125.38282623073137,
          127.00092137717253,
          128.57856414495265,
          130.1265937162659,
          131.66378410538496,
          133.2118136766982,
          134.7894564444783,
          136.40755159091947,
          138.12613449716946,
          139.87540252547785,
          141.63590208797785,
          143.38517011628625,
          145.10375302253624,
          146.78041927253625,
          148.41516886628625,
          150.01923333797782,
          151.61206627547782,
          153.21613074716942,
          154.85088034091942,
          156.5275465909194
         ]
        },
        {
         "line": {
          "color": "darkred"
         },
         "mode": "lines",
         "name": "Cumulative Profit: Red Wine 2",
         "stackgroup": "one",
         "type": "scatter",
         "x": [
          "2024-01",
          "2024-02",
          "2024-03",
          "2024-04",
          "2024-05",
          "2024-06",
          "2024-07",
          "2024-08",
          "2024-09",
          "2024-10",
          "2024-11",
          "2024-12",
          "2025-01",
          "2025-02",
          "2025-03",
          "2025-04",
          "2025-05",
          "2025-06",
          "2025-07",
          "2025-08",
          "2025-09",
          "2025-10",
          "2025-11",
          "2025-12",
          "2026-01",
          "2026-02",
          "2026-03",
          "2026-04",
          "2026-05",
          "2026-06",
          "2026-07",
          "2026-08",
          "2026-09",
          "2026-10",
          "2026-11",
          "2026-12",
          "2027-01",
          "2027-02",
          "2027-03",
          "2027-04",
          "2027-05",
          "2027-06",
          "2027-07",
          "2027-08",
          "2027-09",
          "2027-10",
          "2027-11",
          "2027-12",
          "2028-01",
          "2028-02",
          "2028-03",
          "2028-04",
          "2028-05",
          "2028-06",
          "2028-07",
          "2028-08",
          "2028-09",
          "2028-10",
          "2028-11",
          "2028-12",
          "2029-01",
          "2029-02",
          "2029-03",
          "2029-04",
          "2029-05",
          "2029-06",
          "2029-07",
          "2029-08",
          "2029-09",
          "2029-10",
          "2029-11",
          "2029-12",
          "2030-01",
          "2030-02",
          "2030-03",
          "2030-04",
          "2030-05",
          "2030-06",
          "2030-07",
          "2030-08",
          "2030-09",
          "2030-10",
          "2030-11",
          "2030-12",
          "2031-01",
          "2031-02",
          "2031-03",
          "2031-04",
          "2031-05",
          "2031-06",
          "2031-07",
          "2031-08",
          "2031-09",
          "2031-10",
          "2031-11",
          "2031-12",
          "2032-01",
          "2032-02",
          "2032-03",
          "2032-04",
          "2032-05",
          "2032-06",
          "2032-07",
          "2032-08",
          "2032-09",
          "2032-10",
          "2032-11",
          "2032-12",
          "2033-01",
          "2033-02",
          "2033-03",
          "2033-04",
          "2033-05",
          "2033-06",
          "2033-07",
          "2033-08",
          "2033-09",
          "2033-10",
          "2033-11",
          "2033-12"
         ],
         "y": [
          0,
          0,
          0,
          0,
          0,
          0,
          0,
          0,
          0,
          0,
          0,
          0,
          0,
          0,
          0,
          0,
          0,
          0,
          0,
          0,
          0,
          0,
          0,
          0,
          0,
          0,
          0,
          0,
          0,
          0,
          0,
          0,
          0,
          0,
          0,
          0,
          0,
          1.751377765220066,
          3.514000610630332,
          5.265378375850398,
          6.986034010655657,
          8.664722434855909,
          10.301443648451148,
          11.907442731631582,
          13.502196734621817,
          15.108195817802253,
          16.74491703139749,
          18.423605455597745,
          20.205961173406717,
          22.02014067030342,
          23.84596847879066,
          25.660147975687366,
          27.442503693496338,
          29.181387320627042,
          30.876798857079482,
          32.54038661444419,
          34.19232606021836,
          35.855913817583065,
          37.551325354035505,
          39.29020898116622,
          41.13659947860848,
          43.01595708958099,
          44.907381501595026,
          46.78673911256754,
          48.6331296100098,
          50.434486192880314,
          52.19080886117906,
          53.91416441594755,
          55.625453169674536,
          57.34880872444303,
          59.105131392741775,
          60.906487975612286,
          62.819339755951354,
          64.76634530923084,
          66.7258520110416,
          68.67285756432108,
          70.58570934466015,
          72.45190620352753,
          74.27144814092323,
          76.05683630537852,
          77.82972332130254,
          79.61511148575782,
          81.43465342315352,
          83.3008502820209,
          85.2826853666225,
          87.29990591400826,
          89.3300784396977,
          91.34729898708346,
          93.32913407168505,
          95.2626317151988,
          97.14779191762469,
          98.9975666572664,
          100.83438941860447,
          102.68416415824619,
          104.56932436067208,
          106.50282200418583,
          108.55626179716947,
          110.64636554768354,
          112.74988923805704,
          114.83999298857111,
          116.89343278155475,
          118.89678867714855,
          120.85006067535251,
          122.76666871602603,
          124.66985681684014,
          126.58646485751366,
          128.53973685571762,
          130.5430927513114,
          132.6708620638114,
          134.8366224798123,
          137.01628860481227,
          139.18204902081314,
          141.30981833331316,
          143.38569083331316,
          145.40966652081315,
          147.39565110481226,
          149.36772997981225,
          151.35371456381137,
          153.37769025131138,
          155.45356275131138
         ]
        },
        {
         "line": {
          "color": "green"
         },
         "mode": "lines",
         "name": "Cumulative Profit: White Wine 2",
         "stackgroup": "one",
         "type": "scatter",
         "x": [
          "2024-01",
          "2024-02",
          "2024-03",
          "2024-04",
          "2024-05",
          "2024-06",
          "2024-07",
          "2024-08",
          "2024-09",
          "2024-10",
          "2024-11",
          "2024-12",
          "2025-01",
          "2025-02",
          "2025-03",
          "2025-04",
          "2025-05",
          "2025-06",
          "2025-07",
          "2025-08",
          "2025-09",
          "2025-10",
          "2025-11",
          "2025-12",
          "2026-01",
          "2026-02",
          "2026-03",
          "2026-04",
          "2026-05",
          "2026-06",
          "2026-07",
          "2026-08",
          "2026-09",
          "2026-10",
          "2026-11",
          "2026-12",
          "2027-01",
          "2027-02",
          "2027-03",
          "2027-04",
          "2027-05",
          "2027-06",
          "2027-07",
          "2027-08",
          "2027-09",
          "2027-10",
          "2027-11",
          "2027-12",
          "2028-01",
          "2028-02",
          "2028-03",
          "2028-04",
          "2028-05",
          "2028-06",
          "2028-07",
          "2028-08",
          "2028-09",
          "2028-10",
          "2028-11",
          "2028-12",
          "2029-01",
          "2029-02",
          "2029-03",
          "2029-04",
          "2029-05",
          "2029-06",
          "2029-07",
          "2029-08",
          "2029-09",
          "2029-10",
          "2029-11",
          "2029-12",
          "2030-01",
          "2030-02",
          "2030-03",
          "2030-04",
          "2030-05",
          "2030-06",
          "2030-07",
          "2030-08",
          "2030-09",
          "2030-10",
          "2030-11",
          "2030-12",
          "2031-01",
          "2031-02",
          "2031-03",
          "2031-04",
          "2031-05",
          "2031-06",
          "2031-07",
          "2031-08",
          "2031-09",
          "2031-10",
          "2031-11",
          "2031-12",
          "2032-01",
          "2032-02",
          "2032-03",
          "2032-04",
          "2032-05",
          "2032-06",
          "2032-07",
          "2032-08",
          "2032-09",
          "2032-10",
          "2032-11",
          "2032-12",
          "2033-01",
          "2033-02",
          "2033-03",
          "2033-04",
          "2033-05",
          "2033-06",
          "2033-07",
          "2033-08",
          "2033-09",
          "2033-10",
          "2033-11",
          "2033-12"
         ],
         "y": [
          0,
          0,
          0,
          0,
          0,
          0,
          0,
          0,
          0,
          0,
          0,
          0,
          0,
          0,
          0,
          0,
          0,
          0,
          0,
          0,
          0,
          0,
          0,
          0,
          0,
          1.300663537078785,
          2.60967825119394,
          3.9103417882727247,
          5.18818948538514,
          6.434870165494812,
          7.650383828601741,
          8.8430816517423,
          10.02742829784649,
          11.220126120987048,
          12.435639784093977,
          13.682320464203649,
          15.005901721746156,
          16.353115387300054,
          17.70897911453872,
          19.05619278009262,
          20.379774037635126,
          21.671072825481474,
          22.93008914363166,
          24.16547305377045,
          25.39220690222448,
          26.627590812363277,
          27.886607130513465,
          29.17790591835981,
          30.548948778212864,
          31.944471468133408,
          33.34895439773898,
          34.74447708765952,
          36.115519947512574,
          37.45312273761312,
          38.757285457961146,
          40.03696834824169,
          41.30769099883721,
          42.58737388911775,
          43.89153660946578,
          45.22913939956633,
          46.64943978221422,
          48.09509948296231,
          49.55004133835772,
          50.99570103910581,
          52.41600142175371,
          53.8016603316541,
          55.15267776880698,
          56.478335887859664,
          57.79471185226504,
          59.12036997131772,
          60.4713874084706,
          61.85704631837099,
          63.32847076478566,
          64.82616734423141,
          66.33348019177815,
          67.8311767712239,
          69.30260121763857,
          70.73813726292117,
          72.1377849070717,
          73.51116041819117,
          74.87491966120963,
          76.2482951723291,
          77.64794281647963,
          79.08347886176223,
          80.60796738837884,
          82.1596755017525,
          83.72134667535977,
          85.27305478873343,
          86.79754331535004,
          88.28484919497599,
          89.7349724276113,
          91.15787607348955,
          92.57081665913421,
          93.99372030501245,
          95.44384353764775,
          96.93114941727372,
          98.51071848879958,
          100.11849060457965,
          101.73658575102078,
          103.34435786680083,
          104.9239269383267,
          106.46496993493733,
          107.96748685663266,
          109.44180073407384,
          110.90579158085391,
          112.38010545829509,
          113.88262237999042,
          115.42366537660105,
          117.06041100160105,
          118.72638055237094,
          120.40304680237095,
          122.06901635314085,
          123.70576197814086,
          125.30258697814085,
          126.85949135314085,
          128.38717180237094,
          129.90415555237092,
          131.43183600160103,
          132.98874037660102,
          134.585565376601
         ]
        }
       ],
       "layout": {
        "hovermode": "x unified",
        "legend": {
         "orientation": "h",
         "x": 0.9,
         "xanchor": "right",
         "y": 0.1,
         "yanchor": "bottom"
        },
        "template": {
         "data": {
          "bar": [
           {
            "error_x": {
             "color": "#f2f5fa"
            },
            "error_y": {
             "color": "#f2f5fa"
            },
            "marker": {
             "line": {
              "color": "rgb(17,17,17)",
              "width": 0.5
             },
             "pattern": {
              "fillmode": "overlay",
              "size": 10,
              "solidity": 0.2
             }
            },
            "type": "bar"
           }
          ],
          "barpolar": [
           {
            "marker": {
             "line": {
              "color": "rgb(17,17,17)",
              "width": 0.5
             },
             "pattern": {
              "fillmode": "overlay",
              "size": 10,
              "solidity": 0.2
             }
            },
            "type": "barpolar"
           }
          ],
          "carpet": [
           {
            "aaxis": {
             "endlinecolor": "#A2B1C6",
             "gridcolor": "#506784",
             "linecolor": "#506784",
             "minorgridcolor": "#506784",
             "startlinecolor": "#A2B1C6"
            },
            "baxis": {
             "endlinecolor": "#A2B1C6",
             "gridcolor": "#506784",
             "linecolor": "#506784",
             "minorgridcolor": "#506784",
             "startlinecolor": "#A2B1C6"
            },
            "type": "carpet"
           }
          ],
          "choropleth": [
           {
            "colorbar": {
             "outlinewidth": 0,
             "ticks": ""
            },
            "type": "choropleth"
           }
          ],
          "contour": [
           {
            "colorbar": {
             "outlinewidth": 0,
             "ticks": ""
            },
            "colorscale": [
             [
              0,
              "#0d0887"
             ],
             [
              0.1111111111111111,
              "#46039f"
             ],
             [
              0.2222222222222222,
              "#7201a8"
             ],
             [
              0.3333333333333333,
              "#9c179e"
             ],
             [
              0.4444444444444444,
              "#bd3786"
             ],
             [
              0.5555555555555556,
              "#d8576b"
             ],
             [
              0.6666666666666666,
              "#ed7953"
             ],
             [
              0.7777777777777778,
              "#fb9f3a"
             ],
             [
              0.8888888888888888,
              "#fdca26"
             ],
             [
              1,
              "#f0f921"
             ]
            ],
            "type": "contour"
           }
          ],
          "contourcarpet": [
           {
            "colorbar": {
             "outlinewidth": 0,
             "ticks": ""
            },
            "type": "contourcarpet"
           }
          ],
          "heatmap": [
           {
            "colorbar": {
             "outlinewidth": 0,
             "ticks": ""
            },
            "colorscale": [
             [
              0,
              "#0d0887"
             ],
             [
              0.1111111111111111,
              "#46039f"
             ],
             [
              0.2222222222222222,
              "#7201a8"
             ],
             [
              0.3333333333333333,
              "#9c179e"
             ],
             [
              0.4444444444444444,
              "#bd3786"
             ],
             [
              0.5555555555555556,
              "#d8576b"
             ],
             [
              0.6666666666666666,
              "#ed7953"
             ],
             [
              0.7777777777777778,
              "#fb9f3a"
             ],
             [
              0.8888888888888888,
              "#fdca26"
             ],
             [
              1,
              "#f0f921"
             ]
            ],
            "type": "heatmap"
           }
          ],
          "heatmapgl": [
           {
            "colorbar": {
             "outlinewidth": 0,
             "ticks": ""
            },
            "colorscale": [
             [
              0,
              "#0d0887"
             ],
             [
              0.1111111111111111,
              "#46039f"
             ],
             [
              0.2222222222222222,
              "#7201a8"
             ],
             [
              0.3333333333333333,
              "#9c179e"
             ],
             [
              0.4444444444444444,
              "#bd3786"
             ],
             [
              0.5555555555555556,
              "#d8576b"
             ],
             [
              0.6666666666666666,
              "#ed7953"
             ],
             [
              0.7777777777777778,
              "#fb9f3a"
             ],
             [
              0.8888888888888888,
              "#fdca26"
             ],
             [
              1,
              "#f0f921"
             ]
            ],
            "type": "heatmapgl"
           }
          ],
          "histogram": [
           {
            "marker": {
             "pattern": {
              "fillmode": "overlay",
              "size": 10,
              "solidity": 0.2
             }
            },
            "type": "histogram"
           }
          ],
          "histogram2d": [
           {
            "colorbar": {
             "outlinewidth": 0,
             "ticks": ""
            },
            "colorscale": [
             [
              0,
              "#0d0887"
             ],
             [
              0.1111111111111111,
              "#46039f"
             ],
             [
              0.2222222222222222,
              "#7201a8"
             ],
             [
              0.3333333333333333,
              "#9c179e"
             ],
             [
              0.4444444444444444,
              "#bd3786"
             ],
             [
              0.5555555555555556,
              "#d8576b"
             ],
             [
              0.6666666666666666,
              "#ed7953"
             ],
             [
              0.7777777777777778,
              "#fb9f3a"
             ],
             [
              0.8888888888888888,
              "#fdca26"
             ],
             [
              1,
              "#f0f921"
             ]
            ],
            "type": "histogram2d"
           }
          ],
          "histogram2dcontour": [
           {
            "colorbar": {
             "outlinewidth": 0,
             "ticks": ""
            },
            "colorscale": [
             [
              0,
              "#0d0887"
             ],
             [
              0.1111111111111111,
              "#46039f"
             ],
             [
              0.2222222222222222,
              "#7201a8"
             ],
             [
              0.3333333333333333,
              "#9c179e"
             ],
             [
              0.4444444444444444,
              "#bd3786"
             ],
             [
              0.5555555555555556,
              "#d8576b"
             ],
             [
              0.6666666666666666,
              "#ed7953"
             ],
             [
              0.7777777777777778,
              "#fb9f3a"
             ],
             [
              0.8888888888888888,
              "#fdca26"
             ],
             [
              1,
              "#f0f921"
             ]
            ],
            "type": "histogram2dcontour"
           }
          ],
          "mesh3d": [
           {
            "colorbar": {
             "outlinewidth": 0,
             "ticks": ""
            },
            "type": "mesh3d"
           }
          ],
          "parcoords": [
           {
            "line": {
             "colorbar": {
              "outlinewidth": 0,
              "ticks": ""
             }
            },
            "type": "parcoords"
           }
          ],
          "pie": [
           {
            "automargin": true,
            "type": "pie"
           }
          ],
          "scatter": [
           {
            "marker": {
             "line": {
              "color": "#283442"
             }
            },
            "type": "scatter"
           }
          ],
          "scatter3d": [
           {
            "line": {
             "colorbar": {
              "outlinewidth": 0,
              "ticks": ""
             }
            },
            "marker": {
             "colorbar": {
              "outlinewidth": 0,
              "ticks": ""
             }
            },
            "type": "scatter3d"
           }
          ],
          "scattercarpet": [
           {
            "marker": {
             "colorbar": {
              "outlinewidth": 0,
              "ticks": ""
             }
            },
            "type": "scattercarpet"
           }
          ],
          "scattergeo": [
           {
            "marker": {
             "colorbar": {
              "outlinewidth": 0,
              "ticks": ""
             }
            },
            "type": "scattergeo"
           }
          ],
          "scattergl": [
           {
            "marker": {
             "line": {
              "color": "#283442"
             }
            },
            "type": "scattergl"
           }
          ],
          "scattermapbox": [
           {
            "marker": {
             "colorbar": {
              "outlinewidth": 0,
              "ticks": ""
             }
            },
            "type": "scattermapbox"
           }
          ],
          "scatterpolar": [
           {
            "marker": {
             "colorbar": {
              "outlinewidth": 0,
              "ticks": ""
             }
            },
            "type": "scatterpolar"
           }
          ],
          "scatterpolargl": [
           {
            "marker": {
             "colorbar": {
              "outlinewidth": 0,
              "ticks": ""
             }
            },
            "type": "scatterpolargl"
           }
          ],
          "scatterternary": [
           {
            "marker": {
             "colorbar": {
              "outlinewidth": 0,
              "ticks": ""
             }
            },
            "type": "scatterternary"
           }
          ],
          "surface": [
           {
            "colorbar": {
             "outlinewidth": 0,
             "ticks": ""
            },
            "colorscale": [
             [
              0,
              "#0d0887"
             ],
             [
              0.1111111111111111,
              "#46039f"
             ],
             [
              0.2222222222222222,
              "#7201a8"
             ],
             [
              0.3333333333333333,
              "#9c179e"
             ],
             [
              0.4444444444444444,
              "#bd3786"
             ],
             [
              0.5555555555555556,
              "#d8576b"
             ],
             [
              0.6666666666666666,
              "#ed7953"
             ],
             [
              0.7777777777777778,
              "#fb9f3a"
             ],
             [
              0.8888888888888888,
              "#fdca26"
             ],
             [
              1,
              "#f0f921"
             ]
            ],
            "type": "surface"
           }
          ],
          "table": [
           {
            "cells": {
             "fill": {
              "color": "#506784"
             },
             "line": {
              "color": "rgb(17,17,17)"
             }
            },
            "header": {
             "fill": {
              "color": "#2a3f5f"
             },
             "line": {
              "color": "rgb(17,17,17)"
             }
            },
            "type": "table"
           }
          ]
         },
         "layout": {
          "annotationdefaults": {
           "arrowcolor": "#f2f5fa",
           "arrowhead": 0,
           "arrowwidth": 1
          },
          "autotypenumbers": "strict",
          "coloraxis": {
           "colorbar": {
            "outlinewidth": 0,
            "ticks": ""
           }
          },
          "colorscale": {
           "diverging": [
            [
             0,
             "#8e0152"
            ],
            [
             0.1,
             "#c51b7d"
            ],
            [
             0.2,
             "#de77ae"
            ],
            [
             0.3,
             "#f1b6da"
            ],
            [
             0.4,
             "#fde0ef"
            ],
            [
             0.5,
             "#f7f7f7"
            ],
            [
             0.6,
             "#e6f5d0"
            ],
            [
             0.7,
             "#b8e186"
            ],
            [
             0.8,
             "#7fbc41"
            ],
            [
             0.9,
             "#4d9221"
            ],
            [
             1,
             "#276419"
            ]
           ],
           "sequential": [
            [
             0,
             "#0d0887"
            ],
            [
             0.1111111111111111,
             "#46039f"
            ],
            [
             0.2222222222222222,
             "#7201a8"
            ],
            [
             0.3333333333333333,
             "#9c179e"
            ],
            [
             0.4444444444444444,
             "#bd3786"
            ],
            [
             0.5555555555555556,
             "#d8576b"
            ],
            [
             0.6666666666666666,
             "#ed7953"
            ],
            [
             0.7777777777777778,
             "#fb9f3a"
            ],
            [
             0.8888888888888888,
             "#fdca26"
            ],
            [
             1,
             "#f0f921"
            ]
           ],
           "sequentialminus": [
            [
             0,
             "#0d0887"
            ],
            [
             0.1111111111111111,
             "#46039f"
            ],
            [
             0.2222222222222222,
             "#7201a8"
            ],
            [
             0.3333333333333333,
             "#9c179e"
            ],
            [
             0.4444444444444444,
             "#bd3786"
            ],
            [
             0.5555555555555556,
             "#d8576b"
            ],
            [
             0.6666666666666666,
             "#ed7953"
            ],
            [
             0.7777777777777778,
             "#fb9f3a"
            ],
            [
             0.8888888888888888,
             "#fdca26"
            ],
            [
             1,
             "#f0f921"
            ]
           ]
          },
          "colorway": [
           "#636efa",
           "#EF553B",
           "#00cc96",
           "#ab63fa",
           "#FFA15A",
           "#19d3f3",
           "#FF6692",
           "#B6E880",
           "#FF97FF",
           "#FECB52"
          ],
          "font": {
           "color": "#f2f5fa"
          },
          "geo": {
           "bgcolor": "rgb(17,17,17)",
           "lakecolor": "rgb(17,17,17)",
           "landcolor": "rgb(17,17,17)",
           "showlakes": true,
           "showland": true,
           "subunitcolor": "#506784"
          },
          "hoverlabel": {
           "align": "left"
          },
          "hovermode": "closest",
          "mapbox": {
           "style": "dark"
          },
          "paper_bgcolor": "rgb(17,17,17)",
          "plot_bgcolor": "rgb(17,17,17)",
          "polar": {
           "angularaxis": {
            "gridcolor": "#506784",
            "linecolor": "#506784",
            "ticks": ""
           },
           "bgcolor": "rgb(17,17,17)",
           "radialaxis": {
            "gridcolor": "#506784",
            "linecolor": "#506784",
            "ticks": ""
           }
          },
          "scene": {
           "xaxis": {
            "backgroundcolor": "rgb(17,17,17)",
            "gridcolor": "#506784",
            "gridwidth": 2,
            "linecolor": "#506784",
            "showbackground": true,
            "ticks": "",
            "zerolinecolor": "#C8D4E3"
           },
           "yaxis": {
            "backgroundcolor": "rgb(17,17,17)",
            "gridcolor": "#506784",
            "gridwidth": 2,
            "linecolor": "#506784",
            "showbackground": true,
            "ticks": "",
            "zerolinecolor": "#C8D4E3"
           },
           "zaxis": {
            "backgroundcolor": "rgb(17,17,17)",
            "gridcolor": "#506784",
            "gridwidth": 2,
            "linecolor": "#506784",
            "showbackground": true,
            "ticks": "",
            "zerolinecolor": "#C8D4E3"
           }
          },
          "shapedefaults": {
           "line": {
            "color": "#f2f5fa"
           }
          },
          "sliderdefaults": {
           "bgcolor": "#C8D4E3",
           "bordercolor": "rgb(17,17,17)",
           "borderwidth": 1,
           "tickwidth": 0
          },
          "ternary": {
           "aaxis": {
            "gridcolor": "#506784",
            "linecolor": "#506784",
            "ticks": ""
           },
           "baxis": {
            "gridcolor": "#506784",
            "linecolor": "#506784",
            "ticks": ""
           },
           "bgcolor": "rgb(17,17,17)",
           "caxis": {
            "gridcolor": "#506784",
            "linecolor": "#506784",
            "ticks": ""
           }
          },
          "title": {
           "x": 0.05
          },
          "updatemenudefaults": {
           "bgcolor": "#506784",
           "borderwidth": 0
          },
          "xaxis": {
           "automargin": true,
           "gridcolor": "#283442",
           "linecolor": "#506784",
           "ticks": "",
           "title": {
            "standoff": 15
           },
           "zerolinecolor": "#283442",
           "zerolinewidth": 2
          },
          "yaxis": {
           "automargin": true,
           "gridcolor": "#283442",
           "linecolor": "#506784",
           "ticks": "",
           "title": {
            "standoff": 15
           },
           "zerolinecolor": "#283442",
           "zerolinewidth": 2
          }
         }
        },
        "title": {
         "text": "Linear Demand: Expected Profit in Simulation 2"
        },
        "xaxis": {
         "title": {
          "text": "Month"
         },
         "type": "category"
        },
        "yaxis": {
         "title": {
          "text": "Expected Profit in Euros (in Millions)"
         }
        }
       }
      }
     },
     "metadata": {},
     "output_type": "display_data"
    }
   ],
   "source": [
    "# Assuming df is your DataFrame containing the data\n",
    "df = df2_sim2.copy()\n",
    "\n",
    "# Aggregating the total demand for Red and White wine across all months for each country\n",
    "red_columns_1 = [col for col in df.columns if 'Red_1' in col]\n",
    "white_columns_1 = [col for col in df.columns if 'White_1' in col]\n",
    "red_columns_2 = [col for col in df.columns if 'Red_2' in col]\n",
    "white_columns_2 = [col for col in df.columns if 'White_2' in col]\n",
    "\n",
    "# Convert 'Month' to datetime for proper sorting and display\n",
    "df['Month'] = pd.to_datetime(df['Month'])\n",
    "\n",
    "# Aggregate monthly total demand for Red and White wine across all countries\n",
    "df['Total_Red_Demand_1'] = df[red_columns_1].sum(axis=1)\n",
    "df['Total_White_Demand_1'] = df[white_columns_1].sum(axis=1)\n",
    "df['Total_Red_Demand_2'] = df[red_columns_2].sum(axis=1)\n",
    "df['Total_White_Demand_2'] = df[white_columns_2].sum(axis=1)\n",
    "\n",
    "# Calculate cumulative sum for each type of wine\n",
    "df['Cumulative_Red_Demand_1'] = df['Total_Red_Demand_1'].cumsum() * 125 # 'Red_Wine_1': 125,\n",
    "df['Cumulative_White_Demand_1'] = df['Total_White_Demand_1'].cumsum() * 90 # 'White_Wine_1': 90,\n",
    "df['Cumulative_Red_Demand_2'] = df['Total_Red_Demand_2'].cumsum() * 260 # 'Red_Wine_2': 260,\n",
    "df['Cumulative_White_Demand_2'] = df['Total_White_Demand_2'].cumsum() * 200 # 'White_Wine_2': 200,\n",
    "\n",
    "# Extracting year-month for the x-axis\n",
    "df['Year_Month'] = df['Month'].dt.strftime('%Y-%m')\n",
    "\n",
    "# Create stacked line plot\n",
    "fig = go.Figure()\n",
    "\n",
    "# Stacked red wine demand 1\n",
    "fig.add_trace(go.Scatter(\n",
    "    x=df['Year_Month'],\n",
    "    y=df['Cumulative_Red_Demand_1'],\n",
    "    mode='lines',\n",
    "    name='Cumulative Profit: Red Wine 1',\n",
    "    stackgroup='one',\n",
    "    line=dict(color='red')\n",
    "))\n",
    "\n",
    "# Stacked white wine demand 1\n",
    "fig.add_trace(go.Scatter(\n",
    "    x=df['Year_Month'],\n",
    "    y=df['Cumulative_White_Demand_1'],\n",
    "    mode='lines',\n",
    "    name='Cumulative Profit: White Wine 1',\n",
    "    stackgroup='one',\n",
    "    line=dict(color='lightgreen')\n",
    "))\n",
    "\n",
    "# Stacked red wine demand 2\n",
    "fig.add_trace(go.Scatter(\n",
    "    x=df['Year_Month'],\n",
    "    y=df['Cumulative_Red_Demand_2'],\n",
    "    mode='lines',\n",
    "    name='Cumulative Profit: Red Wine 2',\n",
    "    stackgroup='one',\n",
    "    line=dict(color='darkred')\n",
    "))\n",
    "\n",
    "# Stacked white wine demand 2\n",
    "fig.add_trace(go.Scatter(\n",
    "    x=df['Year_Month'],\n",
    "    y=df['Cumulative_White_Demand_2'],\n",
    "    mode='lines',\n",
    "    name='Cumulative Profit: White Wine 2',\n",
    "    stackgroup='one',\n",
    "    line=dict(color='green')\n",
    "))\n",
    "\n",
    "fig.update_layout(\n",
    "    title=\"Linear Demand: Expected Profit in Simulation 2\",\n",
    "    xaxis_title=\"Month\",\n",
    "    yaxis_title=\"Expected Profit in Euros (in Millions)\",\n",
    "    hovermode=\"x unified\",\n",
    "    xaxis={'type': 'category'}  # Ensures that months are treated as distinct categories\n",
    ")\n",
    "fig.update_layout(template='plotly_dark')\n",
    "fig.update_layout(\n",
    "    legend=dict(\n",
    "        x=0.9, # Adjusts the x position to be towards the right\n",
    "        y=0.1, # Adjusts the y position to be towards the bottom\n",
    "        orientation=\"h\", # Makes the legend items align horizontally\n",
    "        xanchor='right', # Anchors the legend's right side to the x position\n",
    "        yanchor='bottom' # Anchors the legend's bottom to the y position\n",
    "    )\n",
    ")\n",
    "\n",
    "fig.show()\n"
   ]
  },
  {
   "cell_type": "code",
   "execution_count": null,
   "metadata": {},
   "outputs": [],
   "source": []
  }
 ],
 "metadata": {
  "kernelspec": {
   "display_name": "base",
   "language": "python",
   "name": "python3"
  },
  "language_info": {
   "codemirror_mode": {
    "name": "ipython",
    "version": 3
   },
   "file_extension": ".py",
   "mimetype": "text/x-python",
   "name": "python",
   "nbconvert_exporter": "python",
   "pygments_lexer": "ipython3",
   "version": "3.9.13"
  }
 },
 "nbformat": 4,
 "nbformat_minor": 2
}
